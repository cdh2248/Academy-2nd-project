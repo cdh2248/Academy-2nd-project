{
 "cells": [
  {
   "cell_type": "markdown",
   "id": "23a060db",
   "metadata": {},
   "source": [
    "# 프로젝트"
   ]
  },
  {
   "cell_type": "markdown",
   "id": "37a935c8",
   "metadata": {
    "heading_collapsed": true
   },
   "source": [
    "## 임포트"
   ]
  },
  {
   "cell_type": "code",
   "execution_count": 575,
   "id": "90aad14c",
   "metadata": {
    "hidden": true
   },
   "outputs": [],
   "source": [
    "# 행과 열로 이루어진 데이터 객체를 만들어 다룰 수 있게 되며 보다 \n",
    "# 안정적으로 대용량의 데이터들을 처리하는데 매우 편리한 도구 입니다.\n",
    "import pandas as pd\n",
    "import seaborn as sns\n",
    "import matplotlib.pyplot as plt\n",
    "from datetime import datetime\n",
    "from matplotlib import font_manager,rc\n",
    "from IPython.display import display, HTML\n",
    "HTML('<style>.output {flex-direction: row;}</style>')\n",
    "import numpy as np\n",
    "import re\n",
    "import folium\n",
    "from folium import Marker\n",
    "from folium.plugins import MarkerCluster\n",
    "plt.rcParams['font.family'] = 'Malgun Gothic'\n",
    "font_location = \"C:\\Windows\\Fonts\\malgun.ttf\"\n",
    "font_name = font_manager.FontProperties(fname=font_location).get_name()\n",
    "rc('font',family=font_name)\n",
    "plt.rcParams['axes.unicode_minus'] = False\n",
    "import matplotlib as mpl"
   ]
  },
  {
   "cell_type": "markdown",
   "id": "d8ef2c5b",
   "metadata": {},
   "source": [
    "##  데이터프레임 생성"
   ]
  },
  {
   "cell_type": "code",
   "execution_count": 576,
   "id": "da14c25c",
   "metadata": {},
   "outputs": [],
   "source": [
    "frequency_2014 = pd.read_csv(\"축제 통계/2014 축제 방문 빈도.csv\", encoding='euc-kr',skiprows=1)"
   ]
  },
  {
   "cell_type": "code",
   "execution_count": 577,
   "id": "06fee186",
   "metadata": {},
   "outputs": [],
   "source": [
    "theme = pd.read_csv(\"축제 통계/2016~2021 방문 축제 주제.csv\", encoding='euc-kr')"
   ]
  },
  {
   "cell_type": "code",
   "execution_count": 578,
   "id": "3b80f961",
   "metadata": {},
   "outputs": [],
   "source": [
    "theme_2016 = pd.read_csv(\"축제 통계/2016 방문 축제 주제.csv\", encoding='euc-kr')"
   ]
  },
  {
   "cell_type": "code",
   "execution_count": 579,
   "id": "c53cf119",
   "metadata": {},
   "outputs": [],
   "source": [
    "theme_2018 = pd.read_csv(\"축제 통계/2018 방문 축제 주제.csv\", encoding='euc-kr')"
   ]
  },
  {
   "cell_type": "code",
   "execution_count": 580,
   "id": "d253c8d6",
   "metadata": {},
   "outputs": [],
   "source": [
    "theme_2019 = pd.read_csv(\"축제 통계/2019 방문 축제 주제.csv\", encoding='euc-kr')"
   ]
  },
  {
   "cell_type": "code",
   "execution_count": 581,
   "id": "da6de438",
   "metadata": {},
   "outputs": [],
   "source": [
    "theme_2020 = pd.read_csv(\"축제 통계/2020 방문 축제 주제.csv\", encoding='euc-kr')"
   ]
  },
  {
   "cell_type": "code",
   "execution_count": 582,
   "id": "3912e2df",
   "metadata": {},
   "outputs": [],
   "source": [
    "theme_2021 = pd.read_csv(\"축제 통계/2021 방문 축제 주제.csv\", encoding='euc-kr')"
   ]
  },
  {
   "cell_type": "code",
   "execution_count": 583,
   "id": "69e65203",
   "metadata": {},
   "outputs": [],
   "source": [
    "satisfaction = pd.read_csv(\"축제 통계/2014~2021 지역 축제 만족도.csv\", encoding='euc-kr')"
   ]
  },
  {
   "cell_type": "code",
   "execution_count": 584,
   "id": "32cb2696",
   "metadata": {},
   "outputs": [],
   "source": [
    "satisfaction_2014 = pd.read_csv(\"축제 통계/2014 지역 축제 만족도.csv\", encoding='euc-kr')"
   ]
  },
  {
   "cell_type": "code",
   "execution_count": 585,
   "id": "9c093723",
   "metadata": {},
   "outputs": [],
   "source": [
    "satisfaction_2016 = pd.read_csv(\"축제 통계/2016 지역 축제 만족도.csv\", encoding='euc-kr')"
   ]
  },
  {
   "cell_type": "code",
   "execution_count": 586,
   "id": "2a2c390b",
   "metadata": {},
   "outputs": [],
   "source": [
    "satisfaction_2018 = pd.read_csv(\"축제 통계/2018 지역 축제 만족도.csv\", encoding='euc-kr')"
   ]
  },
  {
   "cell_type": "code",
   "execution_count": 587,
   "id": "2240664d",
   "metadata": {},
   "outputs": [],
   "source": [
    "satisfaction_2019 = pd.read_csv(\"축제 통계/2019 지역 축제 만족도.csv\", encoding='euc-kr')"
   ]
  },
  {
   "cell_type": "code",
   "execution_count": 588,
   "id": "57f96e3c",
   "metadata": {},
   "outputs": [],
   "source": [
    "satisfaction_2020 = pd.read_csv(\"축제 통계/2020 지역 축제 만족도.csv\", encoding='euc-kr')"
   ]
  },
  {
   "cell_type": "code",
   "execution_count": 589,
   "id": "5db0e5cc",
   "metadata": {},
   "outputs": [],
   "source": [
    "satisfaction_2021 = pd.read_csv(\"축제 통계/2021 지역 축제 만족도.csv\", encoding='euc-kr')"
   ]
  },
  {
   "cell_type": "code",
   "execution_count": 590,
   "id": "5f8eb637",
   "metadata": {},
   "outputs": [],
   "source": [
    "visit = pd.read_csv(\"축제 통계/2014~2021 축제 관람 여부.csv\", encoding='euc-kr')"
   ]
  },
  {
   "cell_type": "code",
   "execution_count": 591,
   "id": "bf4b2228",
   "metadata": {},
   "outputs": [],
   "source": [
    "visit_2014 = pd.read_csv(\"축제 통계/2014 축제 관람 여부.csv\", encoding='euc-kr')"
   ]
  },
  {
   "cell_type": "code",
   "execution_count": 592,
   "id": "122f115e",
   "metadata": {},
   "outputs": [],
   "source": [
    "visit_2016 = pd.read_csv(\"축제 통계/2016 축제 관람 여부.csv\", encoding='euc-kr')"
   ]
  },
  {
   "cell_type": "code",
   "execution_count": 593,
   "id": "86e07335",
   "metadata": {},
   "outputs": [],
   "source": [
    "visit_2018 = pd.read_csv(\"축제 통계/2018 축제 관람 여부.csv\", encoding='euc-kr')"
   ]
  },
  {
   "cell_type": "code",
   "execution_count": 594,
   "id": "6e721dfe",
   "metadata": {},
   "outputs": [],
   "source": [
    "visit_2019 = pd.read_csv(\"축제 통계/2019 축제 관람 여부.csv\", encoding='euc-kr')"
   ]
  },
  {
   "cell_type": "code",
   "execution_count": 595,
   "id": "277e46be",
   "metadata": {},
   "outputs": [],
   "source": [
    "visit_2020 = pd.read_csv(\"축제 통계/2020 축제 관람 여부.csv\", encoding='euc-kr')"
   ]
  },
  {
   "cell_type": "code",
   "execution_count": 596,
   "id": "33221379",
   "metadata": {},
   "outputs": [],
   "source": [
    "visit_2021 = pd.read_csv(\"축제 통계/2021 축제 관람 여부.csv\", encoding='euc-kr')"
   ]
  },
  {
   "cell_type": "code",
   "execution_count": 597,
   "id": "f42f4d79",
   "metadata": {},
   "outputs": [],
   "source": [
    "supplement = pd.read_csv(\"축제 통계/1997~2012 지역 축제 보완점.csv\", encoding='euc-kr')"
   ]
  },
  {
   "cell_type": "markdown",
   "id": "c1a3b600",
   "metadata": {},
   "source": [
    "## 데이터 전처리"
   ]
  },
  {
   "cell_type": "raw",
   "id": "080718d9",
   "metadata": {},
   "source": [
    "frequency # 빈도               14\n",
    "theme # 주제(테마)             16, 18, 19, 20, 21\n",
    "satisfaction # 만족도          14, 16, 18, 19, 20, 21\n",
    "visit # 방문                   14, 16, 18, 19, 20, 21\n",
    "supplement # 보완              1997~2012"
   ]
  },
  {
   "cell_type": "raw",
   "id": "df5b0528",
   "metadata": {},
   "source": [
    "년도별로 \n",
    "연령대별로 선호 축제\n",
    "가구원수별 선호 축제\n",
    "소득별 선호 축제\n",
    "지역별 선호 축제\n",
    "\n",
    "연령별, 성별별 관람 여부\n",
    "연령별, 성별별 방문 빈도\n",
    "연령별, 성별별 보완점 여부"
   ]
  },
  {
   "cell_type": "markdown",
   "id": "0b65428f",
   "metadata": {},
   "source": [
    "### 년도별로 분리"
   ]
  },
  {
   "cell_type": "markdown",
   "id": "e0f5573f",
   "metadata": {},
   "source": [
    "#### 연령대별 선호 축제"
   ]
  },
  {
   "cell_type": "code",
   "execution_count": 598,
   "id": "7b6b23f1",
   "metadata": {},
   "outputs": [],
   "source": [
    "themes = [theme_2016,theme_2018,theme_2019,theme_2020,theme_2021]\n",
    "themes_list = []"
   ]
  },
  {
   "cell_type": "code",
   "execution_count": 599,
   "id": "15d786f3",
   "metadata": {},
   "outputs": [
    {
     "ename": "ValueError",
     "evalue": "Can only compare identically-labeled (both index and columns) DataFrame objects",
     "output_type": "error",
     "traceback": [
      "\u001b[1;31m---------------------------------------------------------------------------\u001b[0m",
      "\u001b[1;31mValueError\u001b[0m                                Traceback (most recent call last)",
      "Cell \u001b[1;32mIn[599], line 8\u001b[0m\n\u001b[0;32m      6\u001b[0m theme \u001b[38;5;241m=\u001b[39m theme\u001b[38;5;241m.\u001b[39mrename_axis(\u001b[38;5;124m'\u001b[39m\u001b[38;5;124m통계분류\u001b[39m\u001b[38;5;124m'\u001b[39m) \u001b[38;5;66;03m# 인덱스 이름 설정\u001b[39;00m\n\u001b[0;32m      7\u001b[0m theme \u001b[38;5;241m=\u001b[39m theme\u001b[38;5;241m.\u001b[39mloc[[\u001b[38;5;124m'\u001b[39m\u001b[38;5;124m남성\u001b[39m\u001b[38;5;124m'\u001b[39m,\u001b[38;5;124m'\u001b[39m\u001b[38;5;124m여성\u001b[39m\u001b[38;5;124m'\u001b[39m]] \u001b[38;5;66;03m# 남성 여성 제외 전체 행 삭제\u001b[39;00m\n\u001b[1;32m----> 8\u001b[0m \u001b[38;5;28;01mif\u001b[39;00m \u001b[43mtheme\u001b[49m\u001b[43m \u001b[49m\u001b[38;5;241;43m==\u001b[39;49m\u001b[43m \u001b[49m\u001b[43mtheme_2016\u001b[49m :\n\u001b[0;32m      9\u001b[0m     theme_2016_gender \u001b[38;5;241m=\u001b[39m theme\n\u001b[0;32m     10\u001b[0m     \u001b[38;5;28;01mcontinue\u001b[39;00m\n",
      "File \u001b[1;32m~\\anaconda\\lib\\site-packages\\pandas\\core\\ops\\common.py:81\u001b[0m, in \u001b[0;36m_unpack_zerodim_and_defer.<locals>.new_method\u001b[1;34m(self, other)\u001b[0m\n\u001b[0;32m     77\u001b[0m             \u001b[38;5;28;01mreturn\u001b[39;00m \u001b[38;5;28mNotImplemented\u001b[39m\n\u001b[0;32m     79\u001b[0m other \u001b[38;5;241m=\u001b[39m item_from_zerodim(other)\n\u001b[1;32m---> 81\u001b[0m \u001b[38;5;28;01mreturn\u001b[39;00m \u001b[43mmethod\u001b[49m\u001b[43m(\u001b[49m\u001b[38;5;28;43mself\u001b[39;49m\u001b[43m,\u001b[49m\u001b[43m \u001b[49m\u001b[43mother\u001b[49m\u001b[43m)\u001b[49m\n",
      "File \u001b[1;32m~\\anaconda\\lib\\site-packages\\pandas\\core\\arraylike.py:40\u001b[0m, in \u001b[0;36mOpsMixin.__eq__\u001b[1;34m(self, other)\u001b[0m\n\u001b[0;32m     38\u001b[0m \u001b[38;5;129m@unpack_zerodim_and_defer\u001b[39m(\u001b[38;5;124m\"\u001b[39m\u001b[38;5;124m__eq__\u001b[39m\u001b[38;5;124m\"\u001b[39m)\n\u001b[0;32m     39\u001b[0m \u001b[38;5;28;01mdef\u001b[39;00m \u001b[38;5;21m__eq__\u001b[39m(\u001b[38;5;28mself\u001b[39m, other):\n\u001b[1;32m---> 40\u001b[0m     \u001b[38;5;28;01mreturn\u001b[39;00m \u001b[38;5;28;43mself\u001b[39;49m\u001b[38;5;241;43m.\u001b[39;49m\u001b[43m_cmp_method\u001b[49m\u001b[43m(\u001b[49m\u001b[43mother\u001b[49m\u001b[43m,\u001b[49m\u001b[43m \u001b[49m\u001b[43moperator\u001b[49m\u001b[38;5;241;43m.\u001b[39;49m\u001b[43meq\u001b[49m\u001b[43m)\u001b[49m\n",
      "File \u001b[1;32m~\\anaconda\\lib\\site-packages\\pandas\\core\\frame.py:7442\u001b[0m, in \u001b[0;36mDataFrame._cmp_method\u001b[1;34m(self, other, op)\u001b[0m\n\u001b[0;32m   7439\u001b[0m \u001b[38;5;28;01mdef\u001b[39;00m \u001b[38;5;21m_cmp_method\u001b[39m(\u001b[38;5;28mself\u001b[39m, other, op):\n\u001b[0;32m   7440\u001b[0m     axis: Literal[\u001b[38;5;241m1\u001b[39m] \u001b[38;5;241m=\u001b[39m \u001b[38;5;241m1\u001b[39m  \u001b[38;5;66;03m# only relevant for Series other case\u001b[39;00m\n\u001b[1;32m-> 7442\u001b[0m     \u001b[38;5;28mself\u001b[39m, other \u001b[38;5;241m=\u001b[39m \u001b[43mops\u001b[49m\u001b[38;5;241;43m.\u001b[39;49m\u001b[43malign_method_FRAME\u001b[49m\u001b[43m(\u001b[49m\u001b[38;5;28;43mself\u001b[39;49m\u001b[43m,\u001b[49m\u001b[43m \u001b[49m\u001b[43mother\u001b[49m\u001b[43m,\u001b[49m\u001b[43m \u001b[49m\u001b[43maxis\u001b[49m\u001b[43m,\u001b[49m\u001b[43m \u001b[49m\u001b[43mflex\u001b[49m\u001b[38;5;241;43m=\u001b[39;49m\u001b[38;5;28;43;01mFalse\u001b[39;49;00m\u001b[43m,\u001b[49m\u001b[43m \u001b[49m\u001b[43mlevel\u001b[49m\u001b[38;5;241;43m=\u001b[39;49m\u001b[38;5;28;43;01mNone\u001b[39;49;00m\u001b[43m)\u001b[49m\n\u001b[0;32m   7444\u001b[0m     \u001b[38;5;66;03m# See GH#4537 for discussion of scalar op behavior\u001b[39;00m\n\u001b[0;32m   7445\u001b[0m     new_data \u001b[38;5;241m=\u001b[39m \u001b[38;5;28mself\u001b[39m\u001b[38;5;241m.\u001b[39m_dispatch_frame_op(other, op, axis\u001b[38;5;241m=\u001b[39maxis)\n",
      "File \u001b[1;32m~\\anaconda\\lib\\site-packages\\pandas\\core\\ops\\__init__.py:313\u001b[0m, in \u001b[0;36malign_method_FRAME\u001b[1;34m(left, right, axis, flex, level)\u001b[0m\n\u001b[0;32m    311\u001b[0m             left, right \u001b[38;5;241m=\u001b[39m left\u001b[38;5;241m.\u001b[39malign(right, join\u001b[38;5;241m=\u001b[39m\u001b[38;5;124m\"\u001b[39m\u001b[38;5;124mouter\u001b[39m\u001b[38;5;124m\"\u001b[39m, level\u001b[38;5;241m=\u001b[39mlevel, copy\u001b[38;5;241m=\u001b[39m\u001b[38;5;28;01mFalse\u001b[39;00m)\n\u001b[0;32m    312\u001b[0m         \u001b[38;5;28;01melse\u001b[39;00m:\n\u001b[1;32m--> 313\u001b[0m             \u001b[38;5;28;01mraise\u001b[39;00m \u001b[38;5;167;01mValueError\u001b[39;00m(\n\u001b[0;32m    314\u001b[0m                 \u001b[38;5;124m\"\u001b[39m\u001b[38;5;124mCan only compare identically-labeled (both index and columns) \u001b[39m\u001b[38;5;124m\"\u001b[39m\n\u001b[0;32m    315\u001b[0m                 \u001b[38;5;124m\"\u001b[39m\u001b[38;5;124mDataFrame objects\u001b[39m\u001b[38;5;124m\"\u001b[39m\n\u001b[0;32m    316\u001b[0m             )\n\u001b[0;32m    317\u001b[0m \u001b[38;5;28;01melif\u001b[39;00m \u001b[38;5;28misinstance\u001b[39m(right, ABCSeries):\n\u001b[0;32m    318\u001b[0m     \u001b[38;5;66;03m# axis=1 is default for DataFrame-with-Series op\u001b[39;00m\n\u001b[0;32m    319\u001b[0m     axis \u001b[38;5;241m=\u001b[39m left\u001b[38;5;241m.\u001b[39m_get_axis_number(axis) \u001b[38;5;28;01mif\u001b[39;00m axis \u001b[38;5;129;01mis\u001b[39;00m \u001b[38;5;129;01mnot\u001b[39;00m \u001b[38;5;28;01mNone\u001b[39;00m \u001b[38;5;28;01melse\u001b[39;00m \u001b[38;5;241m1\u001b[39m\n",
      "\u001b[1;31mValueError\u001b[0m: Can only compare identically-labeled (both index and columns) DataFrame objects"
     ]
    }
   ],
   "source": [
    "for theme in themes :\n",
    "    theme.columns = theme.iloc[0] # 0행을 컬럼으로 설정\n",
    "    theme = theme[1:].reset_index(drop=True)  # 첫번째 행 삭제후 인덱스 재설정\n",
    "    theme = theme.set_index(theme['통계분류(2)']) # 통계분류(2)를 인덱스로 설정\n",
    "    theme = theme.drop(columns=['통계분류(1)', '통계분류(2)','표본수'])\n",
    "    theme = theme.rename_axis('통계분류') # 인덱스 이름 설정\n",
    "    theme = theme.loc[['남성','여성']] # 남성 여성 제외 전체 행 삭제\n",
    "    if theme == theme_2016 :\n",
    "        theme_2016_gender = theme\n",
    "        continue\n",
    "#     elif theme == themes[1] : \n",
    "#         theme_2018_gender = theme\n",
    "#         continue\n",
    "#     elif theme == themes[2] : \n",
    "#         theme_2019_gender = theme\n",
    "#         continue\n",
    "#     elif theme == themes[3] : \n",
    "#         theme_2020_gender = theme\n",
    "#         continue\n",
    "#     elif theme == themes[4] : \n",
    "#         theme_2021_gender = theme\n",
    "#         continue"
   ]
  },
  {
   "cell_type": "code",
   "execution_count": null,
   "id": "5e8e7ae6",
   "metadata": {},
   "outputs": [],
   "source": [
    "theme_2016_gender"
   ]
  },
  {
   "cell_type": "code",
   "execution_count": null,
   "id": "cf71dd7d",
   "metadata": {},
   "outputs": [],
   "source": [
    "theme_2018_gender"
   ]
  },
  {
   "cell_type": "code",
   "execution_count": null,
   "id": "d9a1d5f8",
   "metadata": {},
   "outputs": [],
   "source": [
    "theme_2019_gender"
   ]
  },
  {
   "cell_type": "markdown",
   "id": "cac261f3",
   "metadata": {},
   "source": [
    "#### 가구원수별 선호 축제"
   ]
  },
  {
   "cell_type": "code",
   "execution_count": null,
   "id": "983aa327",
   "metadata": {},
   "outputs": [],
   "source": [
    "for theme in themes :\n",
    "    theme.columns = theme.iloc[0]\n",
    "    theme = theme[1:].reset_index(drop=True) \n",
    "    theme = theme.set_index(theme['통계분류(2)'])\n",
    "    theme = theme.drop(columns=['통계분류(1)', '통계분류(2)','표본수'])\n",
    "    theme = theme.rename_axis('통계분류')\n",
    "    theme = theme.loc[['남성','여성']]\n",
    "    themes_list.append(theme)"
   ]
  }
 ],
 "metadata": {
  "kernelspec": {
   "display_name": "Python 3 (ipykernel)",
   "language": "python",
   "name": "python3"
  },
  "language_info": {
   "codemirror_mode": {
    "name": "ipython",
    "version": 3
   },
   "file_extension": ".py",
   "mimetype": "text/x-python",
   "name": "python",
   "nbconvert_exporter": "python",
   "pygments_lexer": "ipython3",
   "version": "3.10.11"
  }
 },
 "nbformat": 4,
 "nbformat_minor": 5
}
