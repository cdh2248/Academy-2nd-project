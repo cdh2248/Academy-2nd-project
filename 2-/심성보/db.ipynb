{
 "cells": [
  {
   "cell_type": "code",
   "execution_count": 1,
   "id": "45c82000",
   "metadata": {
    "ExecuteTime": {
     "end_time": "2023-07-14T06:07:06.811774Z",
     "start_time": "2023-07-14T06:07:05.386213Z"
    }
   },
   "outputs": [],
   "source": [
    "# 목적: 열 이름 재정의, 열순서 재정의\n",
    "import requests\n",
    "import json\n",
    "from datetime import datetime, timedelta\n",
    "\n",
    "import pandas as pd\n",
    "import cx_Oracle\n",
    "from flask import Flask, request\n",
    "from flask_restful import Resource, Api\n",
    "from flask import Response\n",
    "import asyncio\n",
    "import websockets\n",
    "import aioconsole\n"
   ]
  },
  {
   "cell_type": "code",
   "execution_count": null,
   "id": "b4531d9f",
   "metadata": {},
   "outputs": [],
   "source": []
  },
  {
   "cell_type": "code",
   "execution_count": 28,
   "id": "f0245c7d",
   "metadata": {
    "ExecuteTime": {
     "end_time": "2023-07-14T07:04:50.468374Z",
     "start_time": "2023-07-14T07:04:50.448478Z"
    }
   },
   "outputs": [],
   "source": [
    "\n",
    "def preprocessed_df_to_oracle(df):\n",
    "    con = cx_Oracle.connect('project_thejoeun/1541@localhost:1521/xe')\n",
    "    cur = con.cursor()\n",
    "    # sql_insert = '''\n",
    "    #         insert into weather(DATE_TIME, NX, NY, 시간1_강수량, 강수형태, 기온, 습도, 풍향,풍속,동서바람성분,남북바람성분)\n",
    "    #         values(:DATE_TIME, :NX, :NY, :시간1_강수량, :강수형태, :기온, :습도, :풍향,:풍속,:동서바람성분,:남북바람성분)\n",
    "    #         '''\n",
    "    sql_insert = '''\n",
    "            insert into restaurants(소재지면적, 소재지우편번호, 도로명전체주소,도로명우편번호, 사업장명, 위생업태명,경도,위도) \n",
    "            values(:소재지면적, :소재지우편번호, :도로명전체주소,:도로명우편번호, :사업장명, :위생업태명,:경도,:위도)\n",
    "            '''\n",
    "    for a in range(0,len(df)):\n",
    "        소재지면적 = int(df.iloc[a]['소재지면적']) # 현재 데이터 프레임의 행인덱스가 date_time이므로 loc가 안된다.\n",
    "        소재지우편번호 = df.iloc[a]['소재지우편번호']\n",
    "        도로명전체주소 = df.iloc[a]['도로명전체주소']\n",
    "        도로명우편번호=int(df.iloc[a]['도로명우편번호'])\n",
    "        사업장명 = df.iloc[a]['사업장명']\n",
    "        위생업태명 = df.iloc[a]['위생업태명']\n",
    "        경도 = int(df.iloc[a]['경도'])\n",
    "        위도 = int(df.iloc[a]['위도'])\n",
    "\n",
    "        cur.execute(sql_insert,\n",
    "                    (   소재지면적, 소재지우편번호, 도로명전체주소, 도로명우편번호, 사업장명,\n",
    "                        위생업태명, 경도, 위도 )\n",
    "                    )\n",
    "\n",
    "\n",
    "\n",
    "        con.commit()\n",
    "    cur.close()\n",
    "    con.close()\n"
   ]
  },
  {
   "cell_type": "code",
   "execution_count": null,
   "id": "630170ac",
   "metadata": {},
   "outputs": [],
   "source": []
  },
  {
   "cell_type": "code",
   "execution_count": 19,
   "id": "b4de6842",
   "metadata": {
    "ExecuteTime": {
     "end_time": "2023-07-14T07:02:00.919760Z",
     "start_time": "2023-07-14T07:01:58.463714Z"
    }
   },
   "outputs": [
    {
     "data": {
      "text/plain": [
       "(608506, 8)"
      ]
     },
     "execution_count": 19,
     "metadata": {},
     "output_type": "execute_result"
    }
   ],
   "source": [
    "\n",
    "df_main=pd.read_csv('main_cafe.csv', encoding='utf8')\n",
    "df_main.shape\n"
   ]
  },
  {
   "cell_type": "code",
   "execution_count": 3,
   "id": "1d063267",
   "metadata": {
    "ExecuteTime": {
     "end_time": "2023-07-14T06:18:38.983127Z",
     "start_time": "2023-07-14T06:18:38.947978Z"
    }
   },
   "outputs": [
    {
     "data": {
      "text/html": [
       "<div>\n",
       "<style scoped>\n",
       "    .dataframe tbody tr th:only-of-type {\n",
       "        vertical-align: middle;\n",
       "    }\n",
       "\n",
       "    .dataframe tbody tr th {\n",
       "        vertical-align: top;\n",
       "    }\n",
       "\n",
       "    .dataframe thead th {\n",
       "        text-align: right;\n",
       "    }\n",
       "</style>\n",
       "<table border=\"1\" class=\"dataframe\">\n",
       "  <thead>\n",
       "    <tr style=\"text-align: right;\">\n",
       "      <th></th>\n",
       "      <th>소재지면적</th>\n",
       "      <th>소재지우편번호</th>\n",
       "      <th>도로명전체주소</th>\n",
       "      <th>도로명우편번호</th>\n",
       "      <th>사업장명</th>\n",
       "      <th>위생업태명</th>\n",
       "      <th>경도</th>\n",
       "      <th>위도</th>\n",
       "    </tr>\n",
       "  </thead>\n",
       "  <tbody>\n",
       "    <tr>\n",
       "      <th>0</th>\n",
       "      <td>27.50</td>\n",
       "      <td>461-811</td>\n",
       "      <td>경기도 성남시 수정구 산성대로295번길 9, 1(일부)층 (신흥동)</td>\n",
       "      <td>13354.0</td>\n",
       "      <td>해피딜리버리(Happy delivery)</td>\n",
       "      <td>한식</td>\n",
       "      <td>127.146131</td>\n",
       "      <td>37.442487</td>\n",
       "    </tr>\n",
       "    <tr>\n",
       "      <th>1</th>\n",
       "      <td>82.95</td>\n",
       "      <td>456-823</td>\n",
       "      <td>경기도 안성시 공도읍 공도3로 9-9, 공도 일번가타워 1층 107호</td>\n",
       "      <td>17561.0</td>\n",
       "      <td>79대포 안성공도점</td>\n",
       "      <td>호프/통닭</td>\n",
       "      <td>127.166656</td>\n",
       "      <td>37.000065</td>\n",
       "    </tr>\n",
       "    <tr>\n",
       "      <th>2</th>\n",
       "      <td>19.34</td>\n",
       "      <td>456-831</td>\n",
       "      <td>경기도 안성시 대덕면 중앙대학로 116-1, 2층</td>\n",
       "      <td>17547.0</td>\n",
       "      <td>맛있어2(Masisso2)</td>\n",
       "      <td>한식</td>\n",
       "      <td>127.220998</td>\n",
       "      <td>37.001180</td>\n",
       "    </tr>\n",
       "    <tr>\n",
       "      <th>3</th>\n",
       "      <td>40.00</td>\n",
       "      <td>150-829</td>\n",
       "      <td>서울특별시 영등포구 도신로33길 11, 1층 (도림동)</td>\n",
       "      <td>7368.0</td>\n",
       "      <td>푸드 딜리버리 영등포점</td>\n",
       "      <td>한식</td>\n",
       "      <td>126.904280</td>\n",
       "      <td>37.509676</td>\n",
       "    </tr>\n",
       "    <tr>\n",
       "      <th>4</th>\n",
       "      <td>65.00</td>\n",
       "      <td>626-812</td>\n",
       "      <td>경상남도 양산시 물금읍 버들2길 7-13, 1층 일부</td>\n",
       "      <td>50657.0</td>\n",
       "      <td>수벙샌드위치</td>\n",
       "      <td>기타</td>\n",
       "      <td>128.985118</td>\n",
       "      <td>35.306876</td>\n",
       "    </tr>\n",
       "    <tr>\n",
       "      <th>...</th>\n",
       "      <td>...</td>\n",
       "      <td>...</td>\n",
       "      <td>...</td>\n",
       "      <td>...</td>\n",
       "      <td>...</td>\n",
       "      <td>...</td>\n",
       "      <td>...</td>\n",
       "      <td>...</td>\n",
       "    </tr>\n",
       "    <tr>\n",
       "      <th>608501</th>\n",
       "      <td>68.50</td>\n",
       "      <td>502-155</td>\n",
       "      <td>광주광역시 서구 용두난산길 46, 1층 (용두동)</td>\n",
       "      <td>62078.0</td>\n",
       "      <td>원아가든</td>\n",
       "      <td>한식</td>\n",
       "      <td>126.815168</td>\n",
       "      <td>35.104255</td>\n",
       "    </tr>\n",
       "    <tr>\n",
       "      <th>608502</th>\n",
       "      <td>85.00</td>\n",
       "      <td>503-822</td>\n",
       "      <td>광주광역시 남구 제중로 39, 2층 (양림동)</td>\n",
       "      <td>61643.0</td>\n",
       "      <td>뚱스넥</td>\n",
       "      <td>한식</td>\n",
       "      <td>126.911078</td>\n",
       "      <td>35.138094</td>\n",
       "    </tr>\n",
       "    <tr>\n",
       "      <th>608503</th>\n",
       "      <td>118.98</td>\n",
       "      <td>503-831</td>\n",
       "      <td>광주광역시 남구 군분로 26-1, 1층 (월산동)</td>\n",
       "      <td>61615.0</td>\n",
       "      <td>갈비명가아라네</td>\n",
       "      <td>한식</td>\n",
       "      <td>126.892182</td>\n",
       "      <td>35.136216</td>\n",
       "    </tr>\n",
       "    <tr>\n",
       "      <th>608504</th>\n",
       "      <td>26.40</td>\n",
       "      <td>502-837</td>\n",
       "      <td>광주광역시 서구 월드컵4강로116번길 5, 1층 (화정동)</td>\n",
       "      <td>61984.0</td>\n",
       "      <td>승진이네</td>\n",
       "      <td>한식</td>\n",
       "      <td>126.869767</td>\n",
       "      <td>35.147241</td>\n",
       "    </tr>\n",
       "    <tr>\n",
       "      <th>608505</th>\n",
       "      <td>82.60</td>\n",
       "      <td>502-834</td>\n",
       "      <td>광주광역시 서구 내방로350번길 10, 1층 (화정동)</td>\n",
       "      <td>61977.0</td>\n",
       "      <td>명가</td>\n",
       "      <td>한식</td>\n",
       "      <td>126.875798</td>\n",
       "      <td>35.156462</td>\n",
       "    </tr>\n",
       "  </tbody>\n",
       "</table>\n",
       "<p>608506 rows × 8 columns</p>\n",
       "</div>"
      ],
      "text/plain": [
       "         소재지면적  소재지우편번호                                 도로명전체주소  도로명우편번호  \\\n",
       "0        27.50  461-811   경기도 성남시 수정구 산성대로295번길 9, 1(일부)층 (신흥동)  13354.0   \n",
       "1        82.95  456-823  경기도 안성시 공도읍 공도3로 9-9, 공도 일번가타워 1층 107호  17561.0   \n",
       "2        19.34  456-831             경기도 안성시 대덕면 중앙대학로 116-1, 2층  17547.0   \n",
       "3        40.00  150-829          서울특별시 영등포구 도신로33길 11, 1층 (도림동)   7368.0   \n",
       "4        65.00  626-812           경상남도 양산시 물금읍 버들2길 7-13, 1층 일부  50657.0   \n",
       "...        ...      ...                                     ...      ...   \n",
       "608501   68.50  502-155             광주광역시 서구 용두난산길 46, 1층 (용두동)  62078.0   \n",
       "608502   85.00  503-822               광주광역시 남구 제중로 39, 2층 (양림동)  61643.0   \n",
       "608503  118.98  503-831             광주광역시 남구 군분로 26-1, 1층 (월산동)  61615.0   \n",
       "608504   26.40  502-837        광주광역시 서구 월드컵4강로116번길 5, 1층 (화정동)  61984.0   \n",
       "608505   82.60  502-834          광주광역시 서구 내방로350번길 10, 1층 (화정동)  61977.0   \n",
       "\n",
       "                          사업장명  위생업태명          경도         위도  \n",
       "0       해피딜리버리(Happy delivery)     한식  127.146131  37.442487  \n",
       "1                   79대포 안성공도점  호프/통닭  127.166656  37.000065  \n",
       "2               맛있어2(Masisso2)     한식  127.220998  37.001180  \n",
       "3                 푸드 딜리버리 영등포점     한식  126.904280  37.509676  \n",
       "4                       수벙샌드위치     기타  128.985118  35.306876  \n",
       "...                        ...    ...         ...        ...  \n",
       "608501                    원아가든     한식  126.815168  35.104255  \n",
       "608502                     뚱스넥     한식  126.911078  35.138094  \n",
       "608503                 갈비명가아라네     한식  126.892182  35.136216  \n",
       "608504                    승진이네     한식  126.869767  35.147241  \n",
       "608505                      명가     한식  126.875798  35.156462  \n",
       "\n",
       "[608506 rows x 8 columns]"
      ]
     },
     "execution_count": 3,
     "metadata": {},
     "output_type": "execute_result"
    }
   ],
   "source": [
    "df_main"
   ]
  },
  {
   "cell_type": "code",
   "execution_count": 34,
   "id": "f90f7ef8",
   "metadata": {
    "ExecuteTime": {
     "end_time": "2023-07-14T07:19:17.364304Z",
     "start_time": "2023-07-14T07:08:57.791897Z"
    },
    "scrolled": true
   },
   "outputs": [],
   "source": [
    "preprocessed_df_to_oracle(df_main)"
   ]
  },
  {
   "cell_type": "code",
   "execution_count": 12,
   "id": "f0061661",
   "metadata": {
    "ExecuteTime": {
     "end_time": "2023-07-14T06:58:15.306991Z",
     "start_time": "2023-07-14T06:58:15.298013Z"
    }
   },
   "outputs": [
    {
     "data": {
      "text/plain": [
       "27.5"
      ]
     },
     "execution_count": 12,
     "metadata": {},
     "output_type": "execute_result"
    }
   ],
   "source": [
    "df_main.iloc[0]['소재지면적']"
   ]
  },
  {
   "cell_type": "code",
   "execution_count": 25,
   "id": "d494decf",
   "metadata": {
    "ExecuteTime": {
     "end_time": "2023-07-14T07:03:10.064201Z",
     "start_time": "2023-07-14T07:03:10.047247Z"
    }
   },
   "outputs": [
    {
     "name": "stdout",
     "output_type": "stream",
     "text": [
      "소\n",
      "소\n",
      "도\n",
      "도\n",
      "사\n",
      "위\n",
      "경\n",
      "위\n"
     ]
    }
   ],
   "source": [
    "for a in df_main:\n",
    "      print(a[0])"
   ]
  },
  {
   "cell_type": "code",
   "execution_count": 30,
   "id": "29b3d10a",
   "metadata": {
    "ExecuteTime": {
     "end_time": "2023-07-14T07:06:51.931102Z",
     "start_time": "2023-07-14T07:06:51.887960Z"
    }
   },
   "outputs": [],
   "source": []
  },
  {
   "cell_type": "code",
   "execution_count": 33,
   "id": "a318359f",
   "metadata": {
    "ExecuteTime": {
     "end_time": "2023-07-14T07:07:36.701861Z",
     "start_time": "2023-07-14T07:07:36.639253Z"
    }
   },
   "outputs": [],
   "source": [
    "con = cx_Oracle.connect('project_thejoeun/1541@localhost:1521/xe')\n",
    "cur = con.cursor()\n",
    "con.commit()\n",
    "cur.close()\n",
    "con.close()"
   ]
  },
  {
   "cell_type": "code",
   "execution_count": null,
   "id": "77b71877",
   "metadata": {},
   "outputs": [],
   "source": []
  }
 ],
 "metadata": {
  "kernelspec": {
   "display_name": "Python 3 (ipykernel)",
   "language": "python",
   "name": "python3"
  },
  "language_info": {
   "codemirror_mode": {
    "name": "ipython",
    "version": 3
   },
   "file_extension": ".py",
   "mimetype": "text/x-python",
   "name": "python",
   "nbconvert_exporter": "python",
   "pygments_lexer": "ipython3",
   "version": "3.10.11"
  }
 },
 "nbformat": 4,
 "nbformat_minor": 5
}
