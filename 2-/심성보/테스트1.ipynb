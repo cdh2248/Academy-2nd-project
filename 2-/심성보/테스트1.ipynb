{
 "cells": [
  {
   "cell_type": "code",
   "execution_count": 58,
   "id": "00ad722e",
   "metadata": {
    "ExecuteTime": {
     "end_time": "2023-07-18T04:08:12.555566Z",
     "start_time": "2023-07-18T04:08:12.539607Z"
    }
   },
   "outputs": [],
   "source": [
    "import requests\n",
    "import json\n",
    "from datetime import datetime, timedelta\n",
    "\n",
    "import pandas as pd\n",
    "import cx_Oracle\n",
    "from flask import Flask, request\n",
    "from flask_restful import Resource, Api\n",
    "from flask import Response\n",
    "import asyncio\n",
    "import websockets\n",
    "import aioconsole"
   ]
  },
  {
   "cell_type": "code",
   "execution_count": 59,
   "id": "a4aedb9e",
   "metadata": {
    "ExecuteTime": {
     "end_time": "2023-07-18T04:08:12.847608Z",
     "start_time": "2023-07-18T04:08:12.835620Z"
    }
   },
   "outputs": [],
   "source": [
    "#검색 함수\n",
    "def search(word,x):\n",
    "    a=str(x)\n",
    "    rs=a.find(word)\n",
    "    if rs == -1:\n",
    "        return False\n",
    "    else:\n",
    "        return True"
   ]
  },
  {
   "cell_type": "code",
   "execution_count": null,
   "id": "c74daade",
   "metadata": {},
   "outputs": [],
   "source": []
  },
  {
   "cell_type": "code",
   "execution_count": 60,
   "id": "e99bf34f",
   "metadata": {
    "ExecuteTime": {
     "end_time": "2023-07-18T04:08:13.718620Z",
     "start_time": "2023-07-18T04:08:13.707680Z"
    }
   },
   "outputs": [],
   "source": [
    "# rains의 모든 컬럼을 갖고오는 함수( 나중에 수정예정)\n",
    "def select_from_oracle():\n",
    "    con = cx_Oracle.connect('project_thejoeun/1541@localhost:1521/xe')\n",
    "    cur = con.cursor()\n",
    "    sql_select = '''\n",
    "            select * from rains\n",
    "             '''\n",
    "    rs = cur.execute(sql_select)\n",
    "\n",
    "    data=[]\n",
    "    for record in rs:\n",
    "        row=[]\n",
    "        for source in range(0, len(record)):\n",
    "            row.append(record[source])\n",
    "        data.append(row)\n",
    "\n",
    "\n",
    "\n",
    "\n",
    "    con.commit()\n",
    "    cur.close()\n",
    "    con.close()\n",
    "    return data\n"
   ]
  },
  {
   "cell_type": "code",
   "execution_count": 61,
   "id": "a5094d7a",
   "metadata": {
    "ExecuteTime": {
     "end_time": "2023-07-18T04:08:14.904329Z",
     "start_time": "2023-07-18T04:08:14.891338Z"
    }
   },
   "outputs": [],
   "source": [
    "# festival의 모든 컬럼을 갖고오는 함수( 나중에 수정예정)\n",
    "def select_from_oracle2():\n",
    "    con = cx_Oracle.connect('project_thejoeun/1541@localhost:1521/xe')\n",
    "    cur = con.cursor()\n",
    "\n",
    "    sql_select = '''\n",
    "            select * from festival\n",
    "             '''\n",
    "    rs = cur.execute(sql_select)\n",
    "    data=[]\n",
    "    for record in rs:\n",
    "        row=[]\n",
    "        for source in range(0, len(record)):\n",
    "            row.append(record[source])\n",
    "        data.append(row)\n",
    "\n",
    "    con.commit()\n",
    "    cur.close()\n",
    "    con.close()\n",
    "    return data\n"
   ]
  },
  {
   "cell_type": "code",
   "execution_count": 62,
   "id": "535b6ed0",
   "metadata": {
    "ExecuteTime": {
     "end_time": "2023-07-18T04:08:17.054259Z",
     "start_time": "2023-07-18T04:08:17.011287Z"
    }
   },
   "outputs": [],
   "source": [
    "#함수를 사용해 불러오기\n",
    "data=select_from_oracle()"
   ]
  },
  {
   "cell_type": "code",
   "execution_count": null,
   "id": "7d2d5d05",
   "metadata": {
    "ExecuteTime": {
     "end_time": "2023-07-18T04:00:07.326407Z",
     "start_time": "2023-07-18T04:00:07.218667Z"
    }
   },
   "outputs": [],
   "source": []
  },
  {
   "cell_type": "code",
   "execution_count": 63,
   "id": "cd064d0b",
   "metadata": {
    "ExecuteTime": {
     "end_time": "2023-07-18T04:08:17.776591Z",
     "start_time": "2023-07-18T04:08:17.762603Z"
    }
   },
   "outputs": [],
   "source": [
    "column_list_ra=['baseDate', 'baseTime' ,'categorys'  ,'fcstDate' ,'fcstTime' ,'fcstValue'  ,'nx'   ,'ny']"
   ]
  },
  {
   "cell_type": "code",
   "execution_count": 64,
   "id": "10a553c5",
   "metadata": {
    "ExecuteTime": {
     "end_time": "2023-07-18T04:08:18.226154Z",
     "start_time": "2023-07-18T04:08:18.202152Z"
    }
   },
   "outputs": [],
   "source": [
    "ra_df = pd.DataFrame(data, columns=column_list_ra)"
   ]
  },
  {
   "cell_type": "code",
   "execution_count": 65,
   "id": "ec57b88e",
   "metadata": {
    "ExecuteTime": {
     "end_time": "2023-07-18T04:08:18.711152Z",
     "start_time": "2023-07-18T04:08:18.683196Z"
    }
   },
   "outputs": [
    {
     "data": {
      "text/html": [
       "<div>\n",
       "<style scoped>\n",
       "    .dataframe tbody tr th:only-of-type {\n",
       "        vertical-align: middle;\n",
       "    }\n",
       "\n",
       "    .dataframe tbody tr th {\n",
       "        vertical-align: top;\n",
       "    }\n",
       "\n",
       "    .dataframe thead th {\n",
       "        text-align: right;\n",
       "    }\n",
       "</style>\n",
       "<table border=\"1\" class=\"dataframe\">\n",
       "  <thead>\n",
       "    <tr style=\"text-align: right;\">\n",
       "      <th></th>\n",
       "      <th>baseDate</th>\n",
       "      <th>baseTime</th>\n",
       "      <th>categorys</th>\n",
       "      <th>fcstDate</th>\n",
       "      <th>fcstTime</th>\n",
       "      <th>fcstValue</th>\n",
       "      <th>nx</th>\n",
       "      <th>ny</th>\n",
       "    </tr>\n",
       "  </thead>\n",
       "  <tbody>\n",
       "    <tr>\n",
       "      <th>0</th>\n",
       "      <td>2023-07-18</td>\n",
       "      <td>1100</td>\n",
       "      <td>TMP</td>\n",
       "      <td>2023-07-18</td>\n",
       "      <td>1200</td>\n",
       "      <td>23</td>\n",
       "      <td>37</td>\n",
       "      <td>126</td>\n",
       "    </tr>\n",
       "    <tr>\n",
       "      <th>1</th>\n",
       "      <td>2023-07-18</td>\n",
       "      <td>1100</td>\n",
       "      <td>POP</td>\n",
       "      <td>2023-07-18</td>\n",
       "      <td>1200</td>\n",
       "      <td>30</td>\n",
       "      <td>37</td>\n",
       "      <td>126</td>\n",
       "    </tr>\n",
       "    <tr>\n",
       "      <th>2</th>\n",
       "      <td>2023-07-18</td>\n",
       "      <td>1100</td>\n",
       "      <td>PCP</td>\n",
       "      <td>2023-07-18</td>\n",
       "      <td>1200</td>\n",
       "      <td>0</td>\n",
       "      <td>37</td>\n",
       "      <td>126</td>\n",
       "    </tr>\n",
       "    <tr>\n",
       "      <th>3</th>\n",
       "      <td>2023-07-18</td>\n",
       "      <td>1100</td>\n",
       "      <td>TMP</td>\n",
       "      <td>2023-07-18</td>\n",
       "      <td>1300</td>\n",
       "      <td>23</td>\n",
       "      <td>37</td>\n",
       "      <td>126</td>\n",
       "    </tr>\n",
       "    <tr>\n",
       "      <th>4</th>\n",
       "      <td>2023-07-18</td>\n",
       "      <td>1100</td>\n",
       "      <td>POP</td>\n",
       "      <td>2023-07-18</td>\n",
       "      <td>1300</td>\n",
       "      <td>30</td>\n",
       "      <td>37</td>\n",
       "      <td>126</td>\n",
       "    </tr>\n",
       "    <tr>\n",
       "      <th>...</th>\n",
       "      <td>...</td>\n",
       "      <td>...</td>\n",
       "      <td>...</td>\n",
       "      <td>...</td>\n",
       "      <td>...</td>\n",
       "      <td>...</td>\n",
       "      <td>...</td>\n",
       "      <td>...</td>\n",
       "    </tr>\n",
       "    <tr>\n",
       "      <th>1093</th>\n",
       "      <td>2023-07-18</td>\n",
       "      <td>1100</td>\n",
       "      <td>POP</td>\n",
       "      <td>2023-07-20</td>\n",
       "      <td>2300</td>\n",
       "      <td>0</td>\n",
       "      <td>37</td>\n",
       "      <td>126</td>\n",
       "    </tr>\n",
       "    <tr>\n",
       "      <th>1094</th>\n",
       "      <td>2023-07-18</td>\n",
       "      <td>1100</td>\n",
       "      <td>PCP</td>\n",
       "      <td>2023-07-20</td>\n",
       "      <td>2300</td>\n",
       "      <td>0</td>\n",
       "      <td>37</td>\n",
       "      <td>126</td>\n",
       "    </tr>\n",
       "    <tr>\n",
       "      <th>1095</th>\n",
       "      <td>2023-07-18</td>\n",
       "      <td>1100</td>\n",
       "      <td>TMP</td>\n",
       "      <td>2023-07-21</td>\n",
       "      <td>0000</td>\n",
       "      <td>25</td>\n",
       "      <td>37</td>\n",
       "      <td>126</td>\n",
       "    </tr>\n",
       "    <tr>\n",
       "      <th>1096</th>\n",
       "      <td>2023-07-18</td>\n",
       "      <td>1100</td>\n",
       "      <td>POP</td>\n",
       "      <td>2023-07-21</td>\n",
       "      <td>0000</td>\n",
       "      <td>0</td>\n",
       "      <td>37</td>\n",
       "      <td>126</td>\n",
       "    </tr>\n",
       "    <tr>\n",
       "      <th>1097</th>\n",
       "      <td>2023-07-18</td>\n",
       "      <td>1100</td>\n",
       "      <td>PCP</td>\n",
       "      <td>2023-07-21</td>\n",
       "      <td>0000</td>\n",
       "      <td>0</td>\n",
       "      <td>37</td>\n",
       "      <td>126</td>\n",
       "    </tr>\n",
       "  </tbody>\n",
       "</table>\n",
       "<p>1098 rows × 8 columns</p>\n",
       "</div>"
      ],
      "text/plain": [
       "       baseDate baseTime categorys   fcstDate fcstTime fcstValue  nx   ny\n",
       "0    2023-07-18     1100       TMP 2023-07-18     1200        23  37  126\n",
       "1    2023-07-18     1100       POP 2023-07-18     1200        30  37  126\n",
       "2    2023-07-18     1100       PCP 2023-07-18     1200         0  37  126\n",
       "3    2023-07-18     1100       TMP 2023-07-18     1300        23  37  126\n",
       "4    2023-07-18     1100       POP 2023-07-18     1300        30  37  126\n",
       "...         ...      ...       ...        ...      ...       ...  ..  ...\n",
       "1093 2023-07-18     1100       POP 2023-07-20     2300         0  37  126\n",
       "1094 2023-07-18     1100       PCP 2023-07-20     2300         0  37  126\n",
       "1095 2023-07-18     1100       TMP 2023-07-21     0000        25  37  126\n",
       "1096 2023-07-18     1100       POP 2023-07-21     0000         0  37  126\n",
       "1097 2023-07-18     1100       PCP 2023-07-21     0000         0  37  126\n",
       "\n",
       "[1098 rows x 8 columns]"
      ]
     },
     "execution_count": 65,
     "metadata": {},
     "output_type": "execute_result"
    }
   ],
   "source": [
    "ra_df"
   ]
  },
  {
   "cell_type": "code",
   "execution_count": 66,
   "id": "20450b25",
   "metadata": {
    "ExecuteTime": {
     "end_time": "2023-07-18T04:08:19.390181Z",
     "start_time": "2023-07-18T04:08:19.371231Z"
    }
   },
   "outputs": [],
   "source": [
    "column_list_fa=['f_name','place','open_date','close_date','info','host_or','PHONE_NUMBER','ADRESS','LATITUDE','HARDNESS']"
   ]
  },
  {
   "cell_type": "code",
   "execution_count": 67,
   "id": "4f21b47a",
   "metadata": {
    "ExecuteTime": {
     "end_time": "2023-07-18T04:08:19.610177Z",
     "start_time": "2023-07-18T04:08:19.555318Z"
    }
   },
   "outputs": [],
   "source": [
    "data2=select_from_oracle2()"
   ]
  },
  {
   "cell_type": "code",
   "execution_count": 68,
   "id": "1ffadbaf",
   "metadata": {
    "ExecuteTime": {
     "end_time": "2023-07-18T04:08:19.735920Z",
     "start_time": "2023-07-18T04:08:19.722953Z"
    }
   },
   "outputs": [],
   "source": [
    "fa_df = pd.DataFrame(data2, columns=column_list_fa)"
   ]
  },
  {
   "cell_type": "code",
   "execution_count": 69,
   "id": "ba7a5e38",
   "metadata": {
    "ExecuteTime": {
     "end_time": "2023-07-18T04:08:19.908592Z",
     "start_time": "2023-07-18T04:08:19.882666Z"
    }
   },
   "outputs": [
    {
     "data": {
      "text/html": [
       "<div>\n",
       "<style scoped>\n",
       "    .dataframe tbody tr th:only-of-type {\n",
       "        vertical-align: middle;\n",
       "    }\n",
       "\n",
       "    .dataframe tbody tr th {\n",
       "        vertical-align: top;\n",
       "    }\n",
       "\n",
       "    .dataframe thead th {\n",
       "        text-align: right;\n",
       "    }\n",
       "</style>\n",
       "<table border=\"1\" class=\"dataframe\">\n",
       "  <thead>\n",
       "    <tr style=\"text-align: right;\">\n",
       "      <th></th>\n",
       "      <th>f_name</th>\n",
       "      <th>place</th>\n",
       "      <th>open_date</th>\n",
       "      <th>close_date</th>\n",
       "      <th>info</th>\n",
       "      <th>host_or</th>\n",
       "      <th>PHONE_NUMBER</th>\n",
       "      <th>ADRESS</th>\n",
       "      <th>LATITUDE</th>\n",
       "      <th>HARDNESS</th>\n",
       "    </tr>\n",
       "  </thead>\n",
       "  <tbody>\n",
       "    <tr>\n",
       "      <th>0</th>\n",
       "      <td>울산옹기축제</td>\n",
       "      <td>온라인 축제</td>\n",
       "      <td>2022-09-30</td>\n",
       "      <td>2022-10-03</td>\n",
       "      <td>국내+유일의+옹기특화+축제++온라인비대면축제</td>\n",
       "      <td>울산광역시 울주군청 관광과</td>\n",
       "      <td>052-204-0355</td>\n",
       "      <td>울산광역시 울주군 온양읍 외고산2길 2-13</td>\n",
       "      <td>35.432991</td>\n",
       "      <td>129.278447</td>\n",
       "    </tr>\n",
       "    <tr>\n",
       "      <th>1</th>\n",
       "      <td>금산인삼축제</td>\n",
       "      <td>금산인삼관 광장 및 인삼약초시장 일원</td>\n",
       "      <td>2022-09-30</td>\n",
       "      <td>2022-10-23</td>\n",
       "      <td>ㅇ인삼캐기+체험+인삼약초체험+생활건강+체험+등+건강+체험관+운영+국제인삼교역전+인삼...</td>\n",
       "      <td>충청남도 금산군</td>\n",
       "      <td>041-750-4144</td>\n",
       "      <td>충청남도 금산군 금산읍 인삼광장로 30</td>\n",
       "      <td>36.100026</td>\n",
       "      <td>127.500730</td>\n",
       "    </tr>\n",
       "    <tr>\n",
       "      <th>2</th>\n",
       "      <td>횡성한우축제</td>\n",
       "      <td>횡성종합운동장</td>\n",
       "      <td>2022-09-30</td>\n",
       "      <td>2022-10-04</td>\n",
       "      <td>한우구이터+횡성한우+발전포럼+횡성빛축제+등</td>\n",
       "      <td>강원도 횡성군청</td>\n",
       "      <td>033-340-5712</td>\n",
       "      <td>강원도 횡성군 횡성읍 문화체육로 57</td>\n",
       "      <td>37.496087</td>\n",
       "      <td>127.989150</td>\n",
       "    </tr>\n",
       "    <tr>\n",
       "      <th>3</th>\n",
       "      <td>원주다이내믹댄싱카니발</td>\n",
       "      <td>댄싱공연장 및 원일로 일원</td>\n",
       "      <td>2022-10-01</td>\n",
       "      <td>2022-10-03</td>\n",
       "      <td>댄싱경연++문화예술공연++각종+체험+등</td>\n",
       "      <td>강원도 원주시청+제36사단</td>\n",
       "      <td>033-737-5132</td>\n",
       "      <td>강원도 원주시 단구로 170</td>\n",
       "      <td>37.336430</td>\n",
       "      <td>127.946261</td>\n",
       "    </tr>\n",
       "    <tr>\n",
       "      <th>4</th>\n",
       "      <td>소래포구축제</td>\n",
       "      <td>인천 남동구 소래포구 일원</td>\n",
       "      <td>2022-10-01</td>\n",
       "      <td>2022-10-03</td>\n",
       "      <td>관광축제</td>\n",
       "      <td>인천광역시 남동구</td>\n",
       "      <td>032-453-2142</td>\n",
       "      <td>인천광역시 남동구 아암대로 1454</td>\n",
       "      <td>37.387252</td>\n",
       "      <td>126.726980</td>\n",
       "    </tr>\n",
       "    <tr>\n",
       "      <th>...</th>\n",
       "      <td>...</td>\n",
       "      <td>...</td>\n",
       "      <td>...</td>\n",
       "      <td>...</td>\n",
       "      <td>...</td>\n",
       "      <td>...</td>\n",
       "      <td>...</td>\n",
       "      <td>...</td>\n",
       "      <td>...</td>\n",
       "      <td>...</td>\n",
       "    </tr>\n",
       "    <tr>\n",
       "      <th>1176</th>\n",
       "      <td>2023년 은계호수공원 가을콘서트</td>\n",
       "      <td>은계호수공원</td>\n",
       "      <td>2023-10-07</td>\n",
       "      <td>2023-10-08</td>\n",
       "      <td>시흥예총</td>\n",
       "      <td>경기도 시흥시청</td>\n",
       "      <td>031-310-6731</td>\n",
       "      <td>경기도 시흥시 계수동 716</td>\n",
       "      <td>37.445256</td>\n",
       "      <td>126.806582</td>\n",
       "    </tr>\n",
       "    <tr>\n",
       "      <th>1177</th>\n",
       "      <td>동두천 무형문화재 축제</td>\n",
       "      <td>소요산 축산물브랜드 육타운 상설무대</td>\n",
       "      <td>2022-10-29</td>\n",
       "      <td>2022-10-29</td>\n",
       "      <td>동두천+무형문화재+축제</td>\n",
       "      <td>경기도 동두천시무형문화재연합회</td>\n",
       "      <td>031-860-2064</td>\n",
       "      <td>경기도 동두천시 상봉암동 산 1-5</td>\n",
       "      <td>37.938776</td>\n",
       "      <td>127.085743</td>\n",
       "    </tr>\n",
       "    <tr>\n",
       "      <th>1178</th>\n",
       "      <td>왕방산 국제MTB대회</td>\n",
       "      <td>왕방산 일원</td>\n",
       "      <td>2022-10-21</td>\n",
       "      <td>2022-10-21</td>\n",
       "      <td>국제MTB대회</td>\n",
       "      <td>(사)대한자전거연맹</td>\n",
       "      <td>031-860-2209</td>\n",
       "      <td>경기도 동두천시 어등로 45</td>\n",
       "      <td>37.900840</td>\n",
       "      <td>127.070499</td>\n",
       "    </tr>\n",
       "    <tr>\n",
       "      <th>1179</th>\n",
       "      <td>천사마라톤대회</td>\n",
       "      <td>종합운동장</td>\n",
       "      <td>2022-10-03</td>\n",
       "      <td>2022-10-03</td>\n",
       "      <td>천사데이기념+마라톤대회</td>\n",
       "      <td>사)희망지킴이 천사운동본부</td>\n",
       "      <td>031-861-1004</td>\n",
       "      <td>경기도 동두천시 어등로 45</td>\n",
       "      <td>37.900840</td>\n",
       "      <td>127.070499</td>\n",
       "    </tr>\n",
       "    <tr>\n",
       "      <th>1180</th>\n",
       "      <td>동두천 청소년 별자리과학 축제</td>\n",
       "      <td>종합운동장</td>\n",
       "      <td>2022-10-01</td>\n",
       "      <td>2022-10-01</td>\n",
       "      <td>경기북부지역+청소년들의+과학과+수학에+대한+자신감과+흥미유발</td>\n",
       "      <td>경기도청+경기도 동두천시청</td>\n",
       "      <td>031-860-2857</td>\n",
       "      <td>경기도 동두천시 어등로 45</td>\n",
       "      <td>37.900840</td>\n",
       "      <td>127.070499</td>\n",
       "    </tr>\n",
       "  </tbody>\n",
       "</table>\n",
       "<p>1181 rows × 10 columns</p>\n",
       "</div>"
      ],
      "text/plain": [
       "                  f_name                 place  open_date close_date  \\\n",
       "0                 울산옹기축제                온라인 축제 2022-09-30 2022-10-03   \n",
       "1                 금산인삼축제  금산인삼관 광장 및 인삼약초시장 일원 2022-09-30 2022-10-23   \n",
       "2                 횡성한우축제               횡성종합운동장 2022-09-30 2022-10-04   \n",
       "3            원주다이내믹댄싱카니발        댄싱공연장 및 원일로 일원 2022-10-01 2022-10-03   \n",
       "4                 소래포구축제        인천 남동구 소래포구 일원 2022-10-01 2022-10-03   \n",
       "...                  ...                   ...        ...        ...   \n",
       "1176  2023년 은계호수공원 가을콘서트                은계호수공원 2023-10-07 2023-10-08   \n",
       "1177        동두천 무형문화재 축제   소요산 축산물브랜드 육타운 상설무대 2022-10-29 2022-10-29   \n",
       "1178         왕방산 국제MTB대회                왕방산 일원 2022-10-21 2022-10-21   \n",
       "1179             천사마라톤대회                 종합운동장 2022-10-03 2022-10-03   \n",
       "1180    동두천 청소년 별자리과학 축제                 종합운동장 2022-10-01 2022-10-01   \n",
       "\n",
       "                                                   info           host_or  \\\n",
       "0                              국내+유일의+옹기특화+축제++온라인비대면축제    울산광역시 울주군청 관광과   \n",
       "1     ㅇ인삼캐기+체험+인삼약초체험+생활건강+체험+등+건강+체험관+운영+국제인삼교역전+인삼...          충청남도 금산군   \n",
       "2                               한우구이터+횡성한우+발전포럼+횡성빛축제+등          강원도 횡성군청   \n",
       "3                                 댄싱경연++문화예술공연++각종+체험+등    강원도 원주시청+제36사단   \n",
       "4                                                  관광축제         인천광역시 남동구   \n",
       "...                                                 ...               ...   \n",
       "1176                                               시흥예총          경기도 시흥시청   \n",
       "1177                                       동두천+무형문화재+축제  경기도 동두천시무형문화재연합회   \n",
       "1178                                            국제MTB대회        (사)대한자전거연맹   \n",
       "1179                                       천사데이기념+마라톤대회    사)희망지킴이 천사운동본부   \n",
       "1180                  경기북부지역+청소년들의+과학과+수학에+대한+자신감과+흥미유발    경기도청+경기도 동두천시청   \n",
       "\n",
       "      PHONE_NUMBER                    ADRESS   LATITUDE    HARDNESS  \n",
       "0     052-204-0355  울산광역시 울주군 온양읍 외고산2길 2-13  35.432991  129.278447  \n",
       "1     041-750-4144     충청남도 금산군 금산읍 인삼광장로 30  36.100026  127.500730  \n",
       "2     033-340-5712      강원도 횡성군 횡성읍 문화체육로 57  37.496087  127.989150  \n",
       "3     033-737-5132           강원도 원주시 단구로 170  37.336430  127.946261  \n",
       "4     032-453-2142       인천광역시 남동구 아암대로 1454  37.387252  126.726980  \n",
       "...            ...                       ...        ...         ...  \n",
       "1176  031-310-6731           경기도 시흥시 계수동 716  37.445256  126.806582  \n",
       "1177  031-860-2064       경기도 동두천시 상봉암동 산 1-5  37.938776  127.085743  \n",
       "1178  031-860-2209           경기도 동두천시 어등로 45  37.900840  127.070499  \n",
       "1179  031-861-1004           경기도 동두천시 어등로 45  37.900840  127.070499  \n",
       "1180  031-860-2857           경기도 동두천시 어등로 45  37.900840  127.070499  \n",
       "\n",
       "[1181 rows x 10 columns]"
      ]
     },
     "execution_count": 69,
     "metadata": {},
     "output_type": "execute_result"
    }
   ],
   "source": [
    "fa_df"
   ]
  },
  {
   "cell_type": "code",
   "execution_count": null,
   "id": "4cdc052b",
   "metadata": {},
   "outputs": [],
   "source": []
  },
  {
   "cell_type": "code",
   "execution_count": null,
   "id": "7397cffc",
   "metadata": {},
   "outputs": [],
   "source": []
  },
  {
   "cell_type": "markdown",
   "id": "ca0d49c0",
   "metadata": {},
   "source": [
    "# 아래 l_name => 입력할것 넣으면 검색가능"
   ]
  },
  {
   "cell_type": "code",
   "execution_count": 70,
   "id": "d14b7546",
   "metadata": {
    "ExecuteTime": {
     "end_time": "2023-07-18T04:08:20.546661Z",
     "start_time": "2023-07-18T04:08:20.530704Z"
    }
   },
   "outputs": [],
   "source": [
    "l_name='은계호수공원'"
   ]
  },
  {
   "cell_type": "code",
   "execution_count": 72,
   "id": "907eff3d",
   "metadata": {
    "ExecuteTime": {
     "end_time": "2023-07-18T04:08:27.866510Z",
     "start_time": "2023-07-18T04:08:27.843572Z"
    }
   },
   "outputs": [
    {
     "data": {
      "text/html": [
       "<div>\n",
       "<style scoped>\n",
       "    .dataframe tbody tr th:only-of-type {\n",
       "        vertical-align: middle;\n",
       "    }\n",
       "\n",
       "    .dataframe tbody tr th {\n",
       "        vertical-align: top;\n",
       "    }\n",
       "\n",
       "    .dataframe thead th {\n",
       "        text-align: right;\n",
       "    }\n",
       "</style>\n",
       "<table border=\"1\" class=\"dataframe\">\n",
       "  <thead>\n",
       "    <tr style=\"text-align: right;\">\n",
       "      <th></th>\n",
       "      <th>f_name</th>\n",
       "      <th>place</th>\n",
       "      <th>open_date</th>\n",
       "      <th>close_date</th>\n",
       "      <th>info</th>\n",
       "      <th>host_or</th>\n",
       "      <th>PHONE_NUMBER</th>\n",
       "      <th>ADRESS</th>\n",
       "      <th>LATITUDE</th>\n",
       "      <th>HARDNESS</th>\n",
       "    </tr>\n",
       "  </thead>\n",
       "  <tbody>\n",
       "    <tr>\n",
       "      <th>1176</th>\n",
       "      <td>2023년 은계호수공원 가을콘서트</td>\n",
       "      <td>은계호수공원</td>\n",
       "      <td>2023-10-07</td>\n",
       "      <td>2023-10-08</td>\n",
       "      <td>시흥예총</td>\n",
       "      <td>경기도 시흥시청</td>\n",
       "      <td>031-310-6731</td>\n",
       "      <td>경기도 시흥시 계수동 716</td>\n",
       "      <td>37.445256</td>\n",
       "      <td>126.806582</td>\n",
       "    </tr>\n",
       "  </tbody>\n",
       "</table>\n",
       "</div>"
      ],
      "text/plain": [
       "                  f_name   place  open_date close_date  info   host_or  \\\n",
       "1176  2023년 은계호수공원 가을콘서트  은계호수공원 2023-10-07 2023-10-08  시흥예총  경기도 시흥시청   \n",
       "\n",
       "      PHONE_NUMBER           ADRESS   LATITUDE    HARDNESS  \n",
       "1176  031-310-6731  경기도 시흥시 계수동 716  37.445256  126.806582  "
      ]
     },
     "execution_count": 72,
     "metadata": {},
     "output_type": "execute_result"
    }
   ],
   "source": [
    "list_lo=fa_df[fa_df['place'].apply(lambda x: search(l_name,x))]\n",
    "list_lo"
   ]
  },
  {
   "cell_type": "code",
   "execution_count": 75,
   "id": "de69e645",
   "metadata": {
    "ExecuteTime": {
     "end_time": "2023-07-18T04:08:43.066679Z",
     "start_time": "2023-07-18T04:08:43.051688Z"
    }
   },
   "outputs": [],
   "source": [
    "def search_name_la_ha(name):\n",
    "    list_lo=fa_df[fa_df['place'].apply(lambda x: search(l_name,x))]\n",
    "    x=list_lo['LATITUDE']\n",
    "    y=list_lo['HARDNESS']\n",
    "    return x, y"
   ]
  },
  {
   "cell_type": "code",
   "execution_count": 76,
   "id": "6d1957ee",
   "metadata": {
    "ExecuteTime": {
     "end_time": "2023-07-18T04:08:43.563371Z",
     "start_time": "2023-07-18T04:08:43.547388Z"
    }
   },
   "outputs": [],
   "source": [
    "x,y=search_name_la_ha(l_name)"
   ]
  },
  {
   "cell_type": "code",
   "execution_count": 77,
   "id": "bc46ba88",
   "metadata": {
    "ExecuteTime": {
     "end_time": "2023-07-18T04:08:44.595218Z",
     "start_time": "2023-07-18T04:08:44.579260Z"
    }
   },
   "outputs": [
    {
     "name": "stderr",
     "output_type": "stream",
     "text": [
      "C:\\Users\\tj-bu\\AppData\\Local\\Temp\\ipykernel_17500\\3718533679.py:1: FutureWarning: Calling int on a single element Series is deprecated and will raise a TypeError in the future. Use int(ser.iloc[0]) instead\n",
      "  x=int(x)\n"
     ]
    },
    {
     "data": {
      "text/plain": [
       "37"
      ]
     },
     "execution_count": 77,
     "metadata": {},
     "output_type": "execute_result"
    }
   ],
   "source": [
    "x=int(x)\n",
    "x"
   ]
  },
  {
   "cell_type": "code",
   "execution_count": 78,
   "id": "6eea4fc8",
   "metadata": {
    "ExecuteTime": {
     "end_time": "2023-07-18T04:08:44.998700Z",
     "start_time": "2023-07-18T04:08:44.988720Z"
    }
   },
   "outputs": [
    {
     "name": "stderr",
     "output_type": "stream",
     "text": [
      "C:\\Users\\tj-bu\\AppData\\Local\\Temp\\ipykernel_17500\\4206905778.py:1: FutureWarning: Calling int on a single element Series is deprecated and will raise a TypeError in the future. Use int(ser.iloc[0]) instead\n",
      "  y=int(y)\n"
     ]
    },
    {
     "data": {
      "text/plain": [
       "126"
      ]
     },
     "execution_count": 78,
     "metadata": {},
     "output_type": "execute_result"
    }
   ],
   "source": [
    "y=int(y)\n",
    "y"
   ]
  },
  {
   "cell_type": "code",
   "execution_count": 85,
   "id": "6429ce9f",
   "metadata": {
    "ExecuteTime": {
     "end_time": "2023-07-18T04:09:39.169036Z",
     "start_time": "2023-07-18T04:09:39.155074Z"
    }
   },
   "outputs": [],
   "source": [
    "def search_ra(x, y):\n",
    "    lst=ra_df[(ra_df['nx']==x) & (ra_df['ny']==y)]\n",
    "    return lst"
   ]
  },
  {
   "cell_type": "code",
   "execution_count": 86,
   "id": "bba6ecda",
   "metadata": {
    "ExecuteTime": {
     "end_time": "2023-07-18T04:09:39.529567Z",
     "start_time": "2023-07-18T04:09:39.514607Z"
    }
   },
   "outputs": [],
   "source": [
    "z=search_ra(x,y)"
   ]
  },
  {
   "cell_type": "code",
   "execution_count": 87,
   "id": "c29bf039",
   "metadata": {
    "ExecuteTime": {
     "end_time": "2023-07-18T04:09:41.387074Z",
     "start_time": "2023-07-18T04:09:41.363114Z"
    }
   },
   "outputs": [
    {
     "data": {
      "text/html": [
       "<div>\n",
       "<style scoped>\n",
       "    .dataframe tbody tr th:only-of-type {\n",
       "        vertical-align: middle;\n",
       "    }\n",
       "\n",
       "    .dataframe tbody tr th {\n",
       "        vertical-align: top;\n",
       "    }\n",
       "\n",
       "    .dataframe thead th {\n",
       "        text-align: right;\n",
       "    }\n",
       "</style>\n",
       "<table border=\"1\" class=\"dataframe\">\n",
       "  <thead>\n",
       "    <tr style=\"text-align: right;\">\n",
       "      <th></th>\n",
       "      <th>baseDate</th>\n",
       "      <th>baseTime</th>\n",
       "      <th>categorys</th>\n",
       "      <th>fcstDate</th>\n",
       "      <th>fcstTime</th>\n",
       "      <th>fcstValue</th>\n",
       "      <th>nx</th>\n",
       "      <th>ny</th>\n",
       "    </tr>\n",
       "  </thead>\n",
       "  <tbody>\n",
       "    <tr>\n",
       "      <th>0</th>\n",
       "      <td>2023-07-18</td>\n",
       "      <td>1100</td>\n",
       "      <td>TMP</td>\n",
       "      <td>2023-07-18</td>\n",
       "      <td>1200</td>\n",
       "      <td>23</td>\n",
       "      <td>37</td>\n",
       "      <td>126</td>\n",
       "    </tr>\n",
       "    <tr>\n",
       "      <th>1</th>\n",
       "      <td>2023-07-18</td>\n",
       "      <td>1100</td>\n",
       "      <td>POP</td>\n",
       "      <td>2023-07-18</td>\n",
       "      <td>1200</td>\n",
       "      <td>30</td>\n",
       "      <td>37</td>\n",
       "      <td>126</td>\n",
       "    </tr>\n",
       "    <tr>\n",
       "      <th>2</th>\n",
       "      <td>2023-07-18</td>\n",
       "      <td>1100</td>\n",
       "      <td>PCP</td>\n",
       "      <td>2023-07-18</td>\n",
       "      <td>1200</td>\n",
       "      <td>0</td>\n",
       "      <td>37</td>\n",
       "      <td>126</td>\n",
       "    </tr>\n",
       "    <tr>\n",
       "      <th>3</th>\n",
       "      <td>2023-07-18</td>\n",
       "      <td>1100</td>\n",
       "      <td>TMP</td>\n",
       "      <td>2023-07-18</td>\n",
       "      <td>1300</td>\n",
       "      <td>23</td>\n",
       "      <td>37</td>\n",
       "      <td>126</td>\n",
       "    </tr>\n",
       "    <tr>\n",
       "      <th>4</th>\n",
       "      <td>2023-07-18</td>\n",
       "      <td>1100</td>\n",
       "      <td>POP</td>\n",
       "      <td>2023-07-18</td>\n",
       "      <td>1300</td>\n",
       "      <td>30</td>\n",
       "      <td>37</td>\n",
       "      <td>126</td>\n",
       "    </tr>\n",
       "    <tr>\n",
       "      <th>...</th>\n",
       "      <td>...</td>\n",
       "      <td>...</td>\n",
       "      <td>...</td>\n",
       "      <td>...</td>\n",
       "      <td>...</td>\n",
       "      <td>...</td>\n",
       "      <td>...</td>\n",
       "      <td>...</td>\n",
       "    </tr>\n",
       "    <tr>\n",
       "      <th>1093</th>\n",
       "      <td>2023-07-18</td>\n",
       "      <td>1100</td>\n",
       "      <td>POP</td>\n",
       "      <td>2023-07-20</td>\n",
       "      <td>2300</td>\n",
       "      <td>0</td>\n",
       "      <td>37</td>\n",
       "      <td>126</td>\n",
       "    </tr>\n",
       "    <tr>\n",
       "      <th>1094</th>\n",
       "      <td>2023-07-18</td>\n",
       "      <td>1100</td>\n",
       "      <td>PCP</td>\n",
       "      <td>2023-07-20</td>\n",
       "      <td>2300</td>\n",
       "      <td>0</td>\n",
       "      <td>37</td>\n",
       "      <td>126</td>\n",
       "    </tr>\n",
       "    <tr>\n",
       "      <th>1095</th>\n",
       "      <td>2023-07-18</td>\n",
       "      <td>1100</td>\n",
       "      <td>TMP</td>\n",
       "      <td>2023-07-21</td>\n",
       "      <td>0000</td>\n",
       "      <td>25</td>\n",
       "      <td>37</td>\n",
       "      <td>126</td>\n",
       "    </tr>\n",
       "    <tr>\n",
       "      <th>1096</th>\n",
       "      <td>2023-07-18</td>\n",
       "      <td>1100</td>\n",
       "      <td>POP</td>\n",
       "      <td>2023-07-21</td>\n",
       "      <td>0000</td>\n",
       "      <td>0</td>\n",
       "      <td>37</td>\n",
       "      <td>126</td>\n",
       "    </tr>\n",
       "    <tr>\n",
       "      <th>1097</th>\n",
       "      <td>2023-07-18</td>\n",
       "      <td>1100</td>\n",
       "      <td>PCP</td>\n",
       "      <td>2023-07-21</td>\n",
       "      <td>0000</td>\n",
       "      <td>0</td>\n",
       "      <td>37</td>\n",
       "      <td>126</td>\n",
       "    </tr>\n",
       "  </tbody>\n",
       "</table>\n",
       "<p>1098 rows × 8 columns</p>\n",
       "</div>"
      ],
      "text/plain": [
       "       baseDate baseTime categorys   fcstDate fcstTime fcstValue  nx   ny\n",
       "0    2023-07-18     1100       TMP 2023-07-18     1200        23  37  126\n",
       "1    2023-07-18     1100       POP 2023-07-18     1200        30  37  126\n",
       "2    2023-07-18     1100       PCP 2023-07-18     1200         0  37  126\n",
       "3    2023-07-18     1100       TMP 2023-07-18     1300        23  37  126\n",
       "4    2023-07-18     1100       POP 2023-07-18     1300        30  37  126\n",
       "...         ...      ...       ...        ...      ...       ...  ..  ...\n",
       "1093 2023-07-18     1100       POP 2023-07-20     2300         0  37  126\n",
       "1094 2023-07-18     1100       PCP 2023-07-20     2300         0  37  126\n",
       "1095 2023-07-18     1100       TMP 2023-07-21     0000        25  37  126\n",
       "1096 2023-07-18     1100       POP 2023-07-21     0000         0  37  126\n",
       "1097 2023-07-18     1100       PCP 2023-07-21     0000         0  37  126\n",
       "\n",
       "[1098 rows x 8 columns]"
      ]
     },
     "execution_count": 87,
     "metadata": {},
     "output_type": "execute_result"
    }
   ],
   "source": [
    "z"
   ]
  },
  {
   "cell_type": "code",
   "execution_count": null,
   "id": "258e890f",
   "metadata": {},
   "outputs": [],
   "source": []
  }
 ],
 "metadata": {
  "kernelspec": {
   "display_name": "Python 3 (ipykernel)",
   "language": "python",
   "name": "python3"
  },
  "language_info": {
   "codemirror_mode": {
    "name": "ipython",
    "version": 3
   },
   "file_extension": ".py",
   "mimetype": "text/x-python",
   "name": "python",
   "nbconvert_exporter": "python",
   "pygments_lexer": "ipython3",
   "version": "3.10.11"
  }
 },
 "nbformat": 4,
 "nbformat_minor": 5
}
