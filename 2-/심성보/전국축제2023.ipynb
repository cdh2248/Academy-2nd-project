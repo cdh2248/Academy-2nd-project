{
 "cells": [
  {
   "cell_type": "markdown",
   "id": "efe7752f",
   "metadata": {},
   "source": [
    "# 데이터 전처리"
   ]
  },
  {
   "cell_type": "code",
   "execution_count": 1,
   "id": "56782576",
   "metadata": {
    "ExecuteTime": {
     "end_time": "2023-07-17T03:57:29.037585Z",
     "start_time": "2023-07-17T03:57:27.014400Z"
    }
   },
   "outputs": [],
   "source": [
    "import pandas as pd\n",
    "import matplotlib.pyplot as plt\n",
    "import seaborn as sns\n",
    "import folium\n",
    "from folium import Marker"
   ]
  },
  {
   "cell_type": "code",
   "execution_count": 2,
   "id": "6c95e3f9",
   "metadata": {
    "ExecuteTime": {
     "end_time": "2023-07-17T03:57:29.960791Z",
     "start_time": "2023-07-17T03:57:29.895832Z"
    }
   },
   "outputs": [
    {
     "data": {
      "text/plain": [
       "(1397, 18)"
      ]
     },
     "execution_count": 2,
     "metadata": {},
     "output_type": "execute_result"
    }
   ],
   "source": [
    "festival = pd.read_csv('전국문화축제표준데이터.csv', encoding='cp949')\n",
    "festival.shape"
   ]
  },
  {
   "cell_type": "code",
   "execution_count": 3,
   "id": "3413ea7d",
   "metadata": {
    "ExecuteTime": {
     "end_time": "2023-07-17T03:57:30.874328Z",
     "start_time": "2023-07-17T03:57:30.847375Z"
    },
    "scrolled": false
   },
   "outputs": [
    {
     "data": {
      "text/html": [
       "<div>\n",
       "<style scoped>\n",
       "    .dataframe tbody tr th:only-of-type {\n",
       "        vertical-align: middle;\n",
       "    }\n",
       "\n",
       "    .dataframe tbody tr th {\n",
       "        vertical-align: top;\n",
       "    }\n",
       "\n",
       "    .dataframe thead th {\n",
       "        text-align: right;\n",
       "    }\n",
       "</style>\n",
       "<table border=\"1\" class=\"dataframe\">\n",
       "  <thead>\n",
       "    <tr style=\"text-align: right;\">\n",
       "      <th></th>\n",
       "      <th>축제명</th>\n",
       "      <th>개최장소</th>\n",
       "      <th>축제시작일자</th>\n",
       "      <th>축제종료일자</th>\n",
       "      <th>축제내용</th>\n",
       "      <th>주관기관</th>\n",
       "      <th>주최기관</th>\n",
       "      <th>후원기관</th>\n",
       "      <th>전화번호</th>\n",
       "      <th>홈페이지주소</th>\n",
       "      <th>관련정보</th>\n",
       "      <th>소재지도로명주소</th>\n",
       "      <th>소재지지번주소</th>\n",
       "      <th>위도</th>\n",
       "      <th>경도</th>\n",
       "      <th>데이터기준일자</th>\n",
       "      <th>제공기관코드</th>\n",
       "      <th>제공기관명</th>\n",
       "    </tr>\n",
       "  </thead>\n",
       "  <tbody>\n",
       "    <tr>\n",
       "      <th>0</th>\n",
       "      <td>풍기인삼축제(2022 영주세계풍기인삼 엑스포)</td>\n",
       "      <td>축제풍기인삼문화팝업공원 일원</td>\n",
       "      <td>2022-09-30</td>\n",
       "      <td>2022-10-23</td>\n",
       "      <td>풍기기네스, 풍퀴즈 온더블록, 인삼향 풍기네, 슬기로운 풍기인삼 릴레이콘서트 등</td>\n",
       "      <td>(재)영주세계풍기인삼엑스포조직위원회</td>\n",
       "      <td>영주시</td>\n",
       "      <td>NaN</td>\n",
       "      <td>054-635-0020</td>\n",
       "      <td>http://www.ginsengfestival.co.kr/</td>\n",
       "      <td>NaN</td>\n",
       "      <td>경상북도 영주시 풍기읍 남원로 80</td>\n",
       "      <td>NaN</td>\n",
       "      <td>NaN</td>\n",
       "      <td>NaN</td>\n",
       "      <td>2022-09-28</td>\n",
       "      <td>B551011</td>\n",
       "      <td>한국관광공사</td>\n",
       "    </tr>\n",
       "    <tr>\n",
       "      <th>1</th>\n",
       "      <td>산청한방약초축제</td>\n",
       "      <td>산청IC축제광장+ 동의보감촌</td>\n",
       "      <td>2022-09-30</td>\n",
       "      <td>2022-10-11</td>\n",
       "      <td>동의보감촌 허준순례길 구절초,한방촌거리 체험(대장간, 한의원, 약선음식 체험),동의...</td>\n",
       "      <td>산청한방약초축제위원회</td>\n",
       "      <td>산청군</td>\n",
       "      <td>산청군+산청군농협+한국수력원자력(주)산청양수발전소</td>\n",
       "      <td>055-970-6601</td>\n",
       "      <td>http://scherb.or.kr/</td>\n",
       "      <td>NaN</td>\n",
       "      <td>경상남도 산청군 금서면 동의보감로555번길 61</td>\n",
       "      <td>NaN</td>\n",
       "      <td>NaN</td>\n",
       "      <td>NaN</td>\n",
       "      <td>2022-09-28</td>\n",
       "      <td>B551011</td>\n",
       "      <td>한국관광공사</td>\n",
       "    </tr>\n",
       "    <tr>\n",
       "      <th>2</th>\n",
       "      <td>양양송이축제</td>\n",
       "      <td>강원도 양양군 전통시장 및 남대천 일원</td>\n",
       "      <td>2022-09-30</td>\n",
       "      <td>2022-10-02</td>\n",
       "      <td>송이 보물찾기,송이돌이 만들기, 목공예체험, 버블쇼 공연, 송이볼링과 송이 과녁컬링</td>\n",
       "      <td>양양문화재단</td>\n",
       "      <td>양양군</td>\n",
       "      <td>NaN</td>\n",
       "      <td>033-671-3803</td>\n",
       "      <td>http://yymsfestival.com/index.php</td>\n",
       "      <td>NaN</td>\n",
       "      <td>NaN</td>\n",
       "      <td>강원도 양양군 양양읍 남문리 226-2</td>\n",
       "      <td>NaN</td>\n",
       "      <td>NaN</td>\n",
       "      <td>2022-09-28</td>\n",
       "      <td>B551011</td>\n",
       "      <td>한국관광공사</td>\n",
       "    </tr>\n",
       "    <tr>\n",
       "      <th>3</th>\n",
       "      <td>울산옹기축제</td>\n",
       "      <td>온라인 축제</td>\n",
       "      <td>2022-09-30</td>\n",
       "      <td>2022-10-03</td>\n",
       "      <td>국내 유일의 옹기특화 축제, 온라인비대면축제</td>\n",
       "      <td>울산광역시 울주군청 관광과</td>\n",
       "      <td>울산광역시 울주군청 관광과</td>\n",
       "      <td>NaN</td>\n",
       "      <td>052-204-0355</td>\n",
       "      <td>https://www.onggi.or.kr/</td>\n",
       "      <td>NaN</td>\n",
       "      <td>울산광역시 울주군 온양읍 외고산2길 2-13</td>\n",
       "      <td>울산광역시 울주군 온양읍 고산리 512-4</td>\n",
       "      <td>35.432991</td>\n",
       "      <td>129.278447</td>\n",
       "      <td>2022-09-28</td>\n",
       "      <td>B551011</td>\n",
       "      <td>한국관광공사</td>\n",
       "    </tr>\n",
       "    <tr>\n",
       "      <th>4</th>\n",
       "      <td>금산인삼축제</td>\n",
       "      <td>금산인삼관 광장 및 인삼약초시장 일원</td>\n",
       "      <td>2022-09-30</td>\n",
       "      <td>2022-10-23</td>\n",
       "      <td>ㅇ인삼캐기 체험+인삼약초체험+생활건강 체험 등 건강 체험관 운영+국제인삼교역전+인삼...</td>\n",
       "      <td>금산축제관광재단</td>\n",
       "      <td>충청남도 금산군</td>\n",
       "      <td>NaN</td>\n",
       "      <td>041-750-4144</td>\n",
       "      <td>http://www.insamfestival.co.kr/</td>\n",
       "      <td>NaN</td>\n",
       "      <td>충청남도 금산군 금산읍 인삼광장로 30</td>\n",
       "      <td>충청남도 금산군 금산읍 신대리 392</td>\n",
       "      <td>36.100026</td>\n",
       "      <td>127.500730</td>\n",
       "      <td>2022-09-28</td>\n",
       "      <td>B551011</td>\n",
       "      <td>한국관광공사</td>\n",
       "    </tr>\n",
       "  </tbody>\n",
       "</table>\n",
       "</div>"
      ],
      "text/plain": [
       "                         축제명                   개최장소      축제시작일자      축제종료일자  \\\n",
       "0  풍기인삼축제(2022 영주세계풍기인삼 엑스포)        축제풍기인삼문화팝업공원 일원  2022-09-30  2022-10-23   \n",
       "1                   산청한방약초축제        산청IC축제광장+ 동의보감촌  2022-09-30  2022-10-11   \n",
       "2                     양양송이축제  강원도 양양군 전통시장 및 남대천 일원  2022-09-30  2022-10-02   \n",
       "3                     울산옹기축제                 온라인 축제  2022-09-30  2022-10-03   \n",
       "4                     금산인삼축제   금산인삼관 광장 및 인삼약초시장 일원  2022-09-30  2022-10-23   \n",
       "\n",
       "                                                축제내용                 주관기관  \\\n",
       "0       풍기기네스, 풍퀴즈 온더블록, 인삼향 풍기네, 슬기로운 풍기인삼 릴레이콘서트 등  (재)영주세계풍기인삼엑스포조직위원회   \n",
       "1  동의보감촌 허준순례길 구절초,한방촌거리 체험(대장간, 한의원, 약선음식 체험),동의...          산청한방약초축제위원회   \n",
       "2     송이 보물찾기,송이돌이 만들기, 목공예체험, 버블쇼 공연, 송이볼링과 송이 과녁컬링               양양문화재단   \n",
       "3                           국내 유일의 옹기특화 축제, 온라인비대면축제       울산광역시 울주군청 관광과   \n",
       "4  ㅇ인삼캐기 체험+인삼약초체험+생활건강 체험 등 건강 체험관 운영+국제인삼교역전+인삼...             금산축제관광재단   \n",
       "\n",
       "             주최기관                         후원기관          전화번호  \\\n",
       "0             영주시                          NaN  054-635-0020   \n",
       "1             산청군  산청군+산청군농협+한국수력원자력(주)산청양수발전소  055-970-6601   \n",
       "2             양양군                          NaN  033-671-3803   \n",
       "3  울산광역시 울주군청 관광과                          NaN  052-204-0355   \n",
       "4        충청남도 금산군                          NaN  041-750-4144   \n",
       "\n",
       "                              홈페이지주소 관련정보                    소재지도로명주소  \\\n",
       "0  http://www.ginsengfestival.co.kr/  NaN         경상북도 영주시 풍기읍 남원로 80   \n",
       "1               http://scherb.or.kr/  NaN  경상남도 산청군 금서면 동의보감로555번길 61   \n",
       "2  http://yymsfestival.com/index.php  NaN                         NaN   \n",
       "3           https://www.onggi.or.kr/  NaN    울산광역시 울주군 온양읍 외고산2길 2-13   \n",
       "4    http://www.insamfestival.co.kr/  NaN       충청남도 금산군 금산읍 인삼광장로 30   \n",
       "\n",
       "                   소재지지번주소         위도          경도     데이터기준일자   제공기관코드   제공기관명  \n",
       "0                      NaN        NaN         NaN  2022-09-28  B551011  한국관광공사  \n",
       "1                      NaN        NaN         NaN  2022-09-28  B551011  한국관광공사  \n",
       "2    강원도 양양군 양양읍 남문리 226-2        NaN         NaN  2022-09-28  B551011  한국관광공사  \n",
       "3  울산광역시 울주군 온양읍 고산리 512-4  35.432991  129.278447  2022-09-28  B551011  한국관광공사  \n",
       "4     충청남도 금산군 금산읍 신대리 392  36.100026  127.500730  2022-09-28  B551011  한국관광공사  "
      ]
     },
     "execution_count": 3,
     "metadata": {},
     "output_type": "execute_result"
    }
   ],
   "source": [
    "festival.head()"
   ]
  },
  {
   "cell_type": "code",
   "execution_count": 4,
   "id": "e4faa4d3",
   "metadata": {
    "ExecuteTime": {
     "end_time": "2023-07-17T03:57:34.493010Z",
     "start_time": "2023-07-17T03:57:34.461096Z"
    }
   },
   "outputs": [
    {
     "name": "stdout",
     "output_type": "stream",
     "text": [
      "<class 'pandas.core.frame.DataFrame'>\n",
      "RangeIndex: 1397 entries, 0 to 1396\n",
      "Data columns (total 18 columns):\n",
      " #   Column    Non-Null Count  Dtype  \n",
      "---  ------    --------------  -----  \n",
      " 0   축제명       1397 non-null   object \n",
      " 1   개최장소      1397 non-null   object \n",
      " 2   축제시작일자    1397 non-null   object \n",
      " 3   축제종료일자    1397 non-null   object \n",
      " 4   축제내용      1397 non-null   object \n",
      " 5   주관기관      1397 non-null   object \n",
      " 6   주최기관      1397 non-null   object \n",
      " 7   후원기관      689 non-null    object \n",
      " 8   전화번호      1257 non-null   object \n",
      " 9   홈페이지주소    918 non-null    object \n",
      " 10  관련정보      465 non-null    object \n",
      " 11  소재지도로명주소  1262 non-null   object \n",
      " 12  소재지지번주소   1095 non-null   object \n",
      " 13  위도        1181 non-null   float64\n",
      " 14  경도        1181 non-null   float64\n",
      " 15  데이터기준일자   1397 non-null   object \n",
      " 16  제공기관코드    1397 non-null   object \n",
      " 17  제공기관명     1397 non-null   object \n",
      "dtypes: float64(2), object(16)\n",
      "memory usage: 196.6+ KB\n"
     ]
    }
   ],
   "source": [
    "festival.info()"
   ]
  },
  {
   "cell_type": "code",
   "execution_count": 5,
   "id": "72e9289b",
   "metadata": {
    "ExecuteTime": {
     "end_time": "2023-07-17T03:57:36.956884Z",
     "start_time": "2023-07-17T03:57:36.925966Z"
    },
    "scrolled": true
   },
   "outputs": [
    {
     "data": {
      "text/html": [
       "<div>\n",
       "<style scoped>\n",
       "    .dataframe tbody tr th:only-of-type {\n",
       "        vertical-align: middle;\n",
       "    }\n",
       "\n",
       "    .dataframe tbody tr th {\n",
       "        vertical-align: top;\n",
       "    }\n",
       "\n",
       "    .dataframe thead th {\n",
       "        text-align: right;\n",
       "    }\n",
       "</style>\n",
       "<table border=\"1\" class=\"dataframe\">\n",
       "  <thead>\n",
       "    <tr style=\"text-align: right;\">\n",
       "      <th></th>\n",
       "      <th>축제명</th>\n",
       "      <th>개최장소</th>\n",
       "      <th>축제시작일자</th>\n",
       "      <th>축제종료일자</th>\n",
       "      <th>축제내용</th>\n",
       "      <th>주최기관</th>\n",
       "      <th>전화번호</th>\n",
       "      <th>소재지도로명주소</th>\n",
       "      <th>소재지지번주소</th>\n",
       "      <th>위도</th>\n",
       "      <th>경도</th>\n",
       "    </tr>\n",
       "  </thead>\n",
       "  <tbody>\n",
       "    <tr>\n",
       "      <th>0</th>\n",
       "      <td>풍기인삼축제(2022 영주세계풍기인삼 엑스포)</td>\n",
       "      <td>축제풍기인삼문화팝업공원 일원</td>\n",
       "      <td>2022-09-30</td>\n",
       "      <td>2022-10-23</td>\n",
       "      <td>풍기기네스, 풍퀴즈 온더블록, 인삼향 풍기네, 슬기로운 풍기인삼 릴레이콘서트 등</td>\n",
       "      <td>영주시</td>\n",
       "      <td>054-635-0020</td>\n",
       "      <td>경상북도 영주시 풍기읍 남원로 80</td>\n",
       "      <td>NaN</td>\n",
       "      <td>NaN</td>\n",
       "      <td>NaN</td>\n",
       "    </tr>\n",
       "    <tr>\n",
       "      <th>1</th>\n",
       "      <td>산청한방약초축제</td>\n",
       "      <td>산청IC축제광장+ 동의보감촌</td>\n",
       "      <td>2022-09-30</td>\n",
       "      <td>2022-10-11</td>\n",
       "      <td>동의보감촌 허준순례길 구절초,한방촌거리 체험(대장간, 한의원, 약선음식 체험),동의...</td>\n",
       "      <td>산청군</td>\n",
       "      <td>055-970-6601</td>\n",
       "      <td>경상남도 산청군 금서면 동의보감로555번길 61</td>\n",
       "      <td>NaN</td>\n",
       "      <td>NaN</td>\n",
       "      <td>NaN</td>\n",
       "    </tr>\n",
       "    <tr>\n",
       "      <th>2</th>\n",
       "      <td>양양송이축제</td>\n",
       "      <td>강원도 양양군 전통시장 및 남대천 일원</td>\n",
       "      <td>2022-09-30</td>\n",
       "      <td>2022-10-02</td>\n",
       "      <td>송이 보물찾기,송이돌이 만들기, 목공예체험, 버블쇼 공연, 송이볼링과 송이 과녁컬링</td>\n",
       "      <td>양양군</td>\n",
       "      <td>033-671-3803</td>\n",
       "      <td>NaN</td>\n",
       "      <td>강원도 양양군 양양읍 남문리 226-2</td>\n",
       "      <td>NaN</td>\n",
       "      <td>NaN</td>\n",
       "    </tr>\n",
       "    <tr>\n",
       "      <th>3</th>\n",
       "      <td>울산옹기축제</td>\n",
       "      <td>온라인 축제</td>\n",
       "      <td>2022-09-30</td>\n",
       "      <td>2022-10-03</td>\n",
       "      <td>국내 유일의 옹기특화 축제, 온라인비대면축제</td>\n",
       "      <td>울산광역시 울주군청 관광과</td>\n",
       "      <td>052-204-0355</td>\n",
       "      <td>울산광역시 울주군 온양읍 외고산2길 2-13</td>\n",
       "      <td>울산광역시 울주군 온양읍 고산리 512-4</td>\n",
       "      <td>35.432991</td>\n",
       "      <td>129.278447</td>\n",
       "    </tr>\n",
       "    <tr>\n",
       "      <th>4</th>\n",
       "      <td>금산인삼축제</td>\n",
       "      <td>금산인삼관 광장 및 인삼약초시장 일원</td>\n",
       "      <td>2022-09-30</td>\n",
       "      <td>2022-10-23</td>\n",
       "      <td>ㅇ인삼캐기 체험+인삼약초체험+생활건강 체험 등 건강 체험관 운영+국제인삼교역전+인삼...</td>\n",
       "      <td>충청남도 금산군</td>\n",
       "      <td>041-750-4144</td>\n",
       "      <td>충청남도 금산군 금산읍 인삼광장로 30</td>\n",
       "      <td>충청남도 금산군 금산읍 신대리 392</td>\n",
       "      <td>36.100026</td>\n",
       "      <td>127.500730</td>\n",
       "    </tr>\n",
       "    <tr>\n",
       "      <th>...</th>\n",
       "      <td>...</td>\n",
       "      <td>...</td>\n",
       "      <td>...</td>\n",
       "      <td>...</td>\n",
       "      <td>...</td>\n",
       "      <td>...</td>\n",
       "      <td>...</td>\n",
       "      <td>...</td>\n",
       "      <td>...</td>\n",
       "      <td>...</td>\n",
       "      <td>...</td>\n",
       "    </tr>\n",
       "    <tr>\n",
       "      <th>1392</th>\n",
       "      <td>힐링 개그 콘서트</td>\n",
       "      <td>꽃바위문화관 3층 다목적공연장</td>\n",
       "      <td>2021-08-26</td>\n",
       "      <td>2021-08-26</td>\n",
       "      <td>개그x싱어롱</td>\n",
       "      <td>꽃바위문화관</td>\n",
       "      <td>052-209-4330</td>\n",
       "      <td>울산광역시 동구 문현3길 6</td>\n",
       "      <td>울산광역시 동구 방어동 1120-1</td>\n",
       "      <td>35.487058</td>\n",
       "      <td>129.411263</td>\n",
       "    </tr>\n",
       "    <tr>\n",
       "      <th>1393</th>\n",
       "      <td>오페라 팝페라 뽕페라</td>\n",
       "      <td>꽃바위문화관 3층 다목적공연장</td>\n",
       "      <td>2021-09-30</td>\n",
       "      <td>2021-09-30</td>\n",
       "      <td>콘서트</td>\n",
       "      <td>꽃바위문화관</td>\n",
       "      <td>052-209-4330</td>\n",
       "      <td>울산광역시 동구 문현3길 6</td>\n",
       "      <td>울산광역시 동구 방어동 1120-1</td>\n",
       "      <td>35.487058</td>\n",
       "      <td>129.411263</td>\n",
       "    </tr>\n",
       "    <tr>\n",
       "      <th>1394</th>\n",
       "      <td>박강수콘서트</td>\n",
       "      <td>꽃바위문화관 3층 다목적공연장</td>\n",
       "      <td>2021-10-21</td>\n",
       "      <td>2021-10-21</td>\n",
       "      <td>콘서트</td>\n",
       "      <td>꽃바위문화관</td>\n",
       "      <td>052-209-4330</td>\n",
       "      <td>울산광역시 동구 문현3길 6</td>\n",
       "      <td>울산광역시 동구 방어동 1120-1</td>\n",
       "      <td>35.487058</td>\n",
       "      <td>129.411263</td>\n",
       "    </tr>\n",
       "    <tr>\n",
       "      <th>1395</th>\n",
       "      <td>대왕암 해맞이 축제</td>\n",
       "      <td>대왕암</td>\n",
       "      <td>2023-01-01</td>\n",
       "      <td>2023-01-01</td>\n",
       "      <td>해맞이</td>\n",
       "      <td>동울산청년회의소</td>\n",
       "      <td>NaN</td>\n",
       "      <td>NaN</td>\n",
       "      <td>울산광역시 동구 일산동 산907</td>\n",
       "      <td>NaN</td>\n",
       "      <td>NaN</td>\n",
       "    </tr>\n",
       "    <tr>\n",
       "      <th>1396</th>\n",
       "      <td>퓨전 국악의 향연</td>\n",
       "      <td>꽃바위문화관 3층 다목적공연장</td>\n",
       "      <td>2023-05-19</td>\n",
       "      <td>2023-05-19</td>\n",
       "      <td>국악</td>\n",
       "      <td>울산광역시 동구</td>\n",
       "      <td>052-209-4330</td>\n",
       "      <td>울산광역시 동구 문현3길 6</td>\n",
       "      <td>울산광역시 동구 방어동 1120-1</td>\n",
       "      <td>35.487058</td>\n",
       "      <td>129.411263</td>\n",
       "    </tr>\n",
       "  </tbody>\n",
       "</table>\n",
       "<p>1397 rows × 11 columns</p>\n",
       "</div>"
      ],
      "text/plain": [
       "                            축제명                   개최장소      축제시작일자  \\\n",
       "0     풍기인삼축제(2022 영주세계풍기인삼 엑스포)        축제풍기인삼문화팝업공원 일원  2022-09-30   \n",
       "1                      산청한방약초축제        산청IC축제광장+ 동의보감촌  2022-09-30   \n",
       "2                        양양송이축제  강원도 양양군 전통시장 및 남대천 일원  2022-09-30   \n",
       "3                        울산옹기축제                 온라인 축제  2022-09-30   \n",
       "4                        금산인삼축제   금산인삼관 광장 및 인삼약초시장 일원  2022-09-30   \n",
       "...                         ...                    ...         ...   \n",
       "1392                  힐링 개그 콘서트       꽃바위문화관 3층 다목적공연장  2021-08-26   \n",
       "1393                오페라 팝페라 뽕페라       꽃바위문화관 3층 다목적공연장  2021-09-30   \n",
       "1394                     박강수콘서트       꽃바위문화관 3층 다목적공연장  2021-10-21   \n",
       "1395                 대왕암 해맞이 축제                    대왕암  2023-01-01   \n",
       "1396                  퓨전 국악의 향연       꽃바위문화관 3층 다목적공연장  2023-05-19   \n",
       "\n",
       "          축제종료일자                                               축제내용  \\\n",
       "0     2022-10-23       풍기기네스, 풍퀴즈 온더블록, 인삼향 풍기네, 슬기로운 풍기인삼 릴레이콘서트 등   \n",
       "1     2022-10-11  동의보감촌 허준순례길 구절초,한방촌거리 체험(대장간, 한의원, 약선음식 체험),동의...   \n",
       "2     2022-10-02     송이 보물찾기,송이돌이 만들기, 목공예체험, 버블쇼 공연, 송이볼링과 송이 과녁컬링   \n",
       "3     2022-10-03                           국내 유일의 옹기특화 축제, 온라인비대면축제   \n",
       "4     2022-10-23  ㅇ인삼캐기 체험+인삼약초체험+생활건강 체험 등 건강 체험관 운영+국제인삼교역전+인삼...   \n",
       "...          ...                                                ...   \n",
       "1392  2021-08-26                                             개그x싱어롱   \n",
       "1393  2021-09-30                                                콘서트   \n",
       "1394  2021-10-21                                                콘서트   \n",
       "1395  2023-01-01                                                해맞이   \n",
       "1396  2023-05-19                                                 국악   \n",
       "\n",
       "                주최기관          전화번호                    소재지도로명주소  \\\n",
       "0                영주시  054-635-0020         경상북도 영주시 풍기읍 남원로 80   \n",
       "1                산청군  055-970-6601  경상남도 산청군 금서면 동의보감로555번길 61   \n",
       "2                양양군  033-671-3803                         NaN   \n",
       "3     울산광역시 울주군청 관광과  052-204-0355    울산광역시 울주군 온양읍 외고산2길 2-13   \n",
       "4           충청남도 금산군  041-750-4144       충청남도 금산군 금산읍 인삼광장로 30   \n",
       "...              ...           ...                         ...   \n",
       "1392          꽃바위문화관  052-209-4330             울산광역시 동구 문현3길 6   \n",
       "1393          꽃바위문화관  052-209-4330             울산광역시 동구 문현3길 6   \n",
       "1394          꽃바위문화관  052-209-4330             울산광역시 동구 문현3길 6   \n",
       "1395        동울산청년회의소           NaN                         NaN   \n",
       "1396        울산광역시 동구  052-209-4330             울산광역시 동구 문현3길 6   \n",
       "\n",
       "                      소재지지번주소         위도          경도  \n",
       "0                         NaN        NaN         NaN  \n",
       "1                         NaN        NaN         NaN  \n",
       "2       강원도 양양군 양양읍 남문리 226-2        NaN         NaN  \n",
       "3     울산광역시 울주군 온양읍 고산리 512-4  35.432991  129.278447  \n",
       "4        충청남도 금산군 금산읍 신대리 392  36.100026  127.500730  \n",
       "...                       ...        ...         ...  \n",
       "1392      울산광역시 동구 방어동 1120-1  35.487058  129.411263  \n",
       "1393      울산광역시 동구 방어동 1120-1  35.487058  129.411263  \n",
       "1394      울산광역시 동구 방어동 1120-1  35.487058  129.411263  \n",
       "1395        울산광역시 동구 일산동 산907        NaN         NaN  \n",
       "1396      울산광역시 동구 방어동 1120-1  35.487058  129.411263  \n",
       "\n",
       "[1397 rows x 11 columns]"
      ]
     },
     "execution_count": 5,
     "metadata": {},
     "output_type": "execute_result"
    }
   ],
   "source": [
    "# 필요없는 행 삭제\n",
    "drop = ['주관기관', '후원기관', '홈페이지주소', '관련정보', '데이터기준일자', '제공기관코드', '제공기관명']\n",
    "festival.drop(drop, axis=1, inplace=True)\n",
    "festival"
   ]
  },
  {
   "cell_type": "code",
   "execution_count": 6,
   "id": "7a3462f1",
   "metadata": {
    "ExecuteTime": {
     "end_time": "2023-07-17T03:57:38.280195Z",
     "start_time": "2023-07-17T03:57:38.221858Z"
    },
    "scrolled": true
   },
   "outputs": [
    {
     "name": "stdout",
     "output_type": "stream",
     "text": [
      "<class 'pandas.core.frame.DataFrame'>\n",
      "RangeIndex: 1397 entries, 0 to 1396\n",
      "Data columns (total 11 columns):\n",
      " #   Column    Non-Null Count  Dtype         \n",
      "---  ------    --------------  -----         \n",
      " 0   축제명       1397 non-null   object        \n",
      " 1   개최장소      1397 non-null   object        \n",
      " 2   축제시작일자    1397 non-null   datetime64[ns]\n",
      " 3   축제종료일자    1397 non-null   datetime64[ns]\n",
      " 4   축제내용      1397 non-null   object        \n",
      " 5   주최기관      1397 non-null   object        \n",
      " 6   전화번호      1257 non-null   object        \n",
      " 7   소재지도로명주소  1262 non-null   object        \n",
      " 8   소재지지번주소   1095 non-null   object        \n",
      " 9   위도        1181 non-null   float64       \n",
      " 10  경도        1181 non-null   float64       \n",
      "dtypes: datetime64[ns](2), float64(2), object(7)\n",
      "memory usage: 120.2+ KB\n"
     ]
    }
   ],
   "source": [
    "# 축제일을 오브젝트에서 시간데이터로 바꾸고, 전체축제를 파일로 저장\n",
    "festival['축제시작일자'] = pd.to_datetime(festival['축제시작일자'])\n",
    "festival['축제종료일자'] = pd.to_datetime(festival['축제종료일자'])\n",
    "festival.to_csv('축제.csv', mode='w', encoding='cp949')\n",
    "festival.info()"
   ]
  },
  {
   "cell_type": "code",
   "execution_count": 7,
   "id": "a2410c17",
   "metadata": {
    "ExecuteTime": {
     "end_time": "2023-07-17T03:57:39.398129Z",
     "start_time": "2023-07-17T03:57:39.382146Z"
    },
    "scrolled": true
   },
   "outputs": [
    {
     "data": {
      "text/plain": [
       "0       False\n",
       "1       False\n",
       "2       False\n",
       "3       False\n",
       "4       False\n",
       "        ...  \n",
       "1392    False\n",
       "1393    False\n",
       "1394    False\n",
       "1395     True\n",
       "1396     True\n",
       "Name: 축제시작일자, Length: 1397, dtype: bool"
      ]
     },
     "execution_count": 7,
     "metadata": {},
     "output_type": "execute_result"
    }
   ],
   "source": [
    "festival['축제시작일자'] >= pd.to_datetime('2023')"
   ]
  },
  {
   "cell_type": "code",
   "execution_count": 8,
   "id": "71ad0df6",
   "metadata": {
    "ExecuteTime": {
     "end_time": "2023-07-17T03:57:41.635554Z",
     "start_time": "2023-07-17T03:57:41.630541Z"
    },
    "scrolled": true
   },
   "outputs": [],
   "source": [
    "# 축제일이 2023년 이후인 축제만 모음\n",
    "# festival2023 = festival[festival['축제시작일자'] >= pd.to_datetime('2023')]\n",
    "# festival2023.to_csv('축제2023.csv', mode='w', encoding='cp949')\n",
    "# festival2023.info()"
   ]
  },
  {
   "cell_type": "code",
   "execution_count": 9,
   "id": "85fa2845",
   "metadata": {
    "ExecuteTime": {
     "end_time": "2023-07-17T03:57:42.055895Z",
     "start_time": "2023-07-17T03:57:42.046918Z"
    }
   },
   "outputs": [
    {
     "data": {
      "text/plain": [
       "축제명           0\n",
       "개최장소          0\n",
       "축제시작일자        0\n",
       "축제종료일자        0\n",
       "축제내용          0\n",
       "주최기관          0\n",
       "전화번호        140\n",
       "소재지도로명주소    135\n",
       "소재지지번주소     302\n",
       "위도          216\n",
       "경도          216\n",
       "dtype: int64"
      ]
     },
     "execution_count": 9,
     "metadata": {},
     "output_type": "execute_result"
    }
   ],
   "source": [
    "festival.isnull().sum()"
   ]
  },
  {
   "cell_type": "code",
   "execution_count": 10,
   "id": "91c45214",
   "metadata": {
    "ExecuteTime": {
     "end_time": "2023-07-17T03:57:45.307811Z",
     "start_time": "2023-07-17T03:57:45.285870Z"
    },
    "scrolled": true
   },
   "outputs": [
    {
     "name": "stdout",
     "output_type": "stream",
     "text": [
      "<class 'pandas.core.frame.DataFrame'>\n",
      "Index: 1181 entries, 3 to 1396\n",
      "Data columns (total 11 columns):\n",
      " #   Column    Non-Null Count  Dtype         \n",
      "---  ------    --------------  -----         \n",
      " 0   축제명       1181 non-null   object        \n",
      " 1   개최장소      1181 non-null   object        \n",
      " 2   축제시작일자    1181 non-null   datetime64[ns]\n",
      " 3   축제종료일자    1181 non-null   datetime64[ns]\n",
      " 4   축제내용      1181 non-null   object        \n",
      " 5   주최기관      1181 non-null   object        \n",
      " 6   전화번호      1096 non-null   object        \n",
      " 7   소재지도로명주소  1078 non-null   object        \n",
      " 8   소재지지번주소   1027 non-null   object        \n",
      " 9   위도        1181 non-null   float64       \n",
      " 10  경도        1181 non-null   float64       \n",
      "dtypes: datetime64[ns](2), float64(2), object(7)\n",
      "memory usage: 110.7+ KB\n"
     ]
    }
   ],
   "source": [
    "# 위도, 경도 결측값 있는 데이터 삭제\n",
    "festival = festival[festival['위도'].notnull()]\n",
    "festival.info()"
   ]
  },
  {
   "cell_type": "code",
   "execution_count": 11,
   "id": "3d4836ac",
   "metadata": {
    "ExecuteTime": {
     "end_time": "2023-07-17T03:57:46.010370Z",
     "start_time": "2023-07-17T03:57:45.997382Z"
    },
    "scrolled": true
   },
   "outputs": [
    {
     "name": "stderr",
     "output_type": "stream",
     "text": [
      "C:\\Users\\tj-bu\\AppData\\Local\\Temp\\ipykernel_5624\\13213769.py:2: SettingWithCopyWarning: \n",
      "A value is trying to be set on a copy of a slice from a DataFrame.\n",
      "Try using .loc[row_indexer,col_indexer] = value instead\n",
      "\n",
      "See the caveats in the documentation: https://pandas.pydata.org/pandas-docs/stable/user_guide/indexing.html#returning-a-view-versus-a-copy\n",
      "  festival['소재지도로명주소'] = festival['소재지도로명주소'].fillna(festival['소재지지번주소'])\n"
     ]
    }
   ],
   "source": [
    "# 주소 2개를 하나로 통합\n",
    "festival['소재지도로명주소'] = festival['소재지도로명주소'].fillna(festival['소재지지번주소'])"
   ]
  },
  {
   "cell_type": "code",
   "execution_count": 12,
   "id": "df06faca",
   "metadata": {
    "ExecuteTime": {
     "end_time": "2023-07-17T03:57:47.754096Z",
     "start_time": "2023-07-17T03:57:47.733151Z"
    },
    "scrolled": true
   },
   "outputs": [
    {
     "data": {
      "text/html": [
       "<div>\n",
       "<style scoped>\n",
       "    .dataframe tbody tr th:only-of-type {\n",
       "        vertical-align: middle;\n",
       "    }\n",
       "\n",
       "    .dataframe tbody tr th {\n",
       "        vertical-align: top;\n",
       "    }\n",
       "\n",
       "    .dataframe thead th {\n",
       "        text-align: right;\n",
       "    }\n",
       "</style>\n",
       "<table border=\"1\" class=\"dataframe\">\n",
       "  <thead>\n",
       "    <tr style=\"text-align: right;\">\n",
       "      <th></th>\n",
       "      <th>축제명</th>\n",
       "      <th>개최장소</th>\n",
       "      <th>축제시작일자</th>\n",
       "      <th>축제종료일자</th>\n",
       "      <th>축제내용</th>\n",
       "      <th>주최기관</th>\n",
       "      <th>전화번호</th>\n",
       "      <th>소재지도로명주소</th>\n",
       "      <th>소재지지번주소</th>\n",
       "      <th>위도</th>\n",
       "      <th>경도</th>\n",
       "    </tr>\n",
       "  </thead>\n",
       "  <tbody>\n",
       "    <tr>\n",
       "      <th>3</th>\n",
       "      <td>울산옹기축제</td>\n",
       "      <td>온라인 축제</td>\n",
       "      <td>2022-09-30</td>\n",
       "      <td>2022-10-03</td>\n",
       "      <td>국내 유일의 옹기특화 축제, 온라인비대면축제</td>\n",
       "      <td>울산광역시 울주군청 관광과</td>\n",
       "      <td>052-204-0355</td>\n",
       "      <td>울산광역시 울주군 온양읍 외고산2길 2-13</td>\n",
       "      <td>울산광역시 울주군 온양읍 고산리 512-4</td>\n",
       "      <td>35.432991</td>\n",
       "      <td>129.278447</td>\n",
       "    </tr>\n",
       "    <tr>\n",
       "      <th>4</th>\n",
       "      <td>금산인삼축제</td>\n",
       "      <td>금산인삼관 광장 및 인삼약초시장 일원</td>\n",
       "      <td>2022-09-30</td>\n",
       "      <td>2022-10-23</td>\n",
       "      <td>ㅇ인삼캐기 체험+인삼약초체험+생활건강 체험 등 건강 체험관 운영+국제인삼교역전+인삼...</td>\n",
       "      <td>충청남도 금산군</td>\n",
       "      <td>041-750-4144</td>\n",
       "      <td>충청남도 금산군 금산읍 인삼광장로 30</td>\n",
       "      <td>충청남도 금산군 금산읍 신대리 392</td>\n",
       "      <td>36.100026</td>\n",
       "      <td>127.500730</td>\n",
       "    </tr>\n",
       "    <tr>\n",
       "      <th>5</th>\n",
       "      <td>횡성한우축제</td>\n",
       "      <td>횡성종합운동장</td>\n",
       "      <td>2022-09-30</td>\n",
       "      <td>2022-10-04</td>\n",
       "      <td>한우구이터+횡성한우 발전포럼+횡성빛축제 등</td>\n",
       "      <td>강원도 횡성군청</td>\n",
       "      <td>033-340-5712</td>\n",
       "      <td>강원도 횡성군 횡성읍 문화체육로 57</td>\n",
       "      <td>강원도 횡성군 횡성읍 북천리 184</td>\n",
       "      <td>37.496087</td>\n",
       "      <td>127.989150</td>\n",
       "    </tr>\n",
       "    <tr>\n",
       "      <th>6</th>\n",
       "      <td>원주다이내믹댄싱카니발</td>\n",
       "      <td>댄싱공연장 및 원일로 일원</td>\n",
       "      <td>2022-10-01</td>\n",
       "      <td>2022-10-03</td>\n",
       "      <td>댄싱경연, 문화예술공연, 각종 체험 등</td>\n",
       "      <td>강원도 원주시청+제36사단</td>\n",
       "      <td>033-737-5132</td>\n",
       "      <td>강원도 원주시 단구로 170</td>\n",
       "      <td>강원도 원주시 명륜동 345</td>\n",
       "      <td>37.336430</td>\n",
       "      <td>127.946261</td>\n",
       "    </tr>\n",
       "    <tr>\n",
       "      <th>7</th>\n",
       "      <td>소래포구축제</td>\n",
       "      <td>인천 남동구 소래포구 일원</td>\n",
       "      <td>2022-10-01</td>\n",
       "      <td>2022-10-03</td>\n",
       "      <td>관광축제</td>\n",
       "      <td>인천광역시 남동구</td>\n",
       "      <td>032-453-2142</td>\n",
       "      <td>인천광역시 남동구 아암대로 1454</td>\n",
       "      <td>인천광역시 남동구 논현동 775</td>\n",
       "      <td>37.387252</td>\n",
       "      <td>126.726980</td>\n",
       "    </tr>\n",
       "    <tr>\n",
       "      <th>...</th>\n",
       "      <td>...</td>\n",
       "      <td>...</td>\n",
       "      <td>...</td>\n",
       "      <td>...</td>\n",
       "      <td>...</td>\n",
       "      <td>...</td>\n",
       "      <td>...</td>\n",
       "      <td>...</td>\n",
       "      <td>...</td>\n",
       "      <td>...</td>\n",
       "      <td>...</td>\n",
       "    </tr>\n",
       "    <tr>\n",
       "      <th>1391</th>\n",
       "      <td>나 때는 말이야</td>\n",
       "      <td>꽃바위문화관 3층 다목적공연장</td>\n",
       "      <td>2021-07-22</td>\n",
       "      <td>2021-07-22</td>\n",
       "      <td>힙합</td>\n",
       "      <td>꽃바위문화관</td>\n",
       "      <td>052-209-4330</td>\n",
       "      <td>울산광역시 동구 문현3길 6</td>\n",
       "      <td>울산광역시 동구 방어동 1120-1</td>\n",
       "      <td>35.487058</td>\n",
       "      <td>129.411263</td>\n",
       "    </tr>\n",
       "    <tr>\n",
       "      <th>1392</th>\n",
       "      <td>힐링 개그 콘서트</td>\n",
       "      <td>꽃바위문화관 3층 다목적공연장</td>\n",
       "      <td>2021-08-26</td>\n",
       "      <td>2021-08-26</td>\n",
       "      <td>개그x싱어롱</td>\n",
       "      <td>꽃바위문화관</td>\n",
       "      <td>052-209-4330</td>\n",
       "      <td>울산광역시 동구 문현3길 6</td>\n",
       "      <td>울산광역시 동구 방어동 1120-1</td>\n",
       "      <td>35.487058</td>\n",
       "      <td>129.411263</td>\n",
       "    </tr>\n",
       "    <tr>\n",
       "      <th>1393</th>\n",
       "      <td>오페라 팝페라 뽕페라</td>\n",
       "      <td>꽃바위문화관 3층 다목적공연장</td>\n",
       "      <td>2021-09-30</td>\n",
       "      <td>2021-09-30</td>\n",
       "      <td>콘서트</td>\n",
       "      <td>꽃바위문화관</td>\n",
       "      <td>052-209-4330</td>\n",
       "      <td>울산광역시 동구 문현3길 6</td>\n",
       "      <td>울산광역시 동구 방어동 1120-1</td>\n",
       "      <td>35.487058</td>\n",
       "      <td>129.411263</td>\n",
       "    </tr>\n",
       "    <tr>\n",
       "      <th>1394</th>\n",
       "      <td>박강수콘서트</td>\n",
       "      <td>꽃바위문화관 3층 다목적공연장</td>\n",
       "      <td>2021-10-21</td>\n",
       "      <td>2021-10-21</td>\n",
       "      <td>콘서트</td>\n",
       "      <td>꽃바위문화관</td>\n",
       "      <td>052-209-4330</td>\n",
       "      <td>울산광역시 동구 문현3길 6</td>\n",
       "      <td>울산광역시 동구 방어동 1120-1</td>\n",
       "      <td>35.487058</td>\n",
       "      <td>129.411263</td>\n",
       "    </tr>\n",
       "    <tr>\n",
       "      <th>1396</th>\n",
       "      <td>퓨전 국악의 향연</td>\n",
       "      <td>꽃바위문화관 3층 다목적공연장</td>\n",
       "      <td>2023-05-19</td>\n",
       "      <td>2023-05-19</td>\n",
       "      <td>국악</td>\n",
       "      <td>울산광역시 동구</td>\n",
       "      <td>052-209-4330</td>\n",
       "      <td>울산광역시 동구 문현3길 6</td>\n",
       "      <td>울산광역시 동구 방어동 1120-1</td>\n",
       "      <td>35.487058</td>\n",
       "      <td>129.411263</td>\n",
       "    </tr>\n",
       "  </tbody>\n",
       "</table>\n",
       "<p>1181 rows × 11 columns</p>\n",
       "</div>"
      ],
      "text/plain": [
       "              축제명                  개최장소     축제시작일자     축제종료일자  \\\n",
       "3          울산옹기축제                온라인 축제 2022-09-30 2022-10-03   \n",
       "4          금산인삼축제  금산인삼관 광장 및 인삼약초시장 일원 2022-09-30 2022-10-23   \n",
       "5          횡성한우축제               횡성종합운동장 2022-09-30 2022-10-04   \n",
       "6     원주다이내믹댄싱카니발        댄싱공연장 및 원일로 일원 2022-10-01 2022-10-03   \n",
       "7          소래포구축제        인천 남동구 소래포구 일원 2022-10-01 2022-10-03   \n",
       "...           ...                   ...        ...        ...   \n",
       "1391     나 때는 말이야      꽃바위문화관 3층 다목적공연장 2021-07-22 2021-07-22   \n",
       "1392    힐링 개그 콘서트      꽃바위문화관 3층 다목적공연장 2021-08-26 2021-08-26   \n",
       "1393  오페라 팝페라 뽕페라      꽃바위문화관 3층 다목적공연장 2021-09-30 2021-09-30   \n",
       "1394       박강수콘서트      꽃바위문화관 3층 다목적공연장 2021-10-21 2021-10-21   \n",
       "1396    퓨전 국악의 향연      꽃바위문화관 3층 다목적공연장 2023-05-19 2023-05-19   \n",
       "\n",
       "                                                   축제내용            주최기관  \\\n",
       "3                              국내 유일의 옹기특화 축제, 온라인비대면축제  울산광역시 울주군청 관광과   \n",
       "4     ㅇ인삼캐기 체험+인삼약초체험+생활건강 체험 등 건강 체험관 운영+국제인삼교역전+인삼...        충청남도 금산군   \n",
       "5                               한우구이터+횡성한우 발전포럼+횡성빛축제 등        강원도 횡성군청   \n",
       "6                                 댄싱경연, 문화예술공연, 각종 체험 등  강원도 원주시청+제36사단   \n",
       "7                                                  관광축제       인천광역시 남동구   \n",
       "...                                                 ...             ...   \n",
       "1391                                                 힙합          꽃바위문화관   \n",
       "1392                                             개그x싱어롱          꽃바위문화관   \n",
       "1393                                                콘서트          꽃바위문화관   \n",
       "1394                                                콘서트          꽃바위문화관   \n",
       "1396                                                 국악        울산광역시 동구   \n",
       "\n",
       "              전화번호                  소재지도로명주소                  소재지지번주소  \\\n",
       "3     052-204-0355  울산광역시 울주군 온양읍 외고산2길 2-13  울산광역시 울주군 온양읍 고산리 512-4   \n",
       "4     041-750-4144     충청남도 금산군 금산읍 인삼광장로 30     충청남도 금산군 금산읍 신대리 392   \n",
       "5     033-340-5712      강원도 횡성군 횡성읍 문화체육로 57      강원도 횡성군 횡성읍 북천리 184   \n",
       "6     033-737-5132           강원도 원주시 단구로 170          강원도 원주시 명륜동 345   \n",
       "7     032-453-2142       인천광역시 남동구 아암대로 1454        인천광역시 남동구 논현동 775   \n",
       "...            ...                       ...                      ...   \n",
       "1391  052-209-4330           울산광역시 동구 문현3길 6      울산광역시 동구 방어동 1120-1   \n",
       "1392  052-209-4330           울산광역시 동구 문현3길 6      울산광역시 동구 방어동 1120-1   \n",
       "1393  052-209-4330           울산광역시 동구 문현3길 6      울산광역시 동구 방어동 1120-1   \n",
       "1394  052-209-4330           울산광역시 동구 문현3길 6      울산광역시 동구 방어동 1120-1   \n",
       "1396  052-209-4330           울산광역시 동구 문현3길 6      울산광역시 동구 방어동 1120-1   \n",
       "\n",
       "             위도          경도  \n",
       "3     35.432991  129.278447  \n",
       "4     36.100026  127.500730  \n",
       "5     37.496087  127.989150  \n",
       "6     37.336430  127.946261  \n",
       "7     37.387252  126.726980  \n",
       "...         ...         ...  \n",
       "1391  35.487058  129.411263  \n",
       "1392  35.487058  129.411263  \n",
       "1393  35.487058  129.411263  \n",
       "1394  35.487058  129.411263  \n",
       "1396  35.487058  129.411263  \n",
       "\n",
       "[1181 rows x 11 columns]"
      ]
     },
     "execution_count": 12,
     "metadata": {},
     "output_type": "execute_result"
    }
   ],
   "source": [
    "festival"
   ]
  },
  {
   "cell_type": "code",
   "execution_count": 13,
   "id": "945f72ef",
   "metadata": {
    "ExecuteTime": {
     "end_time": "2023-07-17T03:57:48.451437Z",
     "start_time": "2023-07-17T03:57:48.429497Z"
    },
    "scrolled": true
   },
   "outputs": [
    {
     "name": "stdout",
     "output_type": "stream",
     "text": [
      "<class 'pandas.core.frame.DataFrame'>\n",
      "Index: 1181 entries, 3 to 1396\n",
      "Data columns (total 11 columns):\n",
      " #   Column    Non-Null Count  Dtype         \n",
      "---  ------    --------------  -----         \n",
      " 0   축제명       1181 non-null   object        \n",
      " 1   개최장소      1181 non-null   object        \n",
      " 2   축제시작일자    1181 non-null   datetime64[ns]\n",
      " 3   축제종료일자    1181 non-null   datetime64[ns]\n",
      " 4   축제내용      1181 non-null   object        \n",
      " 5   주최기관      1181 non-null   object        \n",
      " 6   전화번호      1096 non-null   object        \n",
      " 7   소재지도로명주소  1181 non-null   object        \n",
      " 8   소재지지번주소   1027 non-null   object        \n",
      " 9   위도        1181 non-null   float64       \n",
      " 10  경도        1181 non-null   float64       \n",
      "dtypes: datetime64[ns](2), float64(2), object(7)\n",
      "memory usage: 110.7+ KB\n"
     ]
    }
   ],
   "source": [
    "festival.info()"
   ]
  },
  {
   "cell_type": "code",
   "execution_count": 14,
   "id": "c07b67f5",
   "metadata": {
    "ExecuteTime": {
     "end_time": "2023-07-17T03:57:51.016887Z",
     "start_time": "2023-07-17T03:57:50.997914Z"
    },
    "scrolled": true
   },
   "outputs": [
    {
     "name": "stdout",
     "output_type": "stream",
     "text": [
      "<class 'pandas.core.frame.DataFrame'>\n",
      "Index: 1181 entries, 3 to 1396\n",
      "Data columns (total 10 columns):\n",
      " #   Column    Non-Null Count  Dtype         \n",
      "---  ------    --------------  -----         \n",
      " 0   축제명       1181 non-null   object        \n",
      " 1   개최장소      1181 non-null   object        \n",
      " 2   축제시작일자    1181 non-null   datetime64[ns]\n",
      " 3   축제종료일자    1181 non-null   datetime64[ns]\n",
      " 4   축제내용      1181 non-null   object        \n",
      " 5   주최기관      1181 non-null   object        \n",
      " 6   전화번호      1096 non-null   object        \n",
      " 7   소재지도로명주소  1181 non-null   object        \n",
      " 8   위도        1181 non-null   float64       \n",
      " 9   경도        1181 non-null   float64       \n",
      "dtypes: datetime64[ns](2), float64(2), object(6)\n",
      "memory usage: 101.5+ KB\n"
     ]
    },
    {
     "name": "stderr",
     "output_type": "stream",
     "text": [
      "C:\\Users\\tj-bu\\AppData\\Local\\Temp\\ipykernel_5624\\2170217170.py:1: SettingWithCopyWarning: \n",
      "A value is trying to be set on a copy of a slice from a DataFrame\n",
      "\n",
      "See the caveats in the documentation: https://pandas.pydata.org/pandas-docs/stable/user_guide/indexing.html#returning-a-view-versus-a-copy\n",
      "  festival.drop('소재지지번주소', axis=1, inplace=True)\n"
     ]
    }
   ],
   "source": [
    "festival.drop('소재지지번주소', axis=1, inplace=True)\n",
    "festival.info()"
   ]
  },
  {
   "cell_type": "code",
   "execution_count": 15,
   "id": "203738ed",
   "metadata": {
    "ExecuteTime": {
     "end_time": "2023-07-17T03:57:51.640191Z",
     "start_time": "2023-07-17T03:57:51.614260Z"
    },
    "scrolled": true
   },
   "outputs": [
    {
     "name": "stdout",
     "output_type": "stream",
     "text": [
      "<class 'pandas.core.frame.DataFrame'>\n",
      "Index: 1181 entries, 3 to 1396\n",
      "Data columns (total 10 columns):\n",
      " #   Column  Non-Null Count  Dtype         \n",
      "---  ------  --------------  -----         \n",
      " 0   축제명     1181 non-null   object        \n",
      " 1   개최장소    1181 non-null   object        \n",
      " 2   축제시작일자  1181 non-null   datetime64[ns]\n",
      " 3   축제종료일자  1181 non-null   datetime64[ns]\n",
      " 4   축제내용    1181 non-null   object        \n",
      " 5   주최기관    1181 non-null   object        \n",
      " 6   전화번호    1096 non-null   object        \n",
      " 7   주소      1181 non-null   object        \n",
      " 8   위도      1181 non-null   float64       \n",
      " 9   경도      1181 non-null   float64       \n",
      "dtypes: datetime64[ns](2), float64(2), object(6)\n",
      "memory usage: 101.5+ KB\n"
     ]
    },
    {
     "name": "stderr",
     "output_type": "stream",
     "text": [
      "C:\\Users\\tj-bu\\AppData\\Local\\Temp\\ipykernel_5624\\3665476211.py:1: SettingWithCopyWarning: \n",
      "A value is trying to be set on a copy of a slice from a DataFrame\n",
      "\n",
      "See the caveats in the documentation: https://pandas.pydata.org/pandas-docs/stable/user_guide/indexing.html#returning-a-view-versus-a-copy\n",
      "  festival.rename(columns={'소재지도로명주소':'주소'}, inplace=True)\n"
     ]
    }
   ],
   "source": [
    "festival.rename(columns={'소재지도로명주소':'주소'}, inplace=True)\n",
    "festival.info()"
   ]
  },
  {
   "cell_type": "code",
   "execution_count": 16,
   "id": "8507af46",
   "metadata": {
    "ExecuteTime": {
     "end_time": "2023-07-17T03:57:53.091441Z",
     "start_time": "2023-07-17T03:57:53.070454Z"
    }
   },
   "outputs": [],
   "source": [
    "festival.to_csv('축제.csv', encoding='cp949')"
   ]
  },
  {
   "cell_type": "markdown",
   "id": "dd42af95",
   "metadata": {},
   "source": [
    "# 데이터 오라클에 넣기"
   ]
  },
  {
   "cell_type": "code",
   "execution_count": 17,
   "id": "5eed5981",
   "metadata": {
    "ExecuteTime": {
     "end_time": "2023-07-17T03:57:56.520593Z",
     "start_time": "2023-07-17T03:57:56.509627Z"
    }
   },
   "outputs": [],
   "source": [
    "import cx_Oracle"
   ]
  },
  {
   "cell_type": "code",
   "execution_count": 75,
   "id": "89f2ddfa",
   "metadata": {
    "ExecuteTime": {
     "end_time": "2023-07-17T05:43:13.202940Z",
     "start_time": "2023-07-17T05:43:13.157968Z"
    }
   },
   "outputs": [
    {
     "data": {
      "text/plain": [
       "<cx_Oracle.Cursor on <cx_Oracle.Connection to project_thejoeun@192.168.30.240:1521/xe>>"
      ]
     },
     "execution_count": 75,
     "metadata": {},
     "output_type": "execute_result"
    }
   ],
   "source": [
    "con = cx_Oracle.connect('project_thejoeun/1541@192.168.30.240:1521/xe')\n",
    "cur = con.cursor()\n",
    "cur"
   ]
  },
  {
   "cell_type": "code",
   "execution_count": 76,
   "id": "c08c012a",
   "metadata": {
    "ExecuteTime": {
     "end_time": "2023-07-17T05:43:14.117921Z",
     "start_time": "2023-07-17T05:43:14.101940Z"
    }
   },
   "outputs": [],
   "source": [
    "num4= '115.2222'"
   ]
  },
  {
   "cell_type": "code",
   "execution_count": 30,
   "id": "0f08e6da",
   "metadata": {
    "ExecuteTime": {
     "end_time": "2023-07-17T04:11:49.445783Z",
     "start_time": "2023-07-17T04:11:49.430822Z"
    }
   },
   "outputs": [],
   "source": [
    "sql_insert = '''\n",
    "            insert into test2(num1, num2, num3)\n",
    "            values(:num1, :num2,:num3)\n",
    "            '''\n",
    "num1 = 101\n",
    "num2=101.2222222\n",
    "num3= num4\n",
    "\n",
    "\n",
    "cur.execute(sql_insert,\n",
    "                (   num1, num2, num3)\n",
    "                )\n",
    "\n",
    "con.commit()\n",
    "cur.close()\n",
    "con.close()\n",
    "\n"
   ]
  },
  {
   "cell_type": "code",
   "execution_count": null,
   "id": "5f869df5",
   "metadata": {},
   "outputs": [],
   "source": []
  },
  {
   "cell_type": "code",
   "execution_count": null,
   "id": "c46daae7",
   "metadata": {},
   "outputs": [],
   "source": []
  },
  {
   "cell_type": "code",
   "execution_count": 81,
   "id": "638af8bd",
   "metadata": {
    "ExecuteTime": {
     "end_time": "2023-07-17T05:46:02.250304Z",
     "start_time": "2023-07-17T05:46:02.078088Z"
    }
   },
   "outputs": [
    {
     "name": "stderr",
     "output_type": "stream",
     "text": [
      "<>:6: SyntaxWarning: \"is not\" with a literal. Did you mean \"!=\"?\n",
      "<>:6: SyntaxWarning: \"is not\" with a literal. Did you mean \"!=\"?\n",
      "C:\\Users\\tj-bu\\AppData\\Local\\Temp\\ipykernel_5624\\1594794353.py:6: SyntaxWarning: \"is not\" with a literal. Did you mean \"!=\"?\n",
      "  if type(festival.iloc[a]['경도']) is not 'object':\n"
     ]
    }
   ],
   "source": [
    "sql_insert = '''\n",
    "            insert into festival2(F_NAME, PLACE, OPEN_DATE, CLOSE_DATE, INFO, HOST_OR, PHONE_NUMBER, ADRESS, LATITUDE, HARDNESS)\n",
    "            values(:F_NAME, :PLACE, :OPEN_DATE, :CLOSE_DATE, :INFO, :HOST_OR, :PHONE_NUMBER, :ADRESS,:LATITUDE,:HARDNESS)\n",
    "            '''\n",
    "for a in  range(1, len(festival)):\n",
    "    if type(festival.iloc[a]['경도']) is not 'object':\n",
    "        continue\n",
    "    F_NAME = festival.iloc[a]['축제명']\n",
    "    PLACE = festival.iloc[a]['개최장소']\n",
    "    OPEN_DATE = festival.iloc[a]['축제시작일자']\n",
    "    CLOSE_DATE = festival.iloc[a]['축제종료일자']\n",
    "    INFO = festival.iloc[a]['축제내용']\n",
    "    HOST_OR = festival.iloc[a]['주최기관']\n",
    "    PHONE_NUMBER = festival.iloc[a]['전화번호']\n",
    "    ADRESS = festival.iloc[a]['주소']\n",
    "    LATITUDE = int(festival.iloc[a]['위도'])\n",
    "    HARDNESS = int(festival.iloc[a]['경도'])\n",
    "\n",
    "    cur.execute(sql_insert,\n",
    "                (   F_NAME, PLACE, OPEN_DATE, CLOSE_DATE, INFO, HOST_OR,\n",
    "                    PHONE_NUMBER, ADRESS, LATITUDE, HARDNESS)\n",
    "                )\n",
    "\n",
    "    con.commit()\n",
    "cur.close()\n",
    "con.close()\n",
    "\n"
   ]
  },
  {
   "cell_type": "code",
   "execution_count": 72,
   "id": "f3838efd",
   "metadata": {
    "ExecuteTime": {
     "end_time": "2023-07-17T04:50:41.428012Z",
     "start_time": "2023-07-17T04:50:41.418064Z"
    }
   },
   "outputs": [],
   "source": [
    "sql_insert = '''\n",
    "            insert into festival(F_NAME, PLACE, OPEN_DATE, CLOSE_DATE, INFO, HOST_OR, PHONE_NUMBER, ADRESS, LATITUDE, HARDNESS)\n",
    "            values(:F_NAME, :PLACE, :OPEN_DATE, :CLOSE_DATE, :INFO, :HOST_OR, :PHONE_NUMBER, :ADRESS,:LATITUDE,:HARDNESS)\n",
    "            '''"
   ]
  },
  {
   "cell_type": "code",
   "execution_count": 74,
   "id": "c60d13ef",
   "metadata": {
    "ExecuteTime": {
     "end_time": "2023-07-17T05:00:10.174619Z",
     "start_time": "2023-07-17T05:00:10.099871Z"
    }
   },
   "outputs": [
    {
     "ename": "DatabaseError",
     "evalue": "DPI-1043: invalid number",
     "output_type": "error",
     "traceback": [
      "\u001b[1;31m---------------------------------------------------------------------------\u001b[0m",
      "\u001b[1;31mDatabaseError\u001b[0m                             Traceback (most recent call last)",
      "Cell \u001b[1;32mIn[74], line 13\u001b[0m\n\u001b[0;32m     10\u001b[0m     LATITUDE \u001b[38;5;241m=\u001b[39m festival\u001b[38;5;241m.\u001b[39miloc[a][\u001b[38;5;124m'\u001b[39m\u001b[38;5;124m위도\u001b[39m\u001b[38;5;124m'\u001b[39m]\n\u001b[0;32m     11\u001b[0m     HARDNESS \u001b[38;5;241m=\u001b[39m festival\u001b[38;5;241m.\u001b[39miloc[a][\u001b[38;5;124m'\u001b[39m\u001b[38;5;124m경도\u001b[39m\u001b[38;5;124m'\u001b[39m]\n\u001b[1;32m---> 13\u001b[0m     \u001b[43mcur\u001b[49m\u001b[38;5;241;43m.\u001b[39;49m\u001b[43mexecute\u001b[49m\u001b[43m(\u001b[49m\u001b[43msql_insert\u001b[49m\u001b[43m,\u001b[49m\n\u001b[0;32m     14\u001b[0m \u001b[43m                \u001b[49m\u001b[43m(\u001b[49m\u001b[43m   \u001b[49m\u001b[43mF_NAME\u001b[49m\u001b[43m,\u001b[49m\u001b[43m \u001b[49m\u001b[43mPLACE\u001b[49m\u001b[43m,\u001b[49m\u001b[43m \u001b[49m\u001b[43mOPEN_DATE\u001b[49m\u001b[43m,\u001b[49m\u001b[43m \u001b[49m\u001b[43mCLOSE_DATE\u001b[49m\u001b[43m,\u001b[49m\u001b[43m \u001b[49m\u001b[43mINFO\u001b[49m\u001b[43m,\u001b[49m\u001b[43m \u001b[49m\u001b[43mHOST_OR\u001b[49m\u001b[43m,\u001b[49m\n\u001b[0;32m     15\u001b[0m \u001b[43m                    \u001b[49m\u001b[43mPHONE_NUMBER\u001b[49m\u001b[43m,\u001b[49m\u001b[43m \u001b[49m\u001b[43mADRESS\u001b[49m\u001b[43m,\u001b[49m\u001b[43m \u001b[49m\u001b[43mLATITUDE\u001b[49m\u001b[43m,\u001b[49m\u001b[43m \u001b[49m\u001b[43mHARDNESS\u001b[49m\u001b[43m)\u001b[49m\n\u001b[0;32m     16\u001b[0m \u001b[43m                \u001b[49m\u001b[43m)\u001b[49m\n\u001b[0;32m     18\u001b[0m con\u001b[38;5;241m.\u001b[39mcommit()\n\u001b[0;32m     19\u001b[0m cur\u001b[38;5;241m.\u001b[39mclose()\n",
      "\u001b[1;31mDatabaseError\u001b[0m: DPI-1043: invalid number"
     ]
    }
   ],
   "source": [
    "for a in  range(0, len(festival)):\n",
    "    F_NAME = festival.iloc[a]['축제명']\n",
    "    PLACE = festival.iloc[a]['개최장소']\n",
    "    OPEN_DATE = festival.iloc[a]['축제시작일자']\n",
    "    CLOSE_DATE = festival.iloc[a]['축제종료일자']\n",
    "    INFO = festival.iloc[a]['축제내용']\n",
    "    HOST_OR = festival.iloc[a]['주최기관']\n",
    "    PHONE_NUMBER = festival.iloc[a]['전화번호']\n",
    "    ADRESS = festival.iloc[a]['주소']\n",
    "    LATITUDE = festival.iloc[a]['위도']\n",
    "    HARDNESS = festival.iloc[a]['경도']\n",
    "\n",
    "    cur.execute(sql_insert,\n",
    "                (   F_NAME, PLACE, OPEN_DATE, CLOSE_DATE, INFO, HOST_OR,\n",
    "                    PHONE_NUMBER, ADRESS, LATITUDE, HARDNESS)\n",
    "                )\n",
    "\n",
    "con.commit()\n",
    "cur.close()\n",
    "con.close()"
   ]
  },
  {
   "cell_type": "markdown",
   "id": "5e8df192",
   "metadata": {},
   "source": [
    "# 지도 표시"
   ]
  },
  {
   "cell_type": "code",
   "execution_count": 65,
   "id": "067b1ec2",
   "metadata": {},
   "outputs": [],
   "source": [
    "m = folium.Map(zoom_start=2,\n",
    "               width=800, \n",
    "               height=550)"
   ]
  },
  {
   "cell_type": "code",
   "execution_count": null,
   "id": "29c57b4f",
   "metadata": {},
   "outputs": [],
   "source": [
    "for name, place, start, end, memo, call, lat, lng in zip(festival2023['축제명'],festival2023['개최장소'],\n",
    "                                                        festival2023['축제시작일자'],festival2023['축제종료일자'],\n",
    "                                                        festival2023['축제내용'],festival2023['전화번호'],\n",
    "                                                        festival2023['위도'],festival2023['경도']):\n",
    "#     popup = '축제명'+name+'\\t'~~~\n",
    "    Marker(location=[lat, lng],\n",
    "           zoom_start=2,\n",
    "          popup=start,\n",
    "          tooltip=name,\n",
    "          icon=folium.Icon(color='blue', icon='star')).add_to(m)\n",
    "m"
   ]
  },
  {
   "cell_type": "markdown",
   "id": "84fa287a",
   "metadata": {},
   "source": [
    "### \n",
    "* 주소 2개를 하나로 합치고\n",
    "* 주소의 도(강원도 등)명으로 검색기능 만들기\n",
    "* 오라클에 csv파일 넣는거(오라클 테이블 만들고)"
   ]
  },
  {
   "cell_type": "code",
   "execution_count": 32,
   "id": "621e7fb6",
   "metadata": {
    "ExecuteTime": {
     "end_time": "2023-07-17T04:14:28.579946Z",
     "start_time": "2023-07-17T04:14:28.569967Z"
    }
   },
   "outputs": [
    {
     "data": {
      "text/plain": [
       "3       129.278447\n",
       "4       127.500730\n",
       "5       127.989150\n",
       "6       127.946261\n",
       "7       126.726980\n",
       "           ...    \n",
       "1391    129.411263\n",
       "1392    129.411263\n",
       "1393    129.411263\n",
       "1394    129.411263\n",
       "1396    129.411263\n",
       "Name: 경도, Length: 1181, dtype: float64"
      ]
     },
     "execution_count": 32,
     "metadata": {},
     "output_type": "execute_result"
    }
   ],
   "source": [
    "festival['경도']"
   ]
  },
  {
   "cell_type": "code",
   "execution_count": 33,
   "id": "c2ca9165",
   "metadata": {
    "ExecuteTime": {
     "end_time": "2023-07-17T04:15:07.710555Z",
     "start_time": "2023-07-17T04:15:07.702577Z"
    }
   },
   "outputs": [],
   "source": [
    "import re"
   ]
  },
  {
   "cell_type": "code",
   "execution_count": 42,
   "id": "094fe972",
   "metadata": {
    "ExecuteTime": {
     "end_time": "2023-07-17T04:41:18.339632Z",
     "start_time": "2023-07-17T04:41:18.322677Z"
    }
   },
   "outputs": [],
   "source": [
    "p=re.compile('\\d*[.]\\d*')"
   ]
  },
  {
   "cell_type": "code",
   "execution_count": 65,
   "id": "465d0b2f",
   "metadata": {
    "ExecuteTime": {
     "end_time": "2023-07-17T04:48:15.244316Z",
     "start_time": "2023-07-17T04:48:15.234342Z"
    }
   },
   "outputs": [],
   "source": [
    "# 네비게이션약식주소 추출 함수\n",
    "def extract_navigation_address(text):\n",
    "    match = re.search(p, text)\n",
    "    if match:\n",
    "        return match.group()\n",
    "    else:\n",
    "        return ''\n",
    "\n",
    "# '네비게이션약식주소' 열에 동 또는 도로명 주소만 추출하여 채움\n"
   ]
  },
  {
   "cell_type": "code",
   "execution_count": 45,
   "id": "a6e23573",
   "metadata": {
    "ExecuteTime": {
     "end_time": "2023-07-17T04:42:28.688006Z",
     "start_time": "2023-07-17T04:42:28.674015Z"
    }
   },
   "outputs": [],
   "source": [
    "re.match(p,'1919')"
   ]
  },
  {
   "cell_type": "code",
   "execution_count": null,
   "id": "ecd1d398",
   "metadata": {
    "ExecuteTime": {
     "end_time": "2023-07-17T04:42:38.145321Z",
     "start_time": "2023-07-17T04:42:38.066504Z"
    }
   },
   "outputs": [],
   "source": []
  },
  {
   "cell_type": "code",
   "execution_count": 47,
   "id": "4e0bfed1",
   "metadata": {
    "ExecuteTime": {
     "end_time": "2023-07-17T04:42:57.395339Z",
     "start_time": "2023-07-17T04:42:57.386338Z"
    }
   },
   "outputs": [],
   "source": [
    "list = [1,2,3,4,5,1,2,3,4,1,2.23123, 123123.123123]"
   ]
  },
  {
   "cell_type": "code",
   "execution_count": 51,
   "id": "54f27d1d",
   "metadata": {
    "ExecuteTime": {
     "end_time": "2023-07-17T04:43:30.936463Z",
     "start_time": "2023-07-17T04:43:30.922501Z"
    }
   },
   "outputs": [],
   "source": [
    "ax=pd.DataFrame(list)"
   ]
  },
  {
   "cell_type": "code",
   "execution_count": null,
   "id": "94f76ae0",
   "metadata": {
    "ExecuteTime": {
     "end_time": "2023-07-17T04:43:32.840041Z",
     "start_time": "2023-07-17T04:43:32.820094Z"
    }
   },
   "outputs": [],
   "source": []
  },
  {
   "cell_type": "code",
   "execution_count": 57,
   "id": "aeb53bb1",
   "metadata": {
    "ExecuteTime": {
     "end_time": "2023-07-17T04:44:20.740081Z",
     "start_time": "2023-07-17T04:44:20.722105Z"
    }
   },
   "outputs": [],
   "source": [
    "ax.rename({0:'경도체크'}, axis=1, inplace=True)"
   ]
  },
  {
   "cell_type": "code",
   "execution_count": 59,
   "id": "a0c85f3f",
   "metadata": {
    "ExecuteTime": {
     "end_time": "2023-07-17T04:44:40.130327Z",
     "start_time": "2023-07-17T04:44:40.122373Z"
    }
   },
   "outputs": [],
   "source": [
    "ax['체크']="
   ]
  },
  {
   "cell_type": "code",
   "execution_count": 60,
   "id": "6f1c42e3",
   "metadata": {
    "ExecuteTime": {
     "end_time": "2023-07-17T04:44:42.446143Z",
     "start_time": "2023-07-17T04:44:42.426197Z"
    }
   },
   "outputs": [
    {
     "data": {
      "text/html": [
       "<div>\n",
       "<style scoped>\n",
       "    .dataframe tbody tr th:only-of-type {\n",
       "        vertical-align: middle;\n",
       "    }\n",
       "\n",
       "    .dataframe tbody tr th {\n",
       "        vertical-align: top;\n",
       "    }\n",
       "\n",
       "    .dataframe thead th {\n",
       "        text-align: right;\n",
       "    }\n",
       "</style>\n",
       "<table border=\"1\" class=\"dataframe\">\n",
       "  <thead>\n",
       "    <tr style=\"text-align: right;\">\n",
       "      <th></th>\n",
       "      <th>경도체크</th>\n",
       "      <th>체크</th>\n",
       "    </tr>\n",
       "  </thead>\n",
       "  <tbody>\n",
       "    <tr>\n",
       "      <th>0</th>\n",
       "      <td>1.000000</td>\n",
       "      <td>0</td>\n",
       "    </tr>\n",
       "    <tr>\n",
       "      <th>1</th>\n",
       "      <td>2.000000</td>\n",
       "      <td>0</td>\n",
       "    </tr>\n",
       "    <tr>\n",
       "      <th>2</th>\n",
       "      <td>3.000000</td>\n",
       "      <td>0</td>\n",
       "    </tr>\n",
       "    <tr>\n",
       "      <th>3</th>\n",
       "      <td>4.000000</td>\n",
       "      <td>0</td>\n",
       "    </tr>\n",
       "    <tr>\n",
       "      <th>4</th>\n",
       "      <td>5.000000</td>\n",
       "      <td>0</td>\n",
       "    </tr>\n",
       "    <tr>\n",
       "      <th>5</th>\n",
       "      <td>1.000000</td>\n",
       "      <td>0</td>\n",
       "    </tr>\n",
       "    <tr>\n",
       "      <th>6</th>\n",
       "      <td>2.000000</td>\n",
       "      <td>0</td>\n",
       "    </tr>\n",
       "    <tr>\n",
       "      <th>7</th>\n",
       "      <td>3.000000</td>\n",
       "      <td>0</td>\n",
       "    </tr>\n",
       "    <tr>\n",
       "      <th>8</th>\n",
       "      <td>4.000000</td>\n",
       "      <td>0</td>\n",
       "    </tr>\n",
       "    <tr>\n",
       "      <th>9</th>\n",
       "      <td>1.000000</td>\n",
       "      <td>0</td>\n",
       "    </tr>\n",
       "    <tr>\n",
       "      <th>10</th>\n",
       "      <td>2.231230</td>\n",
       "      <td>0</td>\n",
       "    </tr>\n",
       "    <tr>\n",
       "      <th>11</th>\n",
       "      <td>123123.123123</td>\n",
       "      <td>0</td>\n",
       "    </tr>\n",
       "  </tbody>\n",
       "</table>\n",
       "</div>"
      ],
      "text/plain": [
       "             경도체크  체크\n",
       "0        1.000000   0\n",
       "1        2.000000   0\n",
       "2        3.000000   0\n",
       "3        4.000000   0\n",
       "4        5.000000   0\n",
       "5        1.000000   0\n",
       "6        2.000000   0\n",
       "7        3.000000   0\n",
       "8        4.000000   0\n",
       "9        1.000000   0\n",
       "10       2.231230   0\n",
       "11  123123.123123   0"
      ]
     },
     "execution_count": 60,
     "metadata": {},
     "output_type": "execute_result"
    }
   ],
   "source": [
    "ax"
   ]
  },
  {
   "cell_type": "code",
   "execution_count": 62,
   "id": "f705ec52",
   "metadata": {
    "ExecuteTime": {
     "end_time": "2023-07-17T04:47:28.813957Z",
     "start_time": "2023-07-17T04:47:28.802987Z"
    }
   },
   "outputs": [],
   "source": [
    "ax2=ax.drop([0,1,2,3,4,5,6,7,8,9,10,11], axis=0)"
   ]
  },
  {
   "cell_type": "code",
   "execution_count": 67,
   "id": "3d900bfc",
   "metadata": {
    "ExecuteTime": {
     "end_time": "2023-07-17T04:49:53.944314Z",
     "start_time": "2023-07-17T04:49:53.934340Z"
    }
   },
   "outputs": [
    {
     "data": {
      "text/html": [
       "<div>\n",
       "<style scoped>\n",
       "    .dataframe tbody tr th:only-of-type {\n",
       "        vertical-align: middle;\n",
       "    }\n",
       "\n",
       "    .dataframe tbody tr th {\n",
       "        vertical-align: top;\n",
       "    }\n",
       "\n",
       "    .dataframe thead th {\n",
       "        text-align: right;\n",
       "    }\n",
       "</style>\n",
       "<table border=\"1\" class=\"dataframe\">\n",
       "  <thead>\n",
       "    <tr style=\"text-align: right;\">\n",
       "      <th></th>\n",
       "      <th>경도체크</th>\n",
       "      <th>체크</th>\n",
       "    </tr>\n",
       "  </thead>\n",
       "  <tbody>\n",
       "  </tbody>\n",
       "</table>\n",
       "</div>"
      ],
      "text/plain": [
       "Empty DataFrame\n",
       "Columns: [경도체크, 체크]\n",
       "Index: []"
      ]
     },
     "execution_count": 67,
     "metadata": {},
     "output_type": "execute_result"
    }
   ],
   "source": [
    "ax2"
   ]
  },
  {
   "cell_type": "code",
   "execution_count": null,
   "id": "709b6a6e",
   "metadata": {},
   "outputs": [],
   "source": []
  },
  {
   "cell_type": "code",
   "execution_count": 69,
   "id": "bbb37323",
   "metadata": {
    "ExecuteTime": {
     "end_time": "2023-07-17T04:50:06.496187Z",
     "start_time": "2023-07-17T04:50:06.475243Z"
    }
   },
   "outputs": [
    {
     "data": {
      "text/html": [
       "<div>\n",
       "<style scoped>\n",
       "    .dataframe tbody tr th:only-of-type {\n",
       "        vertical-align: middle;\n",
       "    }\n",
       "\n",
       "    .dataframe tbody tr th {\n",
       "        vertical-align: top;\n",
       "    }\n",
       "\n",
       "    .dataframe thead th {\n",
       "        text-align: right;\n",
       "    }\n",
       "</style>\n",
       "<table border=\"1\" class=\"dataframe\">\n",
       "  <thead>\n",
       "    <tr style=\"text-align: right;\">\n",
       "      <th></th>\n",
       "      <th>경도체크</th>\n",
       "      <th>체크</th>\n",
       "      <th>테스트</th>\n",
       "    </tr>\n",
       "  </thead>\n",
       "  <tbody>\n",
       "    <tr>\n",
       "      <th>3</th>\n",
       "      <td>NaN</td>\n",
       "      <td>NaN</td>\n",
       "      <td>129.2784466</td>\n",
       "    </tr>\n",
       "    <tr>\n",
       "      <th>4</th>\n",
       "      <td>NaN</td>\n",
       "      <td>NaN</td>\n",
       "      <td>127.5007304</td>\n",
       "    </tr>\n",
       "    <tr>\n",
       "      <th>5</th>\n",
       "      <td>NaN</td>\n",
       "      <td>NaN</td>\n",
       "      <td>127.9891498</td>\n",
       "    </tr>\n",
       "    <tr>\n",
       "      <th>6</th>\n",
       "      <td>NaN</td>\n",
       "      <td>NaN</td>\n",
       "      <td>127.9462614</td>\n",
       "    </tr>\n",
       "    <tr>\n",
       "      <th>7</th>\n",
       "      <td>NaN</td>\n",
       "      <td>NaN</td>\n",
       "      <td>126.7269798</td>\n",
       "    </tr>\n",
       "    <tr>\n",
       "      <th>...</th>\n",
       "      <td>...</td>\n",
       "      <td>...</td>\n",
       "      <td>...</td>\n",
       "    </tr>\n",
       "    <tr>\n",
       "      <th>1391</th>\n",
       "      <td>NaN</td>\n",
       "      <td>NaN</td>\n",
       "      <td>129.4112633</td>\n",
       "    </tr>\n",
       "    <tr>\n",
       "      <th>1392</th>\n",
       "      <td>NaN</td>\n",
       "      <td>NaN</td>\n",
       "      <td>129.4112633</td>\n",
       "    </tr>\n",
       "    <tr>\n",
       "      <th>1393</th>\n",
       "      <td>NaN</td>\n",
       "      <td>NaN</td>\n",
       "      <td>129.4112633</td>\n",
       "    </tr>\n",
       "    <tr>\n",
       "      <th>1394</th>\n",
       "      <td>NaN</td>\n",
       "      <td>NaN</td>\n",
       "      <td>129.4112633</td>\n",
       "    </tr>\n",
       "    <tr>\n",
       "      <th>1396</th>\n",
       "      <td>NaN</td>\n",
       "      <td>NaN</td>\n",
       "      <td>129.4112633</td>\n",
       "    </tr>\n",
       "  </tbody>\n",
       "</table>\n",
       "<p>1181 rows × 3 columns</p>\n",
       "</div>"
      ],
      "text/plain": [
       "      경도체크  체크          테스트\n",
       "3      NaN NaN  129.2784466\n",
       "4      NaN NaN  127.5007304\n",
       "5      NaN NaN  127.9891498\n",
       "6      NaN NaN  127.9462614\n",
       "7      NaN NaN  126.7269798\n",
       "...    ...  ..          ...\n",
       "1391   NaN NaN  129.4112633\n",
       "1392   NaN NaN  129.4112633\n",
       "1393   NaN NaN  129.4112633\n",
       "1394   NaN NaN  129.4112633\n",
       "1396   NaN NaN  129.4112633\n",
       "\n",
       "[1181 rows x 3 columns]"
      ]
     },
     "execution_count": 69,
     "metadata": {},
     "output_type": "execute_result"
    }
   ],
   "source": [
    "ax2['테스트'] = festival['경도'].apply(str).apply(extract_navigation_address)\n",
    "\n",
    "# 상위 10개 행 출력\n",
    "ax2"
   ]
  },
  {
   "cell_type": "code",
   "execution_count": null,
   "id": "40845534",
   "metadata": {},
   "outputs": [],
   "source": []
  }
 ],
 "metadata": {
  "kernelspec": {
   "display_name": "Python 3 (ipykernel)",
   "language": "python",
   "name": "python3"
  },
  "language_info": {
   "codemirror_mode": {
    "name": "ipython",
    "version": 3
   },
   "file_extension": ".py",
   "mimetype": "text/x-python",
   "name": "python",
   "nbconvert_exporter": "python",
   "pygments_lexer": "ipython3",
   "version": "3.10.11"
  }
 },
 "nbformat": 4,
 "nbformat_minor": 5
}
