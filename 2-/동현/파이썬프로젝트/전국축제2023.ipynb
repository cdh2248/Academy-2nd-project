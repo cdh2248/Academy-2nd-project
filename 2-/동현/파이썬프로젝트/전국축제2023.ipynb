{
 "cells": [
  {
   "cell_type": "markdown",
   "id": "efe7752f",
   "metadata": {},
   "source": [
    "# 데이터 전처리"
   ]
  },
  {
   "cell_type": "code",
   "execution_count": 104,
   "id": "56782576",
   "metadata": {},
   "outputs": [],
   "source": [
    "import pandas as pd\n",
    "import matplotlib.pyplot as plt\n",
    "import seaborn as sns\n",
    "import folium\n",
    "from folium import Marker"
   ]
  },
  {
   "cell_type": "code",
   "execution_count": 105,
   "id": "6c95e3f9",
   "metadata": {},
   "outputs": [
    {
     "data": {
      "text/plain": [
       "(1397, 18)"
      ]
     },
     "execution_count": 105,
     "metadata": {},
     "output_type": "execute_result"
    }
   ],
   "source": [
    "festival = pd.read_csv('전국문화축제표준데이터.csv', encoding='cp949')\n",
    "festival.shape"
   ]
  },
  {
   "cell_type": "code",
   "execution_count": 106,
   "id": "3413ea7d",
   "metadata": {
    "scrolled": true
   },
   "outputs": [
    {
     "data": {
      "text/html": [
       "<div>\n",
       "<style scoped>\n",
       "    .dataframe tbody tr th:only-of-type {\n",
       "        vertical-align: middle;\n",
       "    }\n",
       "\n",
       "    .dataframe tbody tr th {\n",
       "        vertical-align: top;\n",
       "    }\n",
       "\n",
       "    .dataframe thead th {\n",
       "        text-align: right;\n",
       "    }\n",
       "</style>\n",
       "<table border=\"1\" class=\"dataframe\">\n",
       "  <thead>\n",
       "    <tr style=\"text-align: right;\">\n",
       "      <th></th>\n",
       "      <th>축제명</th>\n",
       "      <th>개최장소</th>\n",
       "      <th>축제시작일자</th>\n",
       "      <th>축제종료일자</th>\n",
       "      <th>축제내용</th>\n",
       "      <th>주관기관</th>\n",
       "      <th>주최기관</th>\n",
       "      <th>후원기관</th>\n",
       "      <th>전화번호</th>\n",
       "      <th>홈페이지주소</th>\n",
       "      <th>관련정보</th>\n",
       "      <th>소재지도로명주소</th>\n",
       "      <th>소재지지번주소</th>\n",
       "      <th>위도</th>\n",
       "      <th>경도</th>\n",
       "      <th>데이터기준일자</th>\n",
       "      <th>제공기관코드</th>\n",
       "      <th>제공기관명</th>\n",
       "    </tr>\n",
       "  </thead>\n",
       "  <tbody>\n",
       "    <tr>\n",
       "      <th>0</th>\n",
       "      <td>풍기인삼축제(2022 영주세계풍기인삼 엑스포)</td>\n",
       "      <td>축제풍기인삼문화팝업공원 일원</td>\n",
       "      <td>2022-09-30</td>\n",
       "      <td>2022-10-23</td>\n",
       "      <td>풍기기네스, 풍퀴즈 온더블록, 인삼향 풍기네, 슬기로운 풍기인삼 릴레이콘서트 등</td>\n",
       "      <td>(재)영주세계풍기인삼엑스포조직위원회</td>\n",
       "      <td>영주시</td>\n",
       "      <td>NaN</td>\n",
       "      <td>054-635-0020</td>\n",
       "      <td>http://www.ginsengfestival.co.kr/</td>\n",
       "      <td>NaN</td>\n",
       "      <td>경상북도 영주시 풍기읍 남원로 80</td>\n",
       "      <td>NaN</td>\n",
       "      <td>NaN</td>\n",
       "      <td>NaN</td>\n",
       "      <td>2022-09-28</td>\n",
       "      <td>B551011</td>\n",
       "      <td>한국관광공사</td>\n",
       "    </tr>\n",
       "    <tr>\n",
       "      <th>1</th>\n",
       "      <td>산청한방약초축제</td>\n",
       "      <td>산청IC축제광장+ 동의보감촌</td>\n",
       "      <td>2022-09-30</td>\n",
       "      <td>2022-10-11</td>\n",
       "      <td>동의보감촌 허준순례길 구절초,한방촌거리 체험(대장간, 한의원, 약선음식 체험),동의...</td>\n",
       "      <td>산청한방약초축제위원회</td>\n",
       "      <td>산청군</td>\n",
       "      <td>산청군+산청군농협+한국수력원자력(주)산청양수발전소</td>\n",
       "      <td>055-970-6601</td>\n",
       "      <td>http://scherb.or.kr/</td>\n",
       "      <td>NaN</td>\n",
       "      <td>경상남도 산청군 금서면 동의보감로555번길 61</td>\n",
       "      <td>NaN</td>\n",
       "      <td>NaN</td>\n",
       "      <td>NaN</td>\n",
       "      <td>2022-09-28</td>\n",
       "      <td>B551011</td>\n",
       "      <td>한국관광공사</td>\n",
       "    </tr>\n",
       "    <tr>\n",
       "      <th>2</th>\n",
       "      <td>양양송이축제</td>\n",
       "      <td>강원도 양양군 전통시장 및 남대천 일원</td>\n",
       "      <td>2022-09-30</td>\n",
       "      <td>2022-10-02</td>\n",
       "      <td>송이 보물찾기,송이돌이 만들기, 목공예체험, 버블쇼 공연, 송이볼링과 송이 과녁컬링</td>\n",
       "      <td>양양문화재단</td>\n",
       "      <td>양양군</td>\n",
       "      <td>NaN</td>\n",
       "      <td>033-671-3803</td>\n",
       "      <td>http://yymsfestival.com/index.php</td>\n",
       "      <td>NaN</td>\n",
       "      <td>NaN</td>\n",
       "      <td>강원도 양양군 양양읍 남문리 226-2</td>\n",
       "      <td>NaN</td>\n",
       "      <td>NaN</td>\n",
       "      <td>2022-09-28</td>\n",
       "      <td>B551011</td>\n",
       "      <td>한국관광공사</td>\n",
       "    </tr>\n",
       "    <tr>\n",
       "      <th>3</th>\n",
       "      <td>울산옹기축제</td>\n",
       "      <td>온라인 축제</td>\n",
       "      <td>2022-09-30</td>\n",
       "      <td>2022-10-03</td>\n",
       "      <td>국내 유일의 옹기특화 축제, 온라인비대면축제</td>\n",
       "      <td>울산광역시 울주군청 관광과</td>\n",
       "      <td>울산광역시 울주군청 관광과</td>\n",
       "      <td>NaN</td>\n",
       "      <td>052-204-0355</td>\n",
       "      <td>https://www.onggi.or.kr/</td>\n",
       "      <td>NaN</td>\n",
       "      <td>울산광역시 울주군 온양읍 외고산2길 2-13</td>\n",
       "      <td>울산광역시 울주군 온양읍 고산리 512-4</td>\n",
       "      <td>35.432991</td>\n",
       "      <td>129.278447</td>\n",
       "      <td>2022-09-28</td>\n",
       "      <td>B551011</td>\n",
       "      <td>한국관광공사</td>\n",
       "    </tr>\n",
       "    <tr>\n",
       "      <th>4</th>\n",
       "      <td>금산인삼축제</td>\n",
       "      <td>금산인삼관 광장 및 인삼약초시장 일원</td>\n",
       "      <td>2022-09-30</td>\n",
       "      <td>2022-10-23</td>\n",
       "      <td>ㅇ인삼캐기 체험+인삼약초체험+생활건강 체험 등 건강 체험관 운영+국제인삼교역전+인삼...</td>\n",
       "      <td>금산축제관광재단</td>\n",
       "      <td>충청남도 금산군</td>\n",
       "      <td>NaN</td>\n",
       "      <td>041-750-4144</td>\n",
       "      <td>http://www.insamfestival.co.kr/</td>\n",
       "      <td>NaN</td>\n",
       "      <td>충청남도 금산군 금산읍 인삼광장로 30</td>\n",
       "      <td>충청남도 금산군 금산읍 신대리 392</td>\n",
       "      <td>36.100026</td>\n",
       "      <td>127.500730</td>\n",
       "      <td>2022-09-28</td>\n",
       "      <td>B551011</td>\n",
       "      <td>한국관광공사</td>\n",
       "    </tr>\n",
       "  </tbody>\n",
       "</table>\n",
       "</div>"
      ],
      "text/plain": [
       "                         축제명                   개최장소      축제시작일자      축제종료일자  \\\n",
       "0  풍기인삼축제(2022 영주세계풍기인삼 엑스포)        축제풍기인삼문화팝업공원 일원  2022-09-30  2022-10-23   \n",
       "1                   산청한방약초축제        산청IC축제광장+ 동의보감촌  2022-09-30  2022-10-11   \n",
       "2                     양양송이축제  강원도 양양군 전통시장 및 남대천 일원  2022-09-30  2022-10-02   \n",
       "3                     울산옹기축제                 온라인 축제  2022-09-30  2022-10-03   \n",
       "4                     금산인삼축제   금산인삼관 광장 및 인삼약초시장 일원  2022-09-30  2022-10-23   \n",
       "\n",
       "                                                축제내용                 주관기관  \\\n",
       "0       풍기기네스, 풍퀴즈 온더블록, 인삼향 풍기네, 슬기로운 풍기인삼 릴레이콘서트 등  (재)영주세계풍기인삼엑스포조직위원회   \n",
       "1  동의보감촌 허준순례길 구절초,한방촌거리 체험(대장간, 한의원, 약선음식 체험),동의...          산청한방약초축제위원회   \n",
       "2     송이 보물찾기,송이돌이 만들기, 목공예체험, 버블쇼 공연, 송이볼링과 송이 과녁컬링               양양문화재단   \n",
       "3                           국내 유일의 옹기특화 축제, 온라인비대면축제       울산광역시 울주군청 관광과   \n",
       "4  ㅇ인삼캐기 체험+인삼약초체험+생활건강 체험 등 건강 체험관 운영+국제인삼교역전+인삼...             금산축제관광재단   \n",
       "\n",
       "             주최기관                         후원기관          전화번호  \\\n",
       "0             영주시                          NaN  054-635-0020   \n",
       "1             산청군  산청군+산청군농협+한국수력원자력(주)산청양수발전소  055-970-6601   \n",
       "2             양양군                          NaN  033-671-3803   \n",
       "3  울산광역시 울주군청 관광과                          NaN  052-204-0355   \n",
       "4        충청남도 금산군                          NaN  041-750-4144   \n",
       "\n",
       "                              홈페이지주소 관련정보                    소재지도로명주소  \\\n",
       "0  http://www.ginsengfestival.co.kr/  NaN         경상북도 영주시 풍기읍 남원로 80   \n",
       "1               http://scherb.or.kr/  NaN  경상남도 산청군 금서면 동의보감로555번길 61   \n",
       "2  http://yymsfestival.com/index.php  NaN                         NaN   \n",
       "3           https://www.onggi.or.kr/  NaN    울산광역시 울주군 온양읍 외고산2길 2-13   \n",
       "4    http://www.insamfestival.co.kr/  NaN       충청남도 금산군 금산읍 인삼광장로 30   \n",
       "\n",
       "                   소재지지번주소         위도          경도     데이터기준일자   제공기관코드   제공기관명  \n",
       "0                      NaN        NaN         NaN  2022-09-28  B551011  한국관광공사  \n",
       "1                      NaN        NaN         NaN  2022-09-28  B551011  한국관광공사  \n",
       "2    강원도 양양군 양양읍 남문리 226-2        NaN         NaN  2022-09-28  B551011  한국관광공사  \n",
       "3  울산광역시 울주군 온양읍 고산리 512-4  35.432991  129.278447  2022-09-28  B551011  한국관광공사  \n",
       "4     충청남도 금산군 금산읍 신대리 392  36.100026  127.500730  2022-09-28  B551011  한국관광공사  "
      ]
     },
     "execution_count": 106,
     "metadata": {},
     "output_type": "execute_result"
    }
   ],
   "source": [
    "festival.head()"
   ]
  },
  {
   "cell_type": "code",
   "execution_count": 107,
   "id": "e4faa4d3",
   "metadata": {},
   "outputs": [
    {
     "name": "stdout",
     "output_type": "stream",
     "text": [
      "<class 'pandas.core.frame.DataFrame'>\n",
      "RangeIndex: 1397 entries, 0 to 1396\n",
      "Data columns (total 18 columns):\n",
      " #   Column    Non-Null Count  Dtype  \n",
      "---  ------    --------------  -----  \n",
      " 0   축제명       1397 non-null   object \n",
      " 1   개최장소      1397 non-null   object \n",
      " 2   축제시작일자    1397 non-null   object \n",
      " 3   축제종료일자    1397 non-null   object \n",
      " 4   축제내용      1397 non-null   object \n",
      " 5   주관기관      1397 non-null   object \n",
      " 6   주최기관      1397 non-null   object \n",
      " 7   후원기관      689 non-null    object \n",
      " 8   전화번호      1257 non-null   object \n",
      " 9   홈페이지주소    918 non-null    object \n",
      " 10  관련정보      465 non-null    object \n",
      " 11  소재지도로명주소  1262 non-null   object \n",
      " 12  소재지지번주소   1095 non-null   object \n",
      " 13  위도        1181 non-null   float64\n",
      " 14  경도        1181 non-null   float64\n",
      " 15  데이터기준일자   1397 non-null   object \n",
      " 16  제공기관코드    1397 non-null   object \n",
      " 17  제공기관명     1397 non-null   object \n",
      "dtypes: float64(2), object(16)\n",
      "memory usage: 196.6+ KB\n"
     ]
    }
   ],
   "source": [
    "festival.info()"
   ]
  },
  {
   "cell_type": "code",
   "execution_count": 108,
   "id": "72e9289b",
   "metadata": {
    "scrolled": true
   },
   "outputs": [
    {
     "data": {
      "text/html": [
       "<div>\n",
       "<style scoped>\n",
       "    .dataframe tbody tr th:only-of-type {\n",
       "        vertical-align: middle;\n",
       "    }\n",
       "\n",
       "    .dataframe tbody tr th {\n",
       "        vertical-align: top;\n",
       "    }\n",
       "\n",
       "    .dataframe thead th {\n",
       "        text-align: right;\n",
       "    }\n",
       "</style>\n",
       "<table border=\"1\" class=\"dataframe\">\n",
       "  <thead>\n",
       "    <tr style=\"text-align: right;\">\n",
       "      <th></th>\n",
       "      <th>축제명</th>\n",
       "      <th>개최장소</th>\n",
       "      <th>축제시작일자</th>\n",
       "      <th>축제종료일자</th>\n",
       "      <th>축제내용</th>\n",
       "      <th>주최기관</th>\n",
       "      <th>전화번호</th>\n",
       "      <th>소재지도로명주소</th>\n",
       "      <th>소재지지번주소</th>\n",
       "      <th>위도</th>\n",
       "      <th>경도</th>\n",
       "    </tr>\n",
       "  </thead>\n",
       "  <tbody>\n",
       "    <tr>\n",
       "      <th>0</th>\n",
       "      <td>풍기인삼축제(2022 영주세계풍기인삼 엑스포)</td>\n",
       "      <td>축제풍기인삼문화팝업공원 일원</td>\n",
       "      <td>2022-09-30</td>\n",
       "      <td>2022-10-23</td>\n",
       "      <td>풍기기네스, 풍퀴즈 온더블록, 인삼향 풍기네, 슬기로운 풍기인삼 릴레이콘서트 등</td>\n",
       "      <td>영주시</td>\n",
       "      <td>054-635-0020</td>\n",
       "      <td>경상북도 영주시 풍기읍 남원로 80</td>\n",
       "      <td>NaN</td>\n",
       "      <td>NaN</td>\n",
       "      <td>NaN</td>\n",
       "    </tr>\n",
       "    <tr>\n",
       "      <th>1</th>\n",
       "      <td>산청한방약초축제</td>\n",
       "      <td>산청IC축제광장+ 동의보감촌</td>\n",
       "      <td>2022-09-30</td>\n",
       "      <td>2022-10-11</td>\n",
       "      <td>동의보감촌 허준순례길 구절초,한방촌거리 체험(대장간, 한의원, 약선음식 체험),동의...</td>\n",
       "      <td>산청군</td>\n",
       "      <td>055-970-6601</td>\n",
       "      <td>경상남도 산청군 금서면 동의보감로555번길 61</td>\n",
       "      <td>NaN</td>\n",
       "      <td>NaN</td>\n",
       "      <td>NaN</td>\n",
       "    </tr>\n",
       "    <tr>\n",
       "      <th>2</th>\n",
       "      <td>양양송이축제</td>\n",
       "      <td>강원도 양양군 전통시장 및 남대천 일원</td>\n",
       "      <td>2022-09-30</td>\n",
       "      <td>2022-10-02</td>\n",
       "      <td>송이 보물찾기,송이돌이 만들기, 목공예체험, 버블쇼 공연, 송이볼링과 송이 과녁컬링</td>\n",
       "      <td>양양군</td>\n",
       "      <td>033-671-3803</td>\n",
       "      <td>NaN</td>\n",
       "      <td>강원도 양양군 양양읍 남문리 226-2</td>\n",
       "      <td>NaN</td>\n",
       "      <td>NaN</td>\n",
       "    </tr>\n",
       "    <tr>\n",
       "      <th>3</th>\n",
       "      <td>울산옹기축제</td>\n",
       "      <td>온라인 축제</td>\n",
       "      <td>2022-09-30</td>\n",
       "      <td>2022-10-03</td>\n",
       "      <td>국내 유일의 옹기특화 축제, 온라인비대면축제</td>\n",
       "      <td>울산광역시 울주군청 관광과</td>\n",
       "      <td>052-204-0355</td>\n",
       "      <td>울산광역시 울주군 온양읍 외고산2길 2-13</td>\n",
       "      <td>울산광역시 울주군 온양읍 고산리 512-4</td>\n",
       "      <td>35.432991</td>\n",
       "      <td>129.278447</td>\n",
       "    </tr>\n",
       "    <tr>\n",
       "      <th>4</th>\n",
       "      <td>금산인삼축제</td>\n",
       "      <td>금산인삼관 광장 및 인삼약초시장 일원</td>\n",
       "      <td>2022-09-30</td>\n",
       "      <td>2022-10-23</td>\n",
       "      <td>ㅇ인삼캐기 체험+인삼약초체험+생활건강 체험 등 건강 체험관 운영+국제인삼교역전+인삼...</td>\n",
       "      <td>충청남도 금산군</td>\n",
       "      <td>041-750-4144</td>\n",
       "      <td>충청남도 금산군 금산읍 인삼광장로 30</td>\n",
       "      <td>충청남도 금산군 금산읍 신대리 392</td>\n",
       "      <td>36.100026</td>\n",
       "      <td>127.500730</td>\n",
       "    </tr>\n",
       "    <tr>\n",
       "      <th>...</th>\n",
       "      <td>...</td>\n",
       "      <td>...</td>\n",
       "      <td>...</td>\n",
       "      <td>...</td>\n",
       "      <td>...</td>\n",
       "      <td>...</td>\n",
       "      <td>...</td>\n",
       "      <td>...</td>\n",
       "      <td>...</td>\n",
       "      <td>...</td>\n",
       "      <td>...</td>\n",
       "    </tr>\n",
       "    <tr>\n",
       "      <th>1392</th>\n",
       "      <td>힐링 개그 콘서트</td>\n",
       "      <td>꽃바위문화관 3층 다목적공연장</td>\n",
       "      <td>2021-08-26</td>\n",
       "      <td>2021-08-26</td>\n",
       "      <td>개그x싱어롱</td>\n",
       "      <td>꽃바위문화관</td>\n",
       "      <td>052-209-4330</td>\n",
       "      <td>울산광역시 동구 문현3길 6</td>\n",
       "      <td>울산광역시 동구 방어동 1120-1</td>\n",
       "      <td>35.487058</td>\n",
       "      <td>129.411263</td>\n",
       "    </tr>\n",
       "    <tr>\n",
       "      <th>1393</th>\n",
       "      <td>오페라 팝페라 뽕페라</td>\n",
       "      <td>꽃바위문화관 3층 다목적공연장</td>\n",
       "      <td>2021-09-30</td>\n",
       "      <td>2021-09-30</td>\n",
       "      <td>콘서트</td>\n",
       "      <td>꽃바위문화관</td>\n",
       "      <td>052-209-4330</td>\n",
       "      <td>울산광역시 동구 문현3길 6</td>\n",
       "      <td>울산광역시 동구 방어동 1120-1</td>\n",
       "      <td>35.487058</td>\n",
       "      <td>129.411263</td>\n",
       "    </tr>\n",
       "    <tr>\n",
       "      <th>1394</th>\n",
       "      <td>박강수콘서트</td>\n",
       "      <td>꽃바위문화관 3층 다목적공연장</td>\n",
       "      <td>2021-10-21</td>\n",
       "      <td>2021-10-21</td>\n",
       "      <td>콘서트</td>\n",
       "      <td>꽃바위문화관</td>\n",
       "      <td>052-209-4330</td>\n",
       "      <td>울산광역시 동구 문현3길 6</td>\n",
       "      <td>울산광역시 동구 방어동 1120-1</td>\n",
       "      <td>35.487058</td>\n",
       "      <td>129.411263</td>\n",
       "    </tr>\n",
       "    <tr>\n",
       "      <th>1395</th>\n",
       "      <td>대왕암 해맞이 축제</td>\n",
       "      <td>대왕암</td>\n",
       "      <td>2023-01-01</td>\n",
       "      <td>2023-01-01</td>\n",
       "      <td>해맞이</td>\n",
       "      <td>동울산청년회의소</td>\n",
       "      <td>NaN</td>\n",
       "      <td>NaN</td>\n",
       "      <td>울산광역시 동구 일산동 산907</td>\n",
       "      <td>NaN</td>\n",
       "      <td>NaN</td>\n",
       "    </tr>\n",
       "    <tr>\n",
       "      <th>1396</th>\n",
       "      <td>퓨전 국악의 향연</td>\n",
       "      <td>꽃바위문화관 3층 다목적공연장</td>\n",
       "      <td>2023-05-19</td>\n",
       "      <td>2023-05-19</td>\n",
       "      <td>국악</td>\n",
       "      <td>울산광역시 동구</td>\n",
       "      <td>052-209-4330</td>\n",
       "      <td>울산광역시 동구 문현3길 6</td>\n",
       "      <td>울산광역시 동구 방어동 1120-1</td>\n",
       "      <td>35.487058</td>\n",
       "      <td>129.411263</td>\n",
       "    </tr>\n",
       "  </tbody>\n",
       "</table>\n",
       "<p>1397 rows × 11 columns</p>\n",
       "</div>"
      ],
      "text/plain": [
       "                            축제명                   개최장소      축제시작일자  \\\n",
       "0     풍기인삼축제(2022 영주세계풍기인삼 엑스포)        축제풍기인삼문화팝업공원 일원  2022-09-30   \n",
       "1                      산청한방약초축제        산청IC축제광장+ 동의보감촌  2022-09-30   \n",
       "2                        양양송이축제  강원도 양양군 전통시장 및 남대천 일원  2022-09-30   \n",
       "3                        울산옹기축제                 온라인 축제  2022-09-30   \n",
       "4                        금산인삼축제   금산인삼관 광장 및 인삼약초시장 일원  2022-09-30   \n",
       "...                         ...                    ...         ...   \n",
       "1392                  힐링 개그 콘서트       꽃바위문화관 3층 다목적공연장  2021-08-26   \n",
       "1393                오페라 팝페라 뽕페라       꽃바위문화관 3층 다목적공연장  2021-09-30   \n",
       "1394                     박강수콘서트       꽃바위문화관 3층 다목적공연장  2021-10-21   \n",
       "1395                 대왕암 해맞이 축제                    대왕암  2023-01-01   \n",
       "1396                  퓨전 국악의 향연       꽃바위문화관 3층 다목적공연장  2023-05-19   \n",
       "\n",
       "          축제종료일자                                               축제내용  \\\n",
       "0     2022-10-23       풍기기네스, 풍퀴즈 온더블록, 인삼향 풍기네, 슬기로운 풍기인삼 릴레이콘서트 등   \n",
       "1     2022-10-11  동의보감촌 허준순례길 구절초,한방촌거리 체험(대장간, 한의원, 약선음식 체험),동의...   \n",
       "2     2022-10-02     송이 보물찾기,송이돌이 만들기, 목공예체험, 버블쇼 공연, 송이볼링과 송이 과녁컬링   \n",
       "3     2022-10-03                           국내 유일의 옹기특화 축제, 온라인비대면축제   \n",
       "4     2022-10-23  ㅇ인삼캐기 체험+인삼약초체험+생활건강 체험 등 건강 체험관 운영+국제인삼교역전+인삼...   \n",
       "...          ...                                                ...   \n",
       "1392  2021-08-26                                             개그x싱어롱   \n",
       "1393  2021-09-30                                                콘서트   \n",
       "1394  2021-10-21                                                콘서트   \n",
       "1395  2023-01-01                                                해맞이   \n",
       "1396  2023-05-19                                                 국악   \n",
       "\n",
       "                주최기관          전화번호                    소재지도로명주소  \\\n",
       "0                영주시  054-635-0020         경상북도 영주시 풍기읍 남원로 80   \n",
       "1                산청군  055-970-6601  경상남도 산청군 금서면 동의보감로555번길 61   \n",
       "2                양양군  033-671-3803                         NaN   \n",
       "3     울산광역시 울주군청 관광과  052-204-0355    울산광역시 울주군 온양읍 외고산2길 2-13   \n",
       "4           충청남도 금산군  041-750-4144       충청남도 금산군 금산읍 인삼광장로 30   \n",
       "...              ...           ...                         ...   \n",
       "1392          꽃바위문화관  052-209-4330             울산광역시 동구 문현3길 6   \n",
       "1393          꽃바위문화관  052-209-4330             울산광역시 동구 문현3길 6   \n",
       "1394          꽃바위문화관  052-209-4330             울산광역시 동구 문현3길 6   \n",
       "1395        동울산청년회의소           NaN                         NaN   \n",
       "1396        울산광역시 동구  052-209-4330             울산광역시 동구 문현3길 6   \n",
       "\n",
       "                      소재지지번주소         위도          경도  \n",
       "0                         NaN        NaN         NaN  \n",
       "1                         NaN        NaN         NaN  \n",
       "2       강원도 양양군 양양읍 남문리 226-2        NaN         NaN  \n",
       "3     울산광역시 울주군 온양읍 고산리 512-4  35.432991  129.278447  \n",
       "4        충청남도 금산군 금산읍 신대리 392  36.100026  127.500730  \n",
       "...                       ...        ...         ...  \n",
       "1392      울산광역시 동구 방어동 1120-1  35.487058  129.411263  \n",
       "1393      울산광역시 동구 방어동 1120-1  35.487058  129.411263  \n",
       "1394      울산광역시 동구 방어동 1120-1  35.487058  129.411263  \n",
       "1395        울산광역시 동구 일산동 산907        NaN         NaN  \n",
       "1396      울산광역시 동구 방어동 1120-1  35.487058  129.411263  \n",
       "\n",
       "[1397 rows x 11 columns]"
      ]
     },
     "execution_count": 108,
     "metadata": {},
     "output_type": "execute_result"
    }
   ],
   "source": [
    "# 필요없는 행 삭제\n",
    "drop = ['주관기관', '후원기관', '홈페이지주소', '관련정보', '데이터기준일자', '제공기관코드', '제공기관명']\n",
    "festival.drop(drop, axis=1, inplace=True)\n",
    "festival"
   ]
  },
  {
   "cell_type": "code",
   "execution_count": 109,
   "id": "7a3462f1",
   "metadata": {
    "scrolled": true
   },
   "outputs": [
    {
     "ename": "PermissionError",
     "evalue": "[Errno 13] Permission denied: '축제.csv'",
     "output_type": "error",
     "traceback": [
      "\u001b[1;31m---------------------------------------------------------------------------\u001b[0m",
      "\u001b[1;31mPermissionError\u001b[0m                           Traceback (most recent call last)",
      "Cell \u001b[1;32mIn[109], line 4\u001b[0m\n\u001b[0;32m      2\u001b[0m festival[\u001b[38;5;124m'\u001b[39m\u001b[38;5;124m축제시작일자\u001b[39m\u001b[38;5;124m'\u001b[39m] \u001b[38;5;241m=\u001b[39m pd\u001b[38;5;241m.\u001b[39mto_datetime(festival[\u001b[38;5;124m'\u001b[39m\u001b[38;5;124m축제시작일자\u001b[39m\u001b[38;5;124m'\u001b[39m])\n\u001b[0;32m      3\u001b[0m festival[\u001b[38;5;124m'\u001b[39m\u001b[38;5;124m축제종료일자\u001b[39m\u001b[38;5;124m'\u001b[39m] \u001b[38;5;241m=\u001b[39m pd\u001b[38;5;241m.\u001b[39mto_datetime(festival[\u001b[38;5;124m'\u001b[39m\u001b[38;5;124m축제종료일자\u001b[39m\u001b[38;5;124m'\u001b[39m])\n\u001b[1;32m----> 4\u001b[0m \u001b[43mfestival\u001b[49m\u001b[38;5;241;43m.\u001b[39;49m\u001b[43mto_csv\u001b[49m\u001b[43m(\u001b[49m\u001b[38;5;124;43m'\u001b[39;49m\u001b[38;5;124;43m축제.csv\u001b[39;49m\u001b[38;5;124;43m'\u001b[39;49m\u001b[43m,\u001b[49m\u001b[43m \u001b[49m\u001b[43mmode\u001b[49m\u001b[38;5;241;43m=\u001b[39;49m\u001b[38;5;124;43m'\u001b[39;49m\u001b[38;5;124;43mw\u001b[39;49m\u001b[38;5;124;43m'\u001b[39;49m\u001b[43m,\u001b[49m\u001b[43m \u001b[49m\u001b[43mencoding\u001b[49m\u001b[38;5;241;43m=\u001b[39;49m\u001b[38;5;124;43m'\u001b[39;49m\u001b[38;5;124;43mcp949\u001b[39;49m\u001b[38;5;124;43m'\u001b[39;49m\u001b[43m)\u001b[49m\n\u001b[0;32m      5\u001b[0m festival\u001b[38;5;241m.\u001b[39minfo()\n",
      "File \u001b[1;32m~\\anaconda3\\lib\\site-packages\\pandas\\core\\generic.py:3772\u001b[0m, in \u001b[0;36mNDFrame.to_csv\u001b[1;34m(self, path_or_buf, sep, na_rep, float_format, columns, header, index, index_label, mode, encoding, compression, quoting, quotechar, lineterminator, chunksize, date_format, doublequote, escapechar, decimal, errors, storage_options)\u001b[0m\n\u001b[0;32m   3761\u001b[0m df \u001b[38;5;241m=\u001b[39m \u001b[38;5;28mself\u001b[39m \u001b[38;5;28;01mif\u001b[39;00m \u001b[38;5;28misinstance\u001b[39m(\u001b[38;5;28mself\u001b[39m, ABCDataFrame) \u001b[38;5;28;01melse\u001b[39;00m \u001b[38;5;28mself\u001b[39m\u001b[38;5;241m.\u001b[39mto_frame()\n\u001b[0;32m   3763\u001b[0m formatter \u001b[38;5;241m=\u001b[39m DataFrameFormatter(\n\u001b[0;32m   3764\u001b[0m     frame\u001b[38;5;241m=\u001b[39mdf,\n\u001b[0;32m   3765\u001b[0m     header\u001b[38;5;241m=\u001b[39mheader,\n\u001b[1;32m   (...)\u001b[0m\n\u001b[0;32m   3769\u001b[0m     decimal\u001b[38;5;241m=\u001b[39mdecimal,\n\u001b[0;32m   3770\u001b[0m )\n\u001b[1;32m-> 3772\u001b[0m \u001b[38;5;28;01mreturn\u001b[39;00m \u001b[43mDataFrameRenderer\u001b[49m\u001b[43m(\u001b[49m\u001b[43mformatter\u001b[49m\u001b[43m)\u001b[49m\u001b[38;5;241;43m.\u001b[39;49m\u001b[43mto_csv\u001b[49m\u001b[43m(\u001b[49m\n\u001b[0;32m   3773\u001b[0m \u001b[43m    \u001b[49m\u001b[43mpath_or_buf\u001b[49m\u001b[43m,\u001b[49m\n\u001b[0;32m   3774\u001b[0m \u001b[43m    \u001b[49m\u001b[43mlineterminator\u001b[49m\u001b[38;5;241;43m=\u001b[39;49m\u001b[43mlineterminator\u001b[49m\u001b[43m,\u001b[49m\n\u001b[0;32m   3775\u001b[0m \u001b[43m    \u001b[49m\u001b[43msep\u001b[49m\u001b[38;5;241;43m=\u001b[39;49m\u001b[43msep\u001b[49m\u001b[43m,\u001b[49m\n\u001b[0;32m   3776\u001b[0m \u001b[43m    \u001b[49m\u001b[43mencoding\u001b[49m\u001b[38;5;241;43m=\u001b[39;49m\u001b[43mencoding\u001b[49m\u001b[43m,\u001b[49m\n\u001b[0;32m   3777\u001b[0m \u001b[43m    \u001b[49m\u001b[43merrors\u001b[49m\u001b[38;5;241;43m=\u001b[39;49m\u001b[43merrors\u001b[49m\u001b[43m,\u001b[49m\n\u001b[0;32m   3778\u001b[0m \u001b[43m    \u001b[49m\u001b[43mcompression\u001b[49m\u001b[38;5;241;43m=\u001b[39;49m\u001b[43mcompression\u001b[49m\u001b[43m,\u001b[49m\n\u001b[0;32m   3779\u001b[0m \u001b[43m    \u001b[49m\u001b[43mquoting\u001b[49m\u001b[38;5;241;43m=\u001b[39;49m\u001b[43mquoting\u001b[49m\u001b[43m,\u001b[49m\n\u001b[0;32m   3780\u001b[0m \u001b[43m    \u001b[49m\u001b[43mcolumns\u001b[49m\u001b[38;5;241;43m=\u001b[39;49m\u001b[43mcolumns\u001b[49m\u001b[43m,\u001b[49m\n\u001b[0;32m   3781\u001b[0m \u001b[43m    \u001b[49m\u001b[43mindex_label\u001b[49m\u001b[38;5;241;43m=\u001b[39;49m\u001b[43mindex_label\u001b[49m\u001b[43m,\u001b[49m\n\u001b[0;32m   3782\u001b[0m \u001b[43m    \u001b[49m\u001b[43mmode\u001b[49m\u001b[38;5;241;43m=\u001b[39;49m\u001b[43mmode\u001b[49m\u001b[43m,\u001b[49m\n\u001b[0;32m   3783\u001b[0m \u001b[43m    \u001b[49m\u001b[43mchunksize\u001b[49m\u001b[38;5;241;43m=\u001b[39;49m\u001b[43mchunksize\u001b[49m\u001b[43m,\u001b[49m\n\u001b[0;32m   3784\u001b[0m \u001b[43m    \u001b[49m\u001b[43mquotechar\u001b[49m\u001b[38;5;241;43m=\u001b[39;49m\u001b[43mquotechar\u001b[49m\u001b[43m,\u001b[49m\n\u001b[0;32m   3785\u001b[0m \u001b[43m    \u001b[49m\u001b[43mdate_format\u001b[49m\u001b[38;5;241;43m=\u001b[39;49m\u001b[43mdate_format\u001b[49m\u001b[43m,\u001b[49m\n\u001b[0;32m   3786\u001b[0m \u001b[43m    \u001b[49m\u001b[43mdoublequote\u001b[49m\u001b[38;5;241;43m=\u001b[39;49m\u001b[43mdoublequote\u001b[49m\u001b[43m,\u001b[49m\n\u001b[0;32m   3787\u001b[0m \u001b[43m    \u001b[49m\u001b[43mescapechar\u001b[49m\u001b[38;5;241;43m=\u001b[39;49m\u001b[43mescapechar\u001b[49m\u001b[43m,\u001b[49m\n\u001b[0;32m   3788\u001b[0m \u001b[43m    \u001b[49m\u001b[43mstorage_options\u001b[49m\u001b[38;5;241;43m=\u001b[39;49m\u001b[43mstorage_options\u001b[49m\u001b[43m,\u001b[49m\n\u001b[0;32m   3789\u001b[0m \u001b[43m\u001b[49m\u001b[43m)\u001b[49m\n",
      "File \u001b[1;32m~\\anaconda3\\lib\\site-packages\\pandas\\io\\formats\\format.py:1186\u001b[0m, in \u001b[0;36mDataFrameRenderer.to_csv\u001b[1;34m(self, path_or_buf, encoding, sep, columns, index_label, mode, compression, quoting, quotechar, lineterminator, chunksize, date_format, doublequote, escapechar, errors, storage_options)\u001b[0m\n\u001b[0;32m   1165\u001b[0m     created_buffer \u001b[38;5;241m=\u001b[39m \u001b[38;5;28;01mFalse\u001b[39;00m\n\u001b[0;32m   1167\u001b[0m csv_formatter \u001b[38;5;241m=\u001b[39m CSVFormatter(\n\u001b[0;32m   1168\u001b[0m     path_or_buf\u001b[38;5;241m=\u001b[39mpath_or_buf,\n\u001b[0;32m   1169\u001b[0m     lineterminator\u001b[38;5;241m=\u001b[39mlineterminator,\n\u001b[1;32m   (...)\u001b[0m\n\u001b[0;32m   1184\u001b[0m     formatter\u001b[38;5;241m=\u001b[39m\u001b[38;5;28mself\u001b[39m\u001b[38;5;241m.\u001b[39mfmt,\n\u001b[0;32m   1185\u001b[0m )\n\u001b[1;32m-> 1186\u001b[0m \u001b[43mcsv_formatter\u001b[49m\u001b[38;5;241;43m.\u001b[39;49m\u001b[43msave\u001b[49m\u001b[43m(\u001b[49m\u001b[43m)\u001b[49m\n\u001b[0;32m   1188\u001b[0m \u001b[38;5;28;01mif\u001b[39;00m created_buffer:\n\u001b[0;32m   1189\u001b[0m     \u001b[38;5;28;01massert\u001b[39;00m \u001b[38;5;28misinstance\u001b[39m(path_or_buf, StringIO)\n",
      "File \u001b[1;32m~\\anaconda3\\lib\\site-packages\\pandas\\io\\formats\\csvs.py:240\u001b[0m, in \u001b[0;36mCSVFormatter.save\u001b[1;34m(self)\u001b[0m\n\u001b[0;32m    236\u001b[0m \u001b[38;5;250m\u001b[39m\u001b[38;5;124;03m\"\"\"\u001b[39;00m\n\u001b[0;32m    237\u001b[0m \u001b[38;5;124;03mCreate the writer & save.\u001b[39;00m\n\u001b[0;32m    238\u001b[0m \u001b[38;5;124;03m\"\"\"\u001b[39;00m\n\u001b[0;32m    239\u001b[0m \u001b[38;5;66;03m# apply compression and byte/text conversion\u001b[39;00m\n\u001b[1;32m--> 240\u001b[0m \u001b[38;5;28;01mwith\u001b[39;00m \u001b[43mget_handle\u001b[49m\u001b[43m(\u001b[49m\n\u001b[0;32m    241\u001b[0m \u001b[43m    \u001b[49m\u001b[38;5;28;43mself\u001b[39;49m\u001b[38;5;241;43m.\u001b[39;49m\u001b[43mfilepath_or_buffer\u001b[49m\u001b[43m,\u001b[49m\n\u001b[0;32m    242\u001b[0m \u001b[43m    \u001b[49m\u001b[38;5;28;43mself\u001b[39;49m\u001b[38;5;241;43m.\u001b[39;49m\u001b[43mmode\u001b[49m\u001b[43m,\u001b[49m\n\u001b[0;32m    243\u001b[0m \u001b[43m    \u001b[49m\u001b[43mencoding\u001b[49m\u001b[38;5;241;43m=\u001b[39;49m\u001b[38;5;28;43mself\u001b[39;49m\u001b[38;5;241;43m.\u001b[39;49m\u001b[43mencoding\u001b[49m\u001b[43m,\u001b[49m\n\u001b[0;32m    244\u001b[0m \u001b[43m    \u001b[49m\u001b[43merrors\u001b[49m\u001b[38;5;241;43m=\u001b[39;49m\u001b[38;5;28;43mself\u001b[39;49m\u001b[38;5;241;43m.\u001b[39;49m\u001b[43merrors\u001b[49m\u001b[43m,\u001b[49m\n\u001b[0;32m    245\u001b[0m \u001b[43m    \u001b[49m\u001b[43mcompression\u001b[49m\u001b[38;5;241;43m=\u001b[39;49m\u001b[38;5;28;43mself\u001b[39;49m\u001b[38;5;241;43m.\u001b[39;49m\u001b[43mcompression\u001b[49m\u001b[43m,\u001b[49m\n\u001b[0;32m    246\u001b[0m \u001b[43m    \u001b[49m\u001b[43mstorage_options\u001b[49m\u001b[38;5;241;43m=\u001b[39;49m\u001b[38;5;28;43mself\u001b[39;49m\u001b[38;5;241;43m.\u001b[39;49m\u001b[43mstorage_options\u001b[49m\u001b[43m,\u001b[49m\n\u001b[0;32m    247\u001b[0m \u001b[43m\u001b[49m\u001b[43m)\u001b[49m \u001b[38;5;28;01mas\u001b[39;00m handles:\n\u001b[0;32m    248\u001b[0m     \u001b[38;5;66;03m# Note: self.encoding is irrelevant here\u001b[39;00m\n\u001b[0;32m    249\u001b[0m     \u001b[38;5;28mself\u001b[39m\u001b[38;5;241m.\u001b[39mwriter \u001b[38;5;241m=\u001b[39m csvlib\u001b[38;5;241m.\u001b[39mwriter(\n\u001b[0;32m    250\u001b[0m         handles\u001b[38;5;241m.\u001b[39mhandle,\n\u001b[0;32m    251\u001b[0m         lineterminator\u001b[38;5;241m=\u001b[39m\u001b[38;5;28mself\u001b[39m\u001b[38;5;241m.\u001b[39mlineterminator,\n\u001b[1;32m   (...)\u001b[0m\n\u001b[0;32m    256\u001b[0m         quotechar\u001b[38;5;241m=\u001b[39m\u001b[38;5;28mself\u001b[39m\u001b[38;5;241m.\u001b[39mquotechar,\n\u001b[0;32m    257\u001b[0m     )\n\u001b[0;32m    259\u001b[0m     \u001b[38;5;28mself\u001b[39m\u001b[38;5;241m.\u001b[39m_save()\n",
      "File \u001b[1;32m~\\anaconda3\\lib\\site-packages\\pandas\\io\\common.py:859\u001b[0m, in \u001b[0;36mget_handle\u001b[1;34m(path_or_buf, mode, encoding, compression, memory_map, is_text, errors, storage_options)\u001b[0m\n\u001b[0;32m    854\u001b[0m \u001b[38;5;28;01melif\u001b[39;00m \u001b[38;5;28misinstance\u001b[39m(handle, \u001b[38;5;28mstr\u001b[39m):\n\u001b[0;32m    855\u001b[0m     \u001b[38;5;66;03m# Check whether the filename is to be opened in binary mode.\u001b[39;00m\n\u001b[0;32m    856\u001b[0m     \u001b[38;5;66;03m# Binary mode does not support 'encoding' and 'newline'.\u001b[39;00m\n\u001b[0;32m    857\u001b[0m     \u001b[38;5;28;01mif\u001b[39;00m ioargs\u001b[38;5;241m.\u001b[39mencoding \u001b[38;5;129;01mand\u001b[39;00m \u001b[38;5;124m\"\u001b[39m\u001b[38;5;124mb\u001b[39m\u001b[38;5;124m\"\u001b[39m \u001b[38;5;129;01mnot\u001b[39;00m \u001b[38;5;129;01min\u001b[39;00m ioargs\u001b[38;5;241m.\u001b[39mmode:\n\u001b[0;32m    858\u001b[0m         \u001b[38;5;66;03m# Encoding\u001b[39;00m\n\u001b[1;32m--> 859\u001b[0m         handle \u001b[38;5;241m=\u001b[39m \u001b[38;5;28;43mopen\u001b[39;49m\u001b[43m(\u001b[49m\n\u001b[0;32m    860\u001b[0m \u001b[43m            \u001b[49m\u001b[43mhandle\u001b[49m\u001b[43m,\u001b[49m\n\u001b[0;32m    861\u001b[0m \u001b[43m            \u001b[49m\u001b[43mioargs\u001b[49m\u001b[38;5;241;43m.\u001b[39;49m\u001b[43mmode\u001b[49m\u001b[43m,\u001b[49m\n\u001b[0;32m    862\u001b[0m \u001b[43m            \u001b[49m\u001b[43mencoding\u001b[49m\u001b[38;5;241;43m=\u001b[39;49m\u001b[43mioargs\u001b[49m\u001b[38;5;241;43m.\u001b[39;49m\u001b[43mencoding\u001b[49m\u001b[43m,\u001b[49m\n\u001b[0;32m    863\u001b[0m \u001b[43m            \u001b[49m\u001b[43merrors\u001b[49m\u001b[38;5;241;43m=\u001b[39;49m\u001b[43merrors\u001b[49m\u001b[43m,\u001b[49m\n\u001b[0;32m    864\u001b[0m \u001b[43m            \u001b[49m\u001b[43mnewline\u001b[49m\u001b[38;5;241;43m=\u001b[39;49m\u001b[38;5;124;43m\"\u001b[39;49m\u001b[38;5;124;43m\"\u001b[39;49m\u001b[43m,\u001b[49m\n\u001b[0;32m    865\u001b[0m \u001b[43m        \u001b[49m\u001b[43m)\u001b[49m\n\u001b[0;32m    866\u001b[0m     \u001b[38;5;28;01melse\u001b[39;00m:\n\u001b[0;32m    867\u001b[0m         \u001b[38;5;66;03m# Binary mode\u001b[39;00m\n\u001b[0;32m    868\u001b[0m         handle \u001b[38;5;241m=\u001b[39m \u001b[38;5;28mopen\u001b[39m(handle, ioargs\u001b[38;5;241m.\u001b[39mmode)\n",
      "\u001b[1;31mPermissionError\u001b[0m: [Errno 13] Permission denied: '축제.csv'"
     ]
    }
   ],
   "source": [
    "# 축제일을 오브젝트에서 시간데이터로 바꾸고, 전체축제를 파일로 저장\n",
    "festival['축제시작일자'] = pd.to_datetime(festival['축제시작일자'])\n",
    "festival['축제종료일자'] = pd.to_datetime(festival['축제종료일자'])\n",
    "festival.to_csv('축제.csv', mode='w', encoding='cp949')\n",
    "festival.info()"
   ]
  },
  {
   "cell_type": "code",
   "execution_count": null,
   "id": "a2410c17",
   "metadata": {
    "scrolled": true
   },
   "outputs": [],
   "source": [
    "festival['축제시작일자'] >= pd.to_datetime('2023')"
   ]
  },
  {
   "cell_type": "code",
   "execution_count": 110,
   "id": "71ad0df6",
   "metadata": {
    "scrolled": true
   },
   "outputs": [],
   "source": [
    "# 축제일이 2023년 이후인 축제만 모음\n",
    "# festival2023 = festival[festival['축제시작일자'] >= pd.to_datetime('2023')]\n",
    "# festival2023.to_csv('축제2023.csv', mode='w', encoding='cp949')\n",
    "# festival2023.info()"
   ]
  },
  {
   "cell_type": "code",
   "execution_count": 111,
   "id": "85fa2845",
   "metadata": {},
   "outputs": [
    {
     "data": {
      "text/plain": [
       "축제명           0\n",
       "개최장소          0\n",
       "축제시작일자        0\n",
       "축제종료일자        0\n",
       "축제내용          0\n",
       "주최기관          0\n",
       "전화번호        140\n",
       "소재지도로명주소    135\n",
       "소재지지번주소     302\n",
       "위도          216\n",
       "경도          216\n",
       "dtype: int64"
      ]
     },
     "execution_count": 111,
     "metadata": {},
     "output_type": "execute_result"
    }
   ],
   "source": [
    "festival.isnull().sum()"
   ]
  },
  {
   "cell_type": "code",
   "execution_count": 112,
   "id": "91c45214",
   "metadata": {
    "scrolled": true
   },
   "outputs": [
    {
     "name": "stdout",
     "output_type": "stream",
     "text": [
      "<class 'pandas.core.frame.DataFrame'>\n",
      "Index: 1181 entries, 3 to 1396\n",
      "Data columns (total 11 columns):\n",
      " #   Column    Non-Null Count  Dtype         \n",
      "---  ------    --------------  -----         \n",
      " 0   축제명       1181 non-null   object        \n",
      " 1   개최장소      1181 non-null   object        \n",
      " 2   축제시작일자    1181 non-null   datetime64[ns]\n",
      " 3   축제종료일자    1181 non-null   datetime64[ns]\n",
      " 4   축제내용      1181 non-null   object        \n",
      " 5   주최기관      1181 non-null   object        \n",
      " 6   전화번호      1096 non-null   object        \n",
      " 7   소재지도로명주소  1078 non-null   object        \n",
      " 8   소재지지번주소   1027 non-null   object        \n",
      " 9   위도        1181 non-null   float64       \n",
      " 10  경도        1181 non-null   float64       \n",
      "dtypes: datetime64[ns](2), float64(2), object(7)\n",
      "memory usage: 110.7+ KB\n"
     ]
    }
   ],
   "source": [
    "# 위도, 경도 결측값 있는 데이터 삭제\n",
    "festival = festival[festival['위도'].notnull()]\n",
    "festival.info()"
   ]
  },
  {
   "cell_type": "code",
   "execution_count": 113,
   "id": "3d4836ac",
   "metadata": {
    "scrolled": true
   },
   "outputs": [
    {
     "name": "stderr",
     "output_type": "stream",
     "text": [
      "C:\\Users\\tj-bu\\AppData\\Local\\Temp\\ipykernel_1620\\13213769.py:2: SettingWithCopyWarning: \n",
      "A value is trying to be set on a copy of a slice from a DataFrame.\n",
      "Try using .loc[row_indexer,col_indexer] = value instead\n",
      "\n",
      "See the caveats in the documentation: https://pandas.pydata.org/pandas-docs/stable/user_guide/indexing.html#returning-a-view-versus-a-copy\n",
      "  festival['소재지도로명주소'] = festival['소재지도로명주소'].fillna(festival['소재지지번주소'])\n"
     ]
    }
   ],
   "source": [
    "# 주소 2개를 하나로 통합\n",
    "festival['소재지도로명주소'] = festival['소재지도로명주소'].fillna(festival['소재지지번주소'])"
   ]
  },
  {
   "cell_type": "code",
   "execution_count": 114,
   "id": "df06faca",
   "metadata": {
    "scrolled": true
   },
   "outputs": [
    {
     "data": {
      "text/html": [
       "<div>\n",
       "<style scoped>\n",
       "    .dataframe tbody tr th:only-of-type {\n",
       "        vertical-align: middle;\n",
       "    }\n",
       "\n",
       "    .dataframe tbody tr th {\n",
       "        vertical-align: top;\n",
       "    }\n",
       "\n",
       "    .dataframe thead th {\n",
       "        text-align: right;\n",
       "    }\n",
       "</style>\n",
       "<table border=\"1\" class=\"dataframe\">\n",
       "  <thead>\n",
       "    <tr style=\"text-align: right;\">\n",
       "      <th></th>\n",
       "      <th>축제명</th>\n",
       "      <th>개최장소</th>\n",
       "      <th>축제시작일자</th>\n",
       "      <th>축제종료일자</th>\n",
       "      <th>축제내용</th>\n",
       "      <th>주최기관</th>\n",
       "      <th>전화번호</th>\n",
       "      <th>소재지도로명주소</th>\n",
       "      <th>소재지지번주소</th>\n",
       "      <th>위도</th>\n",
       "      <th>경도</th>\n",
       "    </tr>\n",
       "  </thead>\n",
       "  <tbody>\n",
       "    <tr>\n",
       "      <th>3</th>\n",
       "      <td>울산옹기축제</td>\n",
       "      <td>온라인 축제</td>\n",
       "      <td>2022-09-30</td>\n",
       "      <td>2022-10-03</td>\n",
       "      <td>국내 유일의 옹기특화 축제, 온라인비대면축제</td>\n",
       "      <td>울산광역시 울주군청 관광과</td>\n",
       "      <td>052-204-0355</td>\n",
       "      <td>울산광역시 울주군 온양읍 외고산2길 2-13</td>\n",
       "      <td>울산광역시 울주군 온양읍 고산리 512-4</td>\n",
       "      <td>35.432991</td>\n",
       "      <td>129.278447</td>\n",
       "    </tr>\n",
       "    <tr>\n",
       "      <th>4</th>\n",
       "      <td>금산인삼축제</td>\n",
       "      <td>금산인삼관 광장 및 인삼약초시장 일원</td>\n",
       "      <td>2022-09-30</td>\n",
       "      <td>2022-10-23</td>\n",
       "      <td>ㅇ인삼캐기 체험+인삼약초체험+생활건강 체험 등 건강 체험관 운영+국제인삼교역전+인삼...</td>\n",
       "      <td>충청남도 금산군</td>\n",
       "      <td>041-750-4144</td>\n",
       "      <td>충청남도 금산군 금산읍 인삼광장로 30</td>\n",
       "      <td>충청남도 금산군 금산읍 신대리 392</td>\n",
       "      <td>36.100026</td>\n",
       "      <td>127.500730</td>\n",
       "    </tr>\n",
       "    <tr>\n",
       "      <th>5</th>\n",
       "      <td>횡성한우축제</td>\n",
       "      <td>횡성종합운동장</td>\n",
       "      <td>2022-09-30</td>\n",
       "      <td>2022-10-04</td>\n",
       "      <td>한우구이터+횡성한우 발전포럼+횡성빛축제 등</td>\n",
       "      <td>강원도 횡성군청</td>\n",
       "      <td>033-340-5712</td>\n",
       "      <td>강원도 횡성군 횡성읍 문화체육로 57</td>\n",
       "      <td>강원도 횡성군 횡성읍 북천리 184</td>\n",
       "      <td>37.496087</td>\n",
       "      <td>127.989150</td>\n",
       "    </tr>\n",
       "    <tr>\n",
       "      <th>6</th>\n",
       "      <td>원주다이내믹댄싱카니발</td>\n",
       "      <td>댄싱공연장 및 원일로 일원</td>\n",
       "      <td>2022-10-01</td>\n",
       "      <td>2022-10-03</td>\n",
       "      <td>댄싱경연, 문화예술공연, 각종 체험 등</td>\n",
       "      <td>강원도 원주시청+제36사단</td>\n",
       "      <td>033-737-5132</td>\n",
       "      <td>강원도 원주시 단구로 170</td>\n",
       "      <td>강원도 원주시 명륜동 345</td>\n",
       "      <td>37.336430</td>\n",
       "      <td>127.946261</td>\n",
       "    </tr>\n",
       "    <tr>\n",
       "      <th>7</th>\n",
       "      <td>소래포구축제</td>\n",
       "      <td>인천 남동구 소래포구 일원</td>\n",
       "      <td>2022-10-01</td>\n",
       "      <td>2022-10-03</td>\n",
       "      <td>관광축제</td>\n",
       "      <td>인천광역시 남동구</td>\n",
       "      <td>032-453-2142</td>\n",
       "      <td>인천광역시 남동구 아암대로 1454</td>\n",
       "      <td>인천광역시 남동구 논현동 775</td>\n",
       "      <td>37.387252</td>\n",
       "      <td>126.726980</td>\n",
       "    </tr>\n",
       "    <tr>\n",
       "      <th>...</th>\n",
       "      <td>...</td>\n",
       "      <td>...</td>\n",
       "      <td>...</td>\n",
       "      <td>...</td>\n",
       "      <td>...</td>\n",
       "      <td>...</td>\n",
       "      <td>...</td>\n",
       "      <td>...</td>\n",
       "      <td>...</td>\n",
       "      <td>...</td>\n",
       "      <td>...</td>\n",
       "    </tr>\n",
       "    <tr>\n",
       "      <th>1391</th>\n",
       "      <td>나 때는 말이야</td>\n",
       "      <td>꽃바위문화관 3층 다목적공연장</td>\n",
       "      <td>2021-07-22</td>\n",
       "      <td>2021-07-22</td>\n",
       "      <td>힙합</td>\n",
       "      <td>꽃바위문화관</td>\n",
       "      <td>052-209-4330</td>\n",
       "      <td>울산광역시 동구 문현3길 6</td>\n",
       "      <td>울산광역시 동구 방어동 1120-1</td>\n",
       "      <td>35.487058</td>\n",
       "      <td>129.411263</td>\n",
       "    </tr>\n",
       "    <tr>\n",
       "      <th>1392</th>\n",
       "      <td>힐링 개그 콘서트</td>\n",
       "      <td>꽃바위문화관 3층 다목적공연장</td>\n",
       "      <td>2021-08-26</td>\n",
       "      <td>2021-08-26</td>\n",
       "      <td>개그x싱어롱</td>\n",
       "      <td>꽃바위문화관</td>\n",
       "      <td>052-209-4330</td>\n",
       "      <td>울산광역시 동구 문현3길 6</td>\n",
       "      <td>울산광역시 동구 방어동 1120-1</td>\n",
       "      <td>35.487058</td>\n",
       "      <td>129.411263</td>\n",
       "    </tr>\n",
       "    <tr>\n",
       "      <th>1393</th>\n",
       "      <td>오페라 팝페라 뽕페라</td>\n",
       "      <td>꽃바위문화관 3층 다목적공연장</td>\n",
       "      <td>2021-09-30</td>\n",
       "      <td>2021-09-30</td>\n",
       "      <td>콘서트</td>\n",
       "      <td>꽃바위문화관</td>\n",
       "      <td>052-209-4330</td>\n",
       "      <td>울산광역시 동구 문현3길 6</td>\n",
       "      <td>울산광역시 동구 방어동 1120-1</td>\n",
       "      <td>35.487058</td>\n",
       "      <td>129.411263</td>\n",
       "    </tr>\n",
       "    <tr>\n",
       "      <th>1394</th>\n",
       "      <td>박강수콘서트</td>\n",
       "      <td>꽃바위문화관 3층 다목적공연장</td>\n",
       "      <td>2021-10-21</td>\n",
       "      <td>2021-10-21</td>\n",
       "      <td>콘서트</td>\n",
       "      <td>꽃바위문화관</td>\n",
       "      <td>052-209-4330</td>\n",
       "      <td>울산광역시 동구 문현3길 6</td>\n",
       "      <td>울산광역시 동구 방어동 1120-1</td>\n",
       "      <td>35.487058</td>\n",
       "      <td>129.411263</td>\n",
       "    </tr>\n",
       "    <tr>\n",
       "      <th>1396</th>\n",
       "      <td>퓨전 국악의 향연</td>\n",
       "      <td>꽃바위문화관 3층 다목적공연장</td>\n",
       "      <td>2023-05-19</td>\n",
       "      <td>2023-05-19</td>\n",
       "      <td>국악</td>\n",
       "      <td>울산광역시 동구</td>\n",
       "      <td>052-209-4330</td>\n",
       "      <td>울산광역시 동구 문현3길 6</td>\n",
       "      <td>울산광역시 동구 방어동 1120-1</td>\n",
       "      <td>35.487058</td>\n",
       "      <td>129.411263</td>\n",
       "    </tr>\n",
       "  </tbody>\n",
       "</table>\n",
       "<p>1181 rows × 11 columns</p>\n",
       "</div>"
      ],
      "text/plain": [
       "              축제명                  개최장소     축제시작일자     축제종료일자  \\\n",
       "3          울산옹기축제                온라인 축제 2022-09-30 2022-10-03   \n",
       "4          금산인삼축제  금산인삼관 광장 및 인삼약초시장 일원 2022-09-30 2022-10-23   \n",
       "5          횡성한우축제               횡성종합운동장 2022-09-30 2022-10-04   \n",
       "6     원주다이내믹댄싱카니발        댄싱공연장 및 원일로 일원 2022-10-01 2022-10-03   \n",
       "7          소래포구축제        인천 남동구 소래포구 일원 2022-10-01 2022-10-03   \n",
       "...           ...                   ...        ...        ...   \n",
       "1391     나 때는 말이야      꽃바위문화관 3층 다목적공연장 2021-07-22 2021-07-22   \n",
       "1392    힐링 개그 콘서트      꽃바위문화관 3층 다목적공연장 2021-08-26 2021-08-26   \n",
       "1393  오페라 팝페라 뽕페라      꽃바위문화관 3층 다목적공연장 2021-09-30 2021-09-30   \n",
       "1394       박강수콘서트      꽃바위문화관 3층 다목적공연장 2021-10-21 2021-10-21   \n",
       "1396    퓨전 국악의 향연      꽃바위문화관 3층 다목적공연장 2023-05-19 2023-05-19   \n",
       "\n",
       "                                                   축제내용            주최기관  \\\n",
       "3                              국내 유일의 옹기특화 축제, 온라인비대면축제  울산광역시 울주군청 관광과   \n",
       "4     ㅇ인삼캐기 체험+인삼약초체험+생활건강 체험 등 건강 체험관 운영+국제인삼교역전+인삼...        충청남도 금산군   \n",
       "5                               한우구이터+횡성한우 발전포럼+횡성빛축제 등        강원도 횡성군청   \n",
       "6                                 댄싱경연, 문화예술공연, 각종 체험 등  강원도 원주시청+제36사단   \n",
       "7                                                  관광축제       인천광역시 남동구   \n",
       "...                                                 ...             ...   \n",
       "1391                                                 힙합          꽃바위문화관   \n",
       "1392                                             개그x싱어롱          꽃바위문화관   \n",
       "1393                                                콘서트          꽃바위문화관   \n",
       "1394                                                콘서트          꽃바위문화관   \n",
       "1396                                                 국악        울산광역시 동구   \n",
       "\n",
       "              전화번호                  소재지도로명주소                  소재지지번주소  \\\n",
       "3     052-204-0355  울산광역시 울주군 온양읍 외고산2길 2-13  울산광역시 울주군 온양읍 고산리 512-4   \n",
       "4     041-750-4144     충청남도 금산군 금산읍 인삼광장로 30     충청남도 금산군 금산읍 신대리 392   \n",
       "5     033-340-5712      강원도 횡성군 횡성읍 문화체육로 57      강원도 횡성군 횡성읍 북천리 184   \n",
       "6     033-737-5132           강원도 원주시 단구로 170          강원도 원주시 명륜동 345   \n",
       "7     032-453-2142       인천광역시 남동구 아암대로 1454        인천광역시 남동구 논현동 775   \n",
       "...            ...                       ...                      ...   \n",
       "1391  052-209-4330           울산광역시 동구 문현3길 6      울산광역시 동구 방어동 1120-1   \n",
       "1392  052-209-4330           울산광역시 동구 문현3길 6      울산광역시 동구 방어동 1120-1   \n",
       "1393  052-209-4330           울산광역시 동구 문현3길 6      울산광역시 동구 방어동 1120-1   \n",
       "1394  052-209-4330           울산광역시 동구 문현3길 6      울산광역시 동구 방어동 1120-1   \n",
       "1396  052-209-4330           울산광역시 동구 문현3길 6      울산광역시 동구 방어동 1120-1   \n",
       "\n",
       "             위도          경도  \n",
       "3     35.432991  129.278447  \n",
       "4     36.100026  127.500730  \n",
       "5     37.496087  127.989150  \n",
       "6     37.336430  127.946261  \n",
       "7     37.387252  126.726980  \n",
       "...         ...         ...  \n",
       "1391  35.487058  129.411263  \n",
       "1392  35.487058  129.411263  \n",
       "1393  35.487058  129.411263  \n",
       "1394  35.487058  129.411263  \n",
       "1396  35.487058  129.411263  \n",
       "\n",
       "[1181 rows x 11 columns]"
      ]
     },
     "execution_count": 114,
     "metadata": {},
     "output_type": "execute_result"
    }
   ],
   "source": [
    "festival"
   ]
  },
  {
   "cell_type": "code",
   "execution_count": 115,
   "id": "945f72ef",
   "metadata": {
    "scrolled": true
   },
   "outputs": [
    {
     "name": "stdout",
     "output_type": "stream",
     "text": [
      "<class 'pandas.core.frame.DataFrame'>\n",
      "Index: 1181 entries, 3 to 1396\n",
      "Data columns (total 11 columns):\n",
      " #   Column    Non-Null Count  Dtype         \n",
      "---  ------    --------------  -----         \n",
      " 0   축제명       1181 non-null   object        \n",
      " 1   개최장소      1181 non-null   object        \n",
      " 2   축제시작일자    1181 non-null   datetime64[ns]\n",
      " 3   축제종료일자    1181 non-null   datetime64[ns]\n",
      " 4   축제내용      1181 non-null   object        \n",
      " 5   주최기관      1181 non-null   object        \n",
      " 6   전화번호      1096 non-null   object        \n",
      " 7   소재지도로명주소  1181 non-null   object        \n",
      " 8   소재지지번주소   1027 non-null   object        \n",
      " 9   위도        1181 non-null   float64       \n",
      " 10  경도        1181 non-null   float64       \n",
      "dtypes: datetime64[ns](2), float64(2), object(7)\n",
      "memory usage: 110.7+ KB\n"
     ]
    }
   ],
   "source": [
    "festival.info()"
   ]
  },
  {
   "cell_type": "code",
   "execution_count": 116,
   "id": "c07b67f5",
   "metadata": {
    "scrolled": true
   },
   "outputs": [
    {
     "name": "stdout",
     "output_type": "stream",
     "text": [
      "<class 'pandas.core.frame.DataFrame'>\n",
      "Index: 1181 entries, 3 to 1396\n",
      "Data columns (total 10 columns):\n",
      " #   Column    Non-Null Count  Dtype         \n",
      "---  ------    --------------  -----         \n",
      " 0   축제명       1181 non-null   object        \n",
      " 1   개최장소      1181 non-null   object        \n",
      " 2   축제시작일자    1181 non-null   datetime64[ns]\n",
      " 3   축제종료일자    1181 non-null   datetime64[ns]\n",
      " 4   축제내용      1181 non-null   object        \n",
      " 5   주최기관      1181 non-null   object        \n",
      " 6   전화번호      1096 non-null   object        \n",
      " 7   소재지도로명주소  1181 non-null   object        \n",
      " 8   위도        1181 non-null   float64       \n",
      " 9   경도        1181 non-null   float64       \n",
      "dtypes: datetime64[ns](2), float64(2), object(6)\n",
      "memory usage: 101.5+ KB\n"
     ]
    },
    {
     "name": "stderr",
     "output_type": "stream",
     "text": [
      "C:\\Users\\tj-bu\\AppData\\Local\\Temp\\ipykernel_1620\\2170217170.py:1: SettingWithCopyWarning: \n",
      "A value is trying to be set on a copy of a slice from a DataFrame\n",
      "\n",
      "See the caveats in the documentation: https://pandas.pydata.org/pandas-docs/stable/user_guide/indexing.html#returning-a-view-versus-a-copy\n",
      "  festival.drop('소재지지번주소', axis=1, inplace=True)\n"
     ]
    }
   ],
   "source": [
    "festival.drop('소재지지번주소', axis=1, inplace=True)\n",
    "festival.info()"
   ]
  },
  {
   "cell_type": "code",
   "execution_count": 117,
   "id": "203738ed",
   "metadata": {
    "scrolled": true
   },
   "outputs": [
    {
     "name": "stdout",
     "output_type": "stream",
     "text": [
      "<class 'pandas.core.frame.DataFrame'>\n",
      "Index: 1181 entries, 3 to 1396\n",
      "Data columns (total 10 columns):\n",
      " #   Column  Non-Null Count  Dtype         \n",
      "---  ------  --------------  -----         \n",
      " 0   축제명     1181 non-null   object        \n",
      " 1   개최장소    1181 non-null   object        \n",
      " 2   축제시작일자  1181 non-null   datetime64[ns]\n",
      " 3   축제종료일자  1181 non-null   datetime64[ns]\n",
      " 4   축제내용    1181 non-null   object        \n",
      " 5   주최기관    1181 non-null   object        \n",
      " 6   전화번호    1096 non-null   object        \n",
      " 7   주소      1181 non-null   object        \n",
      " 8   위도      1181 non-null   float64       \n",
      " 9   경도      1181 non-null   float64       \n",
      "dtypes: datetime64[ns](2), float64(2), object(6)\n",
      "memory usage: 101.5+ KB\n"
     ]
    },
    {
     "name": "stderr",
     "output_type": "stream",
     "text": [
      "C:\\Users\\tj-bu\\AppData\\Local\\Temp\\ipykernel_1620\\3665476211.py:1: SettingWithCopyWarning: \n",
      "A value is trying to be set on a copy of a slice from a DataFrame\n",
      "\n",
      "See the caveats in the documentation: https://pandas.pydata.org/pandas-docs/stable/user_guide/indexing.html#returning-a-view-versus-a-copy\n",
      "  festival.rename(columns={'소재지도로명주소':'주소'}, inplace=True)\n"
     ]
    }
   ],
   "source": [
    "festival.rename(columns={'소재지도로명주소':'주소'}, inplace=True)\n",
    "festival.info()"
   ]
  },
  {
   "cell_type": "markdown",
   "id": "788d8189",
   "metadata": {},
   "source": [
    "# 축제내용 전처리(띄어쓰기 +로)"
   ]
  },
  {
   "cell_type": "code",
   "execution_count": 118,
   "id": "75acb4a7",
   "metadata": {},
   "outputs": [
    {
     "name": "stdout",
     "output_type": "stream",
     "text": [
      "              축제명                  개최장소     축제시작일자     축제종료일자  \\\n",
      "3          울산옹기축제                온라인 축제 2022-09-30 2022-10-03   \n",
      "4          금산인삼축제  금산인삼관 광장 및 인삼약초시장 일원 2022-09-30 2022-10-23   \n",
      "5          횡성한우축제               횡성종합운동장 2022-09-30 2022-10-04   \n",
      "6     원주다이내믹댄싱카니발        댄싱공연장 및 원일로 일원 2022-10-01 2022-10-03   \n",
      "7          소래포구축제        인천 남동구 소래포구 일원 2022-10-01 2022-10-03   \n",
      "...           ...                   ...        ...        ...   \n",
      "1391     나 때는 말이야      꽃바위문화관 3층 다목적공연장 2021-07-22 2021-07-22   \n",
      "1392    힐링 개그 콘서트      꽃바위문화관 3층 다목적공연장 2021-08-26 2021-08-26   \n",
      "1393  오페라 팝페라 뽕페라      꽃바위문화관 3층 다목적공연장 2021-09-30 2021-09-30   \n",
      "1394       박강수콘서트      꽃바위문화관 3층 다목적공연장 2021-10-21 2021-10-21   \n",
      "1396    퓨전 국악의 향연      꽃바위문화관 3층 다목적공연장 2023-05-19 2023-05-19   \n",
      "\n",
      "                                                   축제내용            주최기관  \\\n",
      "3                              국내+유일의+옹기특화+축제++온라인비대면축제  울산광역시 울주군청 관광과   \n",
      "4     ㅇ인삼캐기+체험+인삼약초체험+생활건강+체험+등+건강+체험관+운영+국제인삼교역전+인삼...        충청남도 금산군   \n",
      "5                               한우구이터+횡성한우+발전포럼+횡성빛축제+등        강원도 횡성군청   \n",
      "6                                 댄싱경연++문화예술공연++각종+체험+등  강원도 원주시청+제36사단   \n",
      "7                                                  관광축제       인천광역시 남동구   \n",
      "...                                                 ...             ...   \n",
      "1391                                                 힙합          꽃바위문화관   \n",
      "1392                                             개그x싱어롱          꽃바위문화관   \n",
      "1393                                                콘서트          꽃바위문화관   \n",
      "1394                                                콘서트          꽃바위문화관   \n",
      "1396                                                 국악        울산광역시 동구   \n",
      "\n",
      "              전화번호                        주소         위도          경도  \n",
      "3     052-204-0355  울산광역시 울주군 온양읍 외고산2길 2-13  35.432991  129.278447  \n",
      "4     041-750-4144     충청남도 금산군 금산읍 인삼광장로 30  36.100026  127.500730  \n",
      "5     033-340-5712      강원도 횡성군 횡성읍 문화체육로 57  37.496087  127.989150  \n",
      "6     033-737-5132           강원도 원주시 단구로 170  37.336430  127.946261  \n",
      "7     032-453-2142       인천광역시 남동구 아암대로 1454  37.387252  126.726980  \n",
      "...            ...                       ...        ...         ...  \n",
      "1391  052-209-4330           울산광역시 동구 문현3길 6  35.487058  129.411263  \n",
      "1392  052-209-4330           울산광역시 동구 문현3길 6  35.487058  129.411263  \n",
      "1393  052-209-4330           울산광역시 동구 문현3길 6  35.487058  129.411263  \n",
      "1394  052-209-4330           울산광역시 동구 문현3길 6  35.487058  129.411263  \n",
      "1396  052-209-4330           울산광역시 동구 문현3길 6  35.487058  129.411263  \n",
      "\n",
      "[1181 rows x 10 columns]\n"
     ]
    },
    {
     "name": "stderr",
     "output_type": "stream",
     "text": [
      "C:\\Users\\tj-bu\\AppData\\Local\\Temp\\ipykernel_1620\\3260271262.py:2: SettingWithCopyWarning: \n",
      "A value is trying to be set on a copy of a slice from a DataFrame.\n",
      "Try using .loc[row_indexer,col_indexer] = value instead\n",
      "\n",
      "See the caveats in the documentation: https://pandas.pydata.org/pandas-docs/stable/user_guide/indexing.html#returning-a-view-versus-a-copy\n",
      "  festival[target_column] = festival[target_column].str.replace(' ', '+')\n",
      "C:\\Users\\tj-bu\\AppData\\Local\\Temp\\ipykernel_1620\\3260271262.py:3: SettingWithCopyWarning: \n",
      "A value is trying to be set on a copy of a slice from a DataFrame.\n",
      "Try using .loc[row_indexer,col_indexer] = value instead\n",
      "\n",
      "See the caveats in the documentation: https://pandas.pydata.org/pandas-docs/stable/user_guide/indexing.html#returning-a-view-versus-a-copy\n",
      "  festival[target_column] = festival[target_column].str.replace('++', '+')\n",
      "C:\\Users\\tj-bu\\AppData\\Local\\Temp\\ipykernel_1620\\3260271262.py:4: SettingWithCopyWarning: \n",
      "A value is trying to be set on a copy of a slice from a DataFrame.\n",
      "Try using .loc[row_indexer,col_indexer] = value instead\n",
      "\n",
      "See the caveats in the documentation: https://pandas.pydata.org/pandas-docs/stable/user_guide/indexing.html#returning-a-view-versus-a-copy\n",
      "  festival[target_column] = festival[target_column].str.replace(',', '+')\n"
     ]
    }
   ],
   "source": [
    "target_column = '축제내용'\n",
    "festival[target_column] = festival[target_column].str.replace(' ', '+')\n",
    "festival[target_column] = festival[target_column].str.replace('++', '+')\n",
    "festival[target_column] = festival[target_column].str.replace(',', '+')\n",
    "print(festival)"
   ]
  },
  {
   "cell_type": "markdown",
   "id": "40d9fb53",
   "metadata": {},
   "source": [
    "# 완료파일 저장"
   ]
  },
  {
   "cell_type": "code",
   "execution_count": 119,
   "id": "8507af46",
   "metadata": {},
   "outputs": [],
   "source": [
    "festival.to_csv('축제.csv', encoding='cp949')"
   ]
  },
  {
   "cell_type": "markdown",
   "id": "dd42af95",
   "metadata": {},
   "source": [
    "# 데이터 오라클에 넣기"
   ]
  },
  {
   "cell_type": "code",
   "execution_count": 120,
   "id": "5eed5981",
   "metadata": {},
   "outputs": [],
   "source": [
    "import cx_Oracle"
   ]
  },
  {
   "cell_type": "code",
   "execution_count": 121,
   "id": "c08c012a",
   "metadata": {},
   "outputs": [
    {
     "data": {
      "text/plain": [
       "<cx_Oracle.Cursor on <cx_Oracle.Connection to project_thejoeun@192.168.30.240:1521/xe>>"
      ]
     },
     "execution_count": 121,
     "metadata": {},
     "output_type": "execute_result"
    }
   ],
   "source": [
    "con = cx_Oracle.connect('project_thejoeun/1541@192.168.30.240:1521/xe')\n",
    "cur = con.cursor()\n",
    "cur"
   ]
  },
  {
   "cell_type": "code",
   "execution_count": 122,
   "id": "cf84b75d",
   "metadata": {},
   "outputs": [],
   "source": [
    "# NaN을 null로 바꿔줌\n",
    "festival = festival.replace({pd.NA: None})"
   ]
  },
  {
   "cell_type": "code",
   "execution_count": 123,
   "id": "c5b6a059",
   "metadata": {
    "scrolled": false
   },
   "outputs": [
    {
     "data": {
      "text/plain": [
       "축제명                                             보이지 않아도 보이는\n",
       "개최장소                    KT&G 상상마당 춘천 1전시실+KT&G 상상마당 춘천 2전시실\n",
       "축제시작일자                                  2022-07-13 00:00:00\n",
       "축제종료일자                                  2022-07-17 00:00:00\n",
       "축제내용      전시장에서+작품을+관람하고자+할+때++종종+만지지+마세요+눈으로만+보세요.’+라는+...\n",
       "주최기관                                        강원문화재단+공공미터협동조합\n",
       "전화번호                                                   None\n",
       "주소                             강원도 춘천시 스포츠타운길399번길 25 어린이회관\n",
       "위도                                                37.874066\n",
       "경도                                               127.702455\n",
       "Name: 41, dtype: object"
      ]
     },
     "execution_count": 123,
     "metadata": {},
     "output_type": "execute_result"
    }
   ],
   "source": [
    "festival.loc[41]"
   ]
  },
  {
   "cell_type": "code",
   "execution_count": 124,
   "id": "f3838efd",
   "metadata": {},
   "outputs": [],
   "source": [
    "sql_insert = '''\n",
    "            insert into festival(F_NAME, PLACE, OPEN_DATE, CLOSE_DATE, INFO, HOST_OR, PHONE_NUMBER, ADRESS, LATITUDE, HARDNESS)\n",
    "            values(:F_NAME, :PLACE, :OPEN_DATE, :CLOSE_DATE, :INFO, :HOST_OR, :PHONE_NUMBER, :ADRESS, :LATITUDE, :HARDNESS)\n",
    "            '''"
   ]
  },
  {
   "cell_type": "code",
   "execution_count": 126,
   "id": "3b3524e9",
   "metadata": {},
   "outputs": [
    {
     "data": {
      "text/plain": [
       "1181"
      ]
     },
     "execution_count": 126,
     "metadata": {},
     "output_type": "execute_result"
    }
   ],
   "source": [
    "len(festival)"
   ]
  },
  {
   "cell_type": "code",
   "execution_count": 125,
   "id": "c60d13ef",
   "metadata": {},
   "outputs": [],
   "source": [
    "for a in  range(0, len(festival)):\n",
    "    F_NAME = festival.iloc[a]['축제명']\n",
    "    PLACE = festival.iloc[a]['개최장소']\n",
    "    OPEN_DATE = festival.iloc[a]['축제시작일자']\n",
    "    CLOSE_DATE = festival.iloc[a]['축제종료일자']\n",
    "    INFO = festival.iloc[a]['축제내용']\n",
    "    HOST_OR = festival.iloc[a]['주최기관']\n",
    "    PHONE_NUMBER = festival.iloc[a]['전화번호']\n",
    "    ADRESS = festival.iloc[a]['주소']\n",
    "    LATITUDE = festival.iloc[a]['위도']\n",
    "    HARDNESS = festival.iloc[a]['경도']\n",
    "\n",
    "# for F_NAME, PLACE, OPEN_DATE, CLOSE_DATE, INFO, HOST_OR, PHONE_NUMBER, ADRESS, LATITUDE, HARDNESS in zip(festival['축제명'], festival['개최장소'],\n",
    "#                                                                                                          festival['축제시작일자'],festival['축제종료일자'], \n",
    "#                                                                                                          festival['축제내용'],festival['주최기관'], festival['전화번호'], \n",
    "#                                                                                                          festival['주소'], festival['위도'],festival['경도']):\n",
    "    cur.execute(sql_insert,\n",
    "                (   F_NAME, PLACE, OPEN_DATE, CLOSE_DATE, INFO, HOST_OR,\n",
    "                    PHONE_NUMBER, ADRESS, LATITUDE, HARDNESS)\n",
    "                )\n",
    "\n",
    "    con.commit()\n",
    "cur.close()\n",
    "con.close()"
   ]
  },
  {
   "cell_type": "markdown",
   "id": "5e8df192",
   "metadata": {},
   "source": [
    "# 지도 표시"
   ]
  },
  {
   "cell_type": "code",
   "execution_count": 65,
   "id": "067b1ec2",
   "metadata": {},
   "outputs": [],
   "source": [
    "m = folium.Map(zoom_start=2,\n",
    "               width=800, \n",
    "               height=550)"
   ]
  },
  {
   "cell_type": "code",
   "execution_count": null,
   "id": "29c57b4f",
   "metadata": {},
   "outputs": [],
   "source": [
    "for name, place, start, end, memo, call, lat, lng in zip(festival2023['축제명'],festival2023['개최장소'],\n",
    "                                                        festival2023['축제시작일자'],festival2023['축제종료일자'],\n",
    "                                                        festival2023['축제내용'],festival2023['전화번호'],\n",
    "                                                        festival2023['위도'],festival2023['경도']):\n",
    "#     popup = '축제명'+name+'\\t'~~~\n",
    "    Marker(location=[lat, lng],\n",
    "           zoom_start=2,\n",
    "          popup=start,\n",
    "          tooltip=name,\n",
    "          icon=folium.Icon(color='blue', icon='star')).add_to(m)\n",
    "m"
   ]
  },
  {
   "cell_type": "markdown",
   "id": "84fa287a",
   "metadata": {},
   "source": [
    "### \n",
    "* 주소 2개를 하나로 합치고\n",
    "* 주소의 도(강원도 등)명으로 검색기능 만들기\n",
    "* 오라클에 csv파일 넣는거(오라클 테이블 만들고)"
   ]
  },
  {
   "cell_type": "code",
   "execution_count": null,
   "id": "621e7fb6",
   "metadata": {},
   "outputs": [],
   "source": []
  }
 ],
 "metadata": {
  "kernelspec": {
   "display_name": "Python 3 (ipykernel)",
   "language": "python",
   "name": "python3"
  },
  "language_info": {
   "codemirror_mode": {
    "name": "ipython",
    "version": 3
   },
   "file_extension": ".py",
   "mimetype": "text/x-python",
   "name": "python",
   "nbconvert_exporter": "python",
   "pygments_lexer": "ipython3",
   "version": "3.10.11"
  }
 },
 "nbformat": 4,
 "nbformat_minor": 5
}
