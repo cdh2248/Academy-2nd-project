{
 "cells": [
  {
   "cell_type": "code",
   "execution_count": 25,
   "id": "432c7957",
   "metadata": {
    "ExecuteTime": {
     "end_time": "2023-07-10T03:13:15.741579Z",
     "start_time": "2023-07-10T03:13:15.730608Z"
    }
   },
   "outputs": [],
   "source": [
    "import cx_Oracle\n",
    "import pandas as pd"
   ]
  },
  {
   "cell_type": "code",
   "execution_count": 26,
   "id": "ab174ac9",
   "metadata": {
    "ExecuteTime": {
     "end_time": "2023-07-10T03:13:15.804033Z",
     "start_time": "2023-07-10T03:13:15.744571Z"
    }
   },
   "outputs": [
    {
     "data": {
      "text/plain": [
       "<cx_Oracle.Connection to hr@192.168.30.208:1521/xe>"
      ]
     },
     "execution_count": 26,
     "metadata": {},
     "output_type": "execute_result"
    }
   ],
   "source": [
    "#192.168.30.208\n",
    "# conn =cx_Oracle.connect('open_source/1111@192.168.30.208:1521/xe')\n",
    "conn =cx_Oracle.connect('hr/hr@192.168.30.208:1521/xe')\n",
    "conn"
   ]
  },
  {
   "cell_type": "code",
   "execution_count": 27,
   "id": "265d6465",
   "metadata": {
    "ExecuteTime": {
     "end_time": "2023-07-10T03:13:15.819987Z",
     "start_time": "2023-07-10T03:13:15.806951Z"
    }
   },
   "outputs": [],
   "source": [
    "cur= conn.cursor()"
   ]
  },
  {
   "cell_type": "code",
   "execution_count": 28,
   "id": "c3367b45",
   "metadata": {
    "ExecuteTime": {
     "end_time": "2023-07-10T03:13:15.835851Z",
     "start_time": "2023-07-10T03:13:15.823884Z"
    }
   },
   "outputs": [],
   "source": [
    "my_sql=\"\"\"\n",
    "select * from employees\n",
    "\"\"\""
   ]
  },
  {
   "cell_type": "code",
   "execution_count": 29,
   "id": "80f6cbd2",
   "metadata": {
    "ExecuteTime": {
     "end_time": "2023-07-10T03:13:15.851844Z",
     "start_time": "2023-07-10T03:13:15.839841Z"
    }
   },
   "outputs": [
    {
     "data": {
      "text/plain": [
       "<cx_Oracle.Cursor on <cx_Oracle.Connection to hr@192.168.30.208:1521/xe>>"
      ]
     },
     "execution_count": 29,
     "metadata": {},
     "output_type": "execute_result"
    }
   ],
   "source": [
    "cur.execute(my_sql)\n",
    "cur"
   ]
  },
  {
   "cell_type": "code",
   "execution_count": 30,
   "id": "fcc15618",
   "metadata": {
    "ExecuteTime": {
     "end_time": "2023-07-10T03:13:15.883725Z",
     "start_time": "2023-07-10T03:13:15.853804Z"
    }
   },
   "outputs": [
    {
     "data": {
      "text/html": [
       "<div>\n",
       "<style scoped>\n",
       "    .dataframe tbody tr th:only-of-type {\n",
       "        vertical-align: middle;\n",
       "    }\n",
       "\n",
       "    .dataframe tbody tr th {\n",
       "        vertical-align: top;\n",
       "    }\n",
       "\n",
       "    .dataframe thead th {\n",
       "        text-align: right;\n",
       "    }\n",
       "</style>\n",
       "<table border=\"1\" class=\"dataframe\">\n",
       "  <thead>\n",
       "    <tr style=\"text-align: right;\">\n",
       "      <th></th>\n",
       "      <th>0</th>\n",
       "      <th>1</th>\n",
       "      <th>2</th>\n",
       "      <th>3</th>\n",
       "      <th>4</th>\n",
       "      <th>5</th>\n",
       "      <th>6</th>\n",
       "      <th>7</th>\n",
       "      <th>8</th>\n",
       "      <th>9</th>\n",
       "      <th>10</th>\n",
       "    </tr>\n",
       "  </thead>\n",
       "  <tbody>\n",
       "    <tr>\n",
       "      <th>0</th>\n",
       "      <td>100</td>\n",
       "      <td>Steven</td>\n",
       "      <td>King</td>\n",
       "      <td>SKING</td>\n",
       "      <td>515.123.4567</td>\n",
       "      <td>2003-06-17</td>\n",
       "      <td>AD_PRES</td>\n",
       "      <td>24000.0</td>\n",
       "      <td>NaN</td>\n",
       "      <td>NaN</td>\n",
       "      <td>90.0</td>\n",
       "    </tr>\n",
       "    <tr>\n",
       "      <th>1</th>\n",
       "      <td>101</td>\n",
       "      <td>Neena</td>\n",
       "      <td>Kochhar</td>\n",
       "      <td>NKOCHHAR</td>\n",
       "      <td>515.123.4568</td>\n",
       "      <td>2005-09-21</td>\n",
       "      <td>AD_VP</td>\n",
       "      <td>17000.0</td>\n",
       "      <td>NaN</td>\n",
       "      <td>100.0</td>\n",
       "      <td>90.0</td>\n",
       "    </tr>\n",
       "    <tr>\n",
       "      <th>2</th>\n",
       "      <td>102</td>\n",
       "      <td>Lex</td>\n",
       "      <td>De Haan</td>\n",
       "      <td>LDEHAAN</td>\n",
       "      <td>515.123.4569</td>\n",
       "      <td>2001-01-13</td>\n",
       "      <td>AD_VP</td>\n",
       "      <td>17000.0</td>\n",
       "      <td>NaN</td>\n",
       "      <td>100.0</td>\n",
       "      <td>90.0</td>\n",
       "    </tr>\n",
       "    <tr>\n",
       "      <th>3</th>\n",
       "      <td>103</td>\n",
       "      <td>Alexander</td>\n",
       "      <td>Hunold</td>\n",
       "      <td>AHUNOLD</td>\n",
       "      <td>590.423.4567</td>\n",
       "      <td>2006-01-03</td>\n",
       "      <td>IT_PROG</td>\n",
       "      <td>9000.0</td>\n",
       "      <td>NaN</td>\n",
       "      <td>102.0</td>\n",
       "      <td>60.0</td>\n",
       "    </tr>\n",
       "    <tr>\n",
       "      <th>4</th>\n",
       "      <td>104</td>\n",
       "      <td>Bruce</td>\n",
       "      <td>Ernst</td>\n",
       "      <td>BERNST</td>\n",
       "      <td>590.423.4568</td>\n",
       "      <td>2007-05-21</td>\n",
       "      <td>IT_PROG</td>\n",
       "      <td>6000.0</td>\n",
       "      <td>NaN</td>\n",
       "      <td>103.0</td>\n",
       "      <td>60.0</td>\n",
       "    </tr>\n",
       "    <tr>\n",
       "      <th>...</th>\n",
       "      <td>...</td>\n",
       "      <td>...</td>\n",
       "      <td>...</td>\n",
       "      <td>...</td>\n",
       "      <td>...</td>\n",
       "      <td>...</td>\n",
       "      <td>...</td>\n",
       "      <td>...</td>\n",
       "      <td>...</td>\n",
       "      <td>...</td>\n",
       "      <td>...</td>\n",
       "    </tr>\n",
       "    <tr>\n",
       "      <th>102</th>\n",
       "      <td>202</td>\n",
       "      <td>Pat</td>\n",
       "      <td>Fay</td>\n",
       "      <td>PFAY</td>\n",
       "      <td>603.123.6666</td>\n",
       "      <td>2005-08-17</td>\n",
       "      <td>MK_REP</td>\n",
       "      <td>6000.0</td>\n",
       "      <td>NaN</td>\n",
       "      <td>201.0</td>\n",
       "      <td>20.0</td>\n",
       "    </tr>\n",
       "    <tr>\n",
       "      <th>103</th>\n",
       "      <td>203</td>\n",
       "      <td>Susan</td>\n",
       "      <td>Mavris</td>\n",
       "      <td>SMAVRIS</td>\n",
       "      <td>515.123.7777</td>\n",
       "      <td>2002-06-07</td>\n",
       "      <td>HR_REP</td>\n",
       "      <td>6500.0</td>\n",
       "      <td>NaN</td>\n",
       "      <td>101.0</td>\n",
       "      <td>40.0</td>\n",
       "    </tr>\n",
       "    <tr>\n",
       "      <th>104</th>\n",
       "      <td>204</td>\n",
       "      <td>Hermann</td>\n",
       "      <td>Baer</td>\n",
       "      <td>HBAER</td>\n",
       "      <td>515.123.8888</td>\n",
       "      <td>2002-06-07</td>\n",
       "      <td>PR_REP</td>\n",
       "      <td>10000.0</td>\n",
       "      <td>NaN</td>\n",
       "      <td>101.0</td>\n",
       "      <td>70.0</td>\n",
       "    </tr>\n",
       "    <tr>\n",
       "      <th>105</th>\n",
       "      <td>205</td>\n",
       "      <td>Shelley</td>\n",
       "      <td>Higgins</td>\n",
       "      <td>SHIGGINS</td>\n",
       "      <td>515.123.8080</td>\n",
       "      <td>2002-06-07</td>\n",
       "      <td>AC_MGR</td>\n",
       "      <td>12008.0</td>\n",
       "      <td>NaN</td>\n",
       "      <td>101.0</td>\n",
       "      <td>110.0</td>\n",
       "    </tr>\n",
       "    <tr>\n",
       "      <th>106</th>\n",
       "      <td>206</td>\n",
       "      <td>William</td>\n",
       "      <td>Gietz</td>\n",
       "      <td>WGIETZ</td>\n",
       "      <td>515.123.8181</td>\n",
       "      <td>2002-06-07</td>\n",
       "      <td>AC_ACCOUNT</td>\n",
       "      <td>8300.0</td>\n",
       "      <td>NaN</td>\n",
       "      <td>205.0</td>\n",
       "      <td>110.0</td>\n",
       "    </tr>\n",
       "  </tbody>\n",
       "</table>\n",
       "<p>107 rows × 11 columns</p>\n",
       "</div>"
      ],
      "text/plain": [
       "      0          1        2         3             4          5           6   \\\n",
       "0    100     Steven     King     SKING  515.123.4567 2003-06-17     AD_PRES   \n",
       "1    101      Neena  Kochhar  NKOCHHAR  515.123.4568 2005-09-21       AD_VP   \n",
       "2    102        Lex  De Haan   LDEHAAN  515.123.4569 2001-01-13       AD_VP   \n",
       "3    103  Alexander   Hunold   AHUNOLD  590.423.4567 2006-01-03     IT_PROG   \n",
       "4    104      Bruce    Ernst    BERNST  590.423.4568 2007-05-21     IT_PROG   \n",
       "..   ...        ...      ...       ...           ...        ...         ...   \n",
       "102  202        Pat      Fay      PFAY  603.123.6666 2005-08-17      MK_REP   \n",
       "103  203      Susan   Mavris   SMAVRIS  515.123.7777 2002-06-07      HR_REP   \n",
       "104  204    Hermann     Baer     HBAER  515.123.8888 2002-06-07      PR_REP   \n",
       "105  205    Shelley  Higgins  SHIGGINS  515.123.8080 2002-06-07      AC_MGR   \n",
       "106  206    William    Gietz    WGIETZ  515.123.8181 2002-06-07  AC_ACCOUNT   \n",
       "\n",
       "          7   8      9      10  \n",
       "0    24000.0 NaN    NaN   90.0  \n",
       "1    17000.0 NaN  100.0   90.0  \n",
       "2    17000.0 NaN  100.0   90.0  \n",
       "3     9000.0 NaN  102.0   60.0  \n",
       "4     6000.0 NaN  103.0   60.0  \n",
       "..       ...  ..    ...    ...  \n",
       "102   6000.0 NaN  201.0   20.0  \n",
       "103   6500.0 NaN  101.0   40.0  \n",
       "104  10000.0 NaN  101.0   70.0  \n",
       "105  12008.0 NaN  101.0  110.0  \n",
       "106   8300.0 NaN  205.0  110.0  \n",
       "\n",
       "[107 rows x 11 columns]"
      ]
     },
     "execution_count": 30,
     "metadata": {},
     "output_type": "execute_result"
    }
   ],
   "source": [
    "df= pd.DataFrame(cur)\n",
    "df"
   ]
  },
  {
   "cell_type": "code",
   "execution_count": 31,
   "id": "0187ebe1",
   "metadata": {
    "ExecuteTime": {
     "end_time": "2023-07-10T03:13:15.929603Z",
     "start_time": "2023-07-10T03:13:15.885718Z"
    }
   },
   "outputs": [],
   "source": [
    "conn =cx_Oracle.connect('open_source/1111@192.168.30.208:1521/xe')\n",
    "cur= conn.cursor()"
   ]
  },
  {
   "cell_type": "code",
   "execution_count": 32,
   "id": "2a29ea90",
   "metadata": {
    "ExecuteTime": {
     "end_time": "2023-07-10T03:13:15.945559Z",
     "start_time": "2023-07-10T03:13:15.931596Z"
    }
   },
   "outputs": [
    {
     "data": {
      "text/plain": [
       "['시설명',\n",
       " '박물관미술관구분',\n",
       " '소재지도로명주소',\n",
       " '소재지지번주소',\n",
       " '위도',\n",
       " '경도',\n",
       " '운영기관전화번호',\n",
       " '운영기관명',\n",
       " '운영홈페이지',\n",
       " '편의시설정보',\n",
       " '평일관람시작시각',\n",
       " '평일관람종료시각',\n",
       " '공휴일관람시작시각',\n",
       " '공휴일관람종료시각',\n",
       " '휴관정보',\n",
       " '어른관람료',\n",
       " '청소년관람료',\n",
       " '어린이관람료',\n",
       " '관람료기타정보',\n",
       " '박물관미술관소개',\n",
       " '교통안내정보',\n",
       " '관리기관전화번호',\n",
       " '관리기관명',\n",
       " '데이터기준일자',\n",
       " '제공기관코드',\n",
       " '제공기관명']"
      ]
     },
     "execution_count": 32,
     "metadata": {},
     "output_type": "execute_result"
    }
   ],
   "source": [
    "my_sql=\"\"\"\n",
    "SELECT column_name from cols\n",
    "where table_name = 'MUSEUM'\n",
    "\"\"\"\n",
    "cur.execute(my_sql)\n",
    "\n",
    "column_list = [record[0] for record in cur]\n",
    "column_list"
   ]
  },
  {
   "cell_type": "code",
   "execution_count": 33,
   "id": "987f51b5",
   "metadata": {
    "ExecuteTime": {
     "end_time": "2023-07-10T03:13:15.961516Z",
     "start_time": "2023-07-10T03:13:15.948552Z"
    }
   },
   "outputs": [
    {
     "data": {
      "text/plain": [
       "['경도',\n",
       " '공휴일관람시작시각',\n",
       " '공휴일관람종료시각',\n",
       " '관람료기타정보',\n",
       " '관리기관명',\n",
       " '관리기관전화번호',\n",
       " '교통안내정보',\n",
       " '데이터기준일자',\n",
       " '박물관미술관구분',\n",
       " '박물관미술관소개',\n",
       " '소재지도로명주소',\n",
       " '소재지지번주소',\n",
       " '시설명',\n",
       " '어른관람료',\n",
       " '어린이관람료',\n",
       " '운영기관명',\n",
       " '운영기관전화번호',\n",
       " '운영홈페이지',\n",
       " '위도',\n",
       " '제공기관명',\n",
       " '제공기관코드',\n",
       " '청소년관람료',\n",
       " '편의시설정보',\n",
       " '평일관람시작시각',\n",
       " '평일관람종료시각',\n",
       " '휴관정보']"
      ]
     },
     "execution_count": 33,
     "metadata": {},
     "output_type": "execute_result"
    }
   ],
   "source": [
    "column_list_sorted = sorted(column_list)\n",
    "column_list_sorted"
   ]
  },
  {
   "cell_type": "code",
   "execution_count": 34,
   "id": "e6e297ca",
   "metadata": {
    "ExecuteTime": {
     "end_time": "2023-07-10T03:13:15.976476Z",
     "start_time": "2023-07-10T03:13:15.965506Z"
    }
   },
   "outputs": [],
   "source": [
    "#컬럼명을 분석해 데이터의 중요도에 따라 수동으로 조정 후 데이터프레임의 열을 재구성하는게 바람직\n",
    "# column_list_sorted2 = ['시설명','어른관람료','어린이관람료','청소년관람료','운영기관명','운영홈페이지','운영기관전화번호',....]"
   ]
  },
  {
   "cell_type": "code",
   "execution_count": 35,
   "id": "4dd579a6",
   "metadata": {
    "ExecuteTime": {
     "end_time": "2023-07-10T03:13:16.039307Z",
     "start_time": "2023-07-10T03:13:15.979469Z"
    }
   },
   "outputs": [
    {
     "data": {
      "text/html": [
       "<div>\n",
       "<style scoped>\n",
       "    .dataframe tbody tr th:only-of-type {\n",
       "        vertical-align: middle;\n",
       "    }\n",
       "\n",
       "    .dataframe tbody tr th {\n",
       "        vertical-align: top;\n",
       "    }\n",
       "\n",
       "    .dataframe thead th {\n",
       "        text-align: right;\n",
       "    }\n",
       "</style>\n",
       "<table border=\"1\" class=\"dataframe\">\n",
       "  <thead>\n",
       "    <tr style=\"text-align: right;\">\n",
       "      <th></th>\n",
       "      <th>경도</th>\n",
       "      <th>공휴일관람시작시각</th>\n",
       "      <th>공휴일관람종료시각</th>\n",
       "      <th>관람료기타정보</th>\n",
       "      <th>관리기관명</th>\n",
       "      <th>관리기관전화번호</th>\n",
       "      <th>교통안내정보</th>\n",
       "      <th>데이터기준일자</th>\n",
       "      <th>박물관미술관구분</th>\n",
       "      <th>박물관미술관소개</th>\n",
       "      <th>...</th>\n",
       "      <th>운영기관전화번호</th>\n",
       "      <th>운영홈페이지</th>\n",
       "      <th>위도</th>\n",
       "      <th>제공기관명</th>\n",
       "      <th>제공기관코드</th>\n",
       "      <th>청소년관람료</th>\n",
       "      <th>편의시설정보</th>\n",
       "      <th>평일관람시작시각</th>\n",
       "      <th>평일관람종료시각</th>\n",
       "      <th>휴관정보</th>\n",
       "    </tr>\n",
       "  </thead>\n",
       "  <tbody>\n",
       "    <tr>\n",
       "      <th>0</th>\n",
       "      <td>합천박물관</td>\n",
       "      <td>공립</td>\n",
       "      <td>경상남도 합천군 쌍책면 황강옥전로 1558</td>\n",
       "      <td>경상남도 합천군 쌍책면 성산리 504</td>\n",
       "      <td>35.580423</td>\n",
       "      <td>128.282942</td>\n",
       "      <td>055-930-4882</td>\n",
       "      <td>합천박물관</td>\n",
       "      <td>https://www.hc.go.kr/museum.web</td>\n",
       "      <td>주차시설+산책로+야외조각전시+인공폭포+분수대</td>\n",
       "      <td>...</td>\n",
       "      <td>0</td>\n",
       "      <td>0</td>\n",
       "      <td>None</td>\n",
       "      <td>합천박물관은 2004년 12월 9일에 개관하여, 합천 지역의 전통문화와 역사에 대한...</td>\n",
       "      <td>버스: 합천-초계(성태.초계)(합천터미널)에서 쌍책정류장 하차</td>\n",
       "      <td>055-930-4881</td>\n",
       "      <td>경상남도 합천군청</td>\n",
       "      <td>2022-08-29</td>\n",
       "      <td>5480000</td>\n",
       "      <td>경상남도 합천군</td>\n",
       "    </tr>\n",
       "    <tr>\n",
       "      <th>1</th>\n",
       "      <td>합천한의학박물관</td>\n",
       "      <td>사립</td>\n",
       "      <td>경상남도 합천군 용주면 고품길 42</td>\n",
       "      <td>경상남도 합천군 용주면 고품리 284</td>\n",
       "      <td>35.537724</td>\n",
       "      <td>128.101221</td>\n",
       "      <td>055-934-0601</td>\n",
       "      <td>합천한의학박물관</td>\n",
       "      <td>https://hckmm.modoo.at/</td>\n",
       "      <td>주차시설+힐링운동장 + 캠핑시설</td>\n",
       "      <td>...</td>\n",
       "      <td>3000</td>\n",
       "      <td>2500</td>\n",
       "      <td>어른(55세이상)+청소년(20~55세)+어린이(11~19세)</td>\n",
       "      <td>의학박사 고 임판규 옹에 의해 2013년 8월 개관하였다. 양의학의 단점인 하나의 ...</td>\n",
       "      <td>버스: 합천-거창(평학.대병)(합천터미널)에서 고품삼거리정류장 하차</td>\n",
       "      <td>055-930-4895</td>\n",
       "      <td>경상남도 합천군청</td>\n",
       "      <td>2022-08-29</td>\n",
       "      <td>5480000</td>\n",
       "      <td>경상남도 합천군</td>\n",
       "    </tr>\n",
       "    <tr>\n",
       "      <th>2</th>\n",
       "      <td>해인사성보박물관</td>\n",
       "      <td>사립</td>\n",
       "      <td>경상남도 합천군 가야면 가야산로 1742-17</td>\n",
       "      <td>경상남도 합천군 가야면 치인리 산21-1</td>\n",
       "      <td>35.793575</td>\n",
       "      <td>128.094564</td>\n",
       "      <td>055-934-3150</td>\n",
       "      <td>해인사성보박물관</td>\n",
       "      <td>None</td>\n",
       "      <td>주차시설</td>\n",
       "      <td>...</td>\n",
       "      <td>0</td>\n",
       "      <td>0</td>\n",
       "      <td>None</td>\n",
       "      <td>해인사성보박물관은 유네스코 세계문화유산과 세계기록유산으로 등재된 장경판전과 팔만대장...</td>\n",
       "      <td>버스: 합천시외버스터미널에서 해인사행 시외버스 탑승 후 해인사 앞에서 하차</td>\n",
       "      <td>055-930-4895</td>\n",
       "      <td>경상남도 합천군청</td>\n",
       "      <td>2022-08-29</td>\n",
       "      <td>5480000</td>\n",
       "      <td>경상남도 합천군</td>\n",
       "    </tr>\n",
       "    <tr>\n",
       "      <th>3</th>\n",
       "      <td>충현박물관</td>\n",
       "      <td>사립</td>\n",
       "      <td>경기도 광명시 오리로347번길 5-5</td>\n",
       "      <td>경기도 광명시 소하동 1085-16</td>\n",
       "      <td>37.433339</td>\n",
       "      <td>126.878386</td>\n",
       "      <td>02-898-0505</td>\n",
       "      <td>충현문화재단</td>\n",
       "      <td>http://www.chunghyeon.org/</td>\n",
       "      <td>None</td>\n",
       "      <td>...</td>\n",
       "      <td>5000</td>\n",
       "      <td>5000</td>\n",
       "      <td>일반 7000원(성인단체+65세이상+장애인+참전용사(단체포함))+광명시민 5000원...</td>\n",
       "      <td>조선시대 청백리 오리이원익 종가박물관</td>\n",
       "      <td>소하2동 행정복지센터+광명동굴길입구 하차 (버스 : 2+3+11-2+12+17+22...</td>\n",
       "      <td>02-898-0505</td>\n",
       "      <td>경기도 광명시 충현문화재단</td>\n",
       "      <td>2022-10-12</td>\n",
       "      <td>3900000</td>\n",
       "      <td>경기도 광명시</td>\n",
       "    </tr>\n",
       "    <tr>\n",
       "      <th>4</th>\n",
       "      <td>충현박물관</td>\n",
       "      <td>사립</td>\n",
       "      <td>경기도 광명시 오리로347번길 5-6</td>\n",
       "      <td>경기도 광명시 소하동 1084</td>\n",
       "      <td>37.433927</td>\n",
       "      <td>126.877726</td>\n",
       "      <td>02-898-0505</td>\n",
       "      <td>충현문화재단</td>\n",
       "      <td>http://www.chunghyeon.org/</td>\n",
       "      <td>None</td>\n",
       "      <td>...</td>\n",
       "      <td>5000</td>\n",
       "      <td>5000</td>\n",
       "      <td>일반 7000원(성인단체+65세이상+장애인+참전용사(단체포함))+광명시민 5000원...</td>\n",
       "      <td>조선시대 청백리 오리이원익 종가박물관</td>\n",
       "      <td>소하2동 행정복지센터+광명동굴길입구 하차 (버스 : 2+3+11-2+12+17+22...</td>\n",
       "      <td>02-898-0505</td>\n",
       "      <td>경기도 광명시 충현문화재단</td>\n",
       "      <td>2022-10-12</td>\n",
       "      <td>3900000</td>\n",
       "      <td>경기도 광명시</td>\n",
       "    </tr>\n",
       "  </tbody>\n",
       "</table>\n",
       "<p>5 rows × 26 columns</p>\n",
       "</div>"
      ],
      "text/plain": [
       "         경도 공휴일관람시작시각                  공휴일관람종료시각                 관람료기타정보  \\\n",
       "0     합천박물관        공립    경상남도 합천군 쌍책면 황강옥전로 1558    경상남도 합천군 쌍책면 성산리 504   \n",
       "1  합천한의학박물관        사립        경상남도 합천군 용주면 고품길 42    경상남도 합천군 용주면 고품리 284   \n",
       "2  해인사성보박물관        사립  경상남도 합천군 가야면 가야산로 1742-17  경상남도 합천군 가야면 치인리 산21-1   \n",
       "3     충현박물관        사립       경기도 광명시 오리로347번길 5-5     경기도 광명시 소하동 1085-16   \n",
       "4     충현박물관        사립       경기도 광명시 오리로347번길 5-6        경기도 광명시 소하동 1084   \n",
       "\n",
       "       관리기관명    관리기관전화번호        교통안내정보   데이터기준일자  \\\n",
       "0  35.580423  128.282942  055-930-4882     합천박물관   \n",
       "1  35.537724  128.101221  055-934-0601  합천한의학박물관   \n",
       "2  35.793575  128.094564  055-934-3150  해인사성보박물관   \n",
       "3  37.433339  126.878386   02-898-0505    충현문화재단   \n",
       "4  37.433927  126.877726   02-898-0505    충현문화재단   \n",
       "\n",
       "                          박물관미술관구분                  박물관미술관소개  ... 운영기관전화번호  \\\n",
       "0  https://www.hc.go.kr/museum.web  주차시설+산책로+야외조각전시+인공폭포+분수대  ...        0   \n",
       "1          https://hckmm.modoo.at/         주차시설+힐링운동장 + 캠핑시설  ...     3000   \n",
       "2                             None                      주차시설  ...        0   \n",
       "3       http://www.chunghyeon.org/                      None  ...     5000   \n",
       "4       http://www.chunghyeon.org/                      None  ...     5000   \n",
       "\n",
       "  운영홈페이지                                                 위도  \\\n",
       "0      0                                               None   \n",
       "1   2500                  어른(55세이상)+청소년(20~55세)+어린이(11~19세)   \n",
       "2      0                                               None   \n",
       "3   5000  일반 7000원(성인단체+65세이상+장애인+참전용사(단체포함))+광명시민 5000원...   \n",
       "4   5000  일반 7000원(성인단체+65세이상+장애인+참전용사(단체포함))+광명시민 5000원...   \n",
       "\n",
       "                                               제공기관명  \\\n",
       "0  합천박물관은 2004년 12월 9일에 개관하여, 합천 지역의 전통문화와 역사에 대한...   \n",
       "1  의학박사 고 임판규 옹에 의해 2013년 8월 개관하였다. 양의학의 단점인 하나의 ...   \n",
       "2  해인사성보박물관은 유네스코 세계문화유산과 세계기록유산으로 등재된 장경판전과 팔만대장...   \n",
       "3                               조선시대 청백리 오리이원익 종가박물관   \n",
       "4                               조선시대 청백리 오리이원익 종가박물관   \n",
       "\n",
       "                                              제공기관코드        청소년관람료  \\\n",
       "0                 버스: 합천-초계(성태.초계)(합천터미널)에서 쌍책정류장 하차  055-930-4881   \n",
       "1              버스: 합천-거창(평학.대병)(합천터미널)에서 고품삼거리정류장 하차  055-930-4895   \n",
       "2          버스: 합천시외버스터미널에서 해인사행 시외버스 탑승 후 해인사 앞에서 하차  055-930-4895   \n",
       "3  소하2동 행정복지센터+광명동굴길입구 하차 (버스 : 2+3+11-2+12+17+22...   02-898-0505   \n",
       "4  소하2동 행정복지센터+광명동굴길입구 하차 (버스 : 2+3+11-2+12+17+22...   02-898-0505   \n",
       "\n",
       "           편의시설정보   평일관람시작시각 평일관람종료시각      휴관정보  \n",
       "0       경상남도 합천군청 2022-08-29  5480000  경상남도 합천군  \n",
       "1       경상남도 합천군청 2022-08-29  5480000  경상남도 합천군  \n",
       "2       경상남도 합천군청 2022-08-29  5480000  경상남도 합천군  \n",
       "3  경기도 광명시 충현문화재단 2022-10-12  3900000   경기도 광명시  \n",
       "4  경기도 광명시 충현문화재단 2022-10-12  3900000   경기도 광명시  \n",
       "\n",
       "[5 rows x 26 columns]"
      ]
     },
     "execution_count": 35,
     "metadata": {},
     "output_type": "execute_result"
    }
   ],
   "source": [
    "my_sql=\"\"\"\n",
    "select * from museum\n",
    "\"\"\"\n",
    "cur.execute(my_sql)\n",
    "# df= pd.DataFrame(cur,columns=column_list)\n",
    "df= pd.DataFrame(cur,columns=column_list_sorted)\n",
    "df.head()"
   ]
  },
  {
   "cell_type": "code",
   "execution_count": null,
   "id": "965327ef",
   "metadata": {},
   "outputs": [],
   "source": []
  },
  {
   "cell_type": "code",
   "execution_count": null,
   "id": "ef4b40d4",
   "metadata": {},
   "outputs": [],
   "source": []
  }
 ],
 "metadata": {
  "kernelspec": {
   "display_name": "Python 3 (ipykernel)",
   "language": "python",
   "name": "python3"
  },
  "language_info": {
   "codemirror_mode": {
    "name": "ipython",
    "version": 3
   },
   "file_extension": ".py",
   "mimetype": "text/x-python",
   "name": "python",
   "nbconvert_exporter": "python",
   "pygments_lexer": "ipython3",
   "version": "3.10.11"
  }
 },
 "nbformat": 4,
 "nbformat_minor": 5
}
